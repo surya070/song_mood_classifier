{
 "cells": [
  {
   "cell_type": "code",
   "execution_count": 3,
   "id": "0581a8a3-6130-47c1-8b61-457f78156b36",
   "metadata": {},
   "outputs": [
    {
     "name": "stdout",
     "output_type": "stream",
     "text": [
      "Done\n"
     ]
    }
   ],
   "source": [
    "#IMPORT THE LIBRARIES\n",
    "import pandas as pd\n",
    "import numpy as np\n",
    "\n",
    "import os\n",
    "import sys\n",
    "\n",
    "# librosa is a Python library for analyzing audio and music. It can be used to extract the data from the audio files we will see it later.\n",
    "import librosa\n",
    "import librosa.display\n",
    "import seaborn as sns\n",
    "import matplotlib.pyplot as plt\n",
    "\n",
    "from sklearn.preprocessing import StandardScaler, OneHotEncoder\n",
    "from sklearn.metrics import confusion_matrix, classification_report\n",
    "from sklearn.model_selection import train_test_split\n",
    "\n",
    "# to play the audio files\n",
    "import IPython.display as ipd\n",
    "from IPython.display import Audio\n",
    "import keras\n",
    "from keras.preprocessing import sequence\n",
    "from keras.models import Sequential\n",
    "from keras.layers import Dense, Embedding\n",
    "from keras.layers import LSTM,BatchNormalization , GRU\n",
    "from keras.preprocessing.sequence import pad_sequences\n",
    "from tensorflow.keras.utils import to_categorical\n",
    "from keras.layers import Input, Flatten, Dropout, Activation\n",
    "from keras.layers import Conv1D, MaxPooling1D, AveragePooling1D\n",
    "from keras.models import Model\n",
    "from keras.callbacks import ModelCheckpoint\n",
    "from tensorflow.keras.optimizers import SGD\n",
    "\n",
    "\n",
    "\n",
    "import warnings\n",
    "if not sys.warnoptions:\n",
    "    warnings.simplefilter(\"ignore\")\n",
    "warnings.filterwarnings(\"ignore\", category=DeprecationWarning) \n",
    "import tensorflow as tf \n",
    "print (\"Done\")"
   ]
  },
  {
   "cell_type": "code",
   "execution_count": 57,
   "id": "0b88e096-1282-404f-8cf5-6eb38f7cc7ff",
   "metadata": {},
   "outputs": [],
   "source": [
    "audio = r'C:\\Users\\mahes\\Rvu-Python\\Song-mood\\code\\archive\\dataset\\Audio'\n",
    "music_directory = os.listdir(audio)"
   ]
  },
  {
   "cell_type": "code",
   "execution_count": 59,
   "id": "0750b3c8-32a4-4ade-ad70-5adeae8f1f73",
   "metadata": {},
   "outputs": [
    {
     "name": "stdout",
     "output_type": "stream",
     "text": [
      "['C:\\\\Users\\\\mahes\\\\Rvu-Python\\\\Song-mood\\\\code\\\\archive\\\\dataset\\\\Audio\\\\001.mp3', 'C:\\\\Users\\\\mahes\\\\Rvu-Python\\\\Song-mood\\\\code\\\\archive\\\\dataset\\\\Audio\\\\002.mp3', 'C:\\\\Users\\\\mahes\\\\Rvu-Python\\\\Song-mood\\\\code\\\\archive\\\\dataset\\\\Audio\\\\003.mp3', 'C:\\\\Users\\\\mahes\\\\Rvu-Python\\\\Song-mood\\\\code\\\\archive\\\\dataset\\\\Audio\\\\004.mp3', 'C:\\\\Users\\\\mahes\\\\Rvu-Python\\\\Song-mood\\\\code\\\\archive\\\\dataset\\\\Audio\\\\005.mp3', 'C:\\\\Users\\\\mahes\\\\Rvu-Python\\\\Song-mood\\\\code\\\\archive\\\\dataset\\\\Audio\\\\006.mp3', 'C:\\\\Users\\\\mahes\\\\Rvu-Python\\\\Song-mood\\\\code\\\\archive\\\\dataset\\\\Audio\\\\007.mp3', 'C:\\\\Users\\\\mahes\\\\Rvu-Python\\\\Song-mood\\\\code\\\\archive\\\\dataset\\\\Audio\\\\008.mp3', 'C:\\\\Users\\\\mahes\\\\Rvu-Python\\\\Song-mood\\\\code\\\\archive\\\\dataset\\\\Audio\\\\009.mp3', 'C:\\\\Users\\\\mahes\\\\Rvu-Python\\\\Song-mood\\\\code\\\\archive\\\\dataset\\\\Audio\\\\010.mp3', 'C:\\\\Users\\\\mahes\\\\Rvu-Python\\\\Song-mood\\\\code\\\\archive\\\\dataset\\\\Audio\\\\011.mp3', 'C:\\\\Users\\\\mahes\\\\Rvu-Python\\\\Song-mood\\\\code\\\\archive\\\\dataset\\\\Audio\\\\012.mp3', 'C:\\\\Users\\\\mahes\\\\Rvu-Python\\\\Song-mood\\\\code\\\\archive\\\\dataset\\\\Audio\\\\013.mp3', 'C:\\\\Users\\\\mahes\\\\Rvu-Python\\\\Song-mood\\\\code\\\\archive\\\\dataset\\\\Audio\\\\014.mp3', 'C:\\\\Users\\\\mahes\\\\Rvu-Python\\\\Song-mood\\\\code\\\\archive\\\\dataset\\\\Audio\\\\015.mp3', 'C:\\\\Users\\\\mahes\\\\Rvu-Python\\\\Song-mood\\\\code\\\\archive\\\\dataset\\\\Audio\\\\016.mp3', 'C:\\\\Users\\\\mahes\\\\Rvu-Python\\\\Song-mood\\\\code\\\\archive\\\\dataset\\\\Audio\\\\017.mp3', 'C:\\\\Users\\\\mahes\\\\Rvu-Python\\\\Song-mood\\\\code\\\\archive\\\\dataset\\\\Audio\\\\018.mp3', 'C:\\\\Users\\\\mahes\\\\Rvu-Python\\\\Song-mood\\\\code\\\\archive\\\\dataset\\\\Audio\\\\019.mp3', 'C:\\\\Users\\\\mahes\\\\Rvu-Python\\\\Song-mood\\\\code\\\\archive\\\\dataset\\\\Audio\\\\020.mp3', 'C:\\\\Users\\\\mahes\\\\Rvu-Python\\\\Song-mood\\\\code\\\\archive\\\\dataset\\\\Audio\\\\021.mp3', 'C:\\\\Users\\\\mahes\\\\Rvu-Python\\\\Song-mood\\\\code\\\\archive\\\\dataset\\\\Audio\\\\022.mp3', 'C:\\\\Users\\\\mahes\\\\Rvu-Python\\\\Song-mood\\\\code\\\\archive\\\\dataset\\\\Audio\\\\023.mp3', 'C:\\\\Users\\\\mahes\\\\Rvu-Python\\\\Song-mood\\\\code\\\\archive\\\\dataset\\\\Audio\\\\024.mp3', 'C:\\\\Users\\\\mahes\\\\Rvu-Python\\\\Song-mood\\\\code\\\\archive\\\\dataset\\\\Audio\\\\025.mp3', 'C:\\\\Users\\\\mahes\\\\Rvu-Python\\\\Song-mood\\\\code\\\\archive\\\\dataset\\\\Audio\\\\026.mp3', 'C:\\\\Users\\\\mahes\\\\Rvu-Python\\\\Song-mood\\\\code\\\\archive\\\\dataset\\\\Audio\\\\027.mp3', 'C:\\\\Users\\\\mahes\\\\Rvu-Python\\\\Song-mood\\\\code\\\\archive\\\\dataset\\\\Audio\\\\028.mp3', 'C:\\\\Users\\\\mahes\\\\Rvu-Python\\\\Song-mood\\\\code\\\\archive\\\\dataset\\\\Audio\\\\029.mp3', 'C:\\\\Users\\\\mahes\\\\Rvu-Python\\\\Song-mood\\\\code\\\\archive\\\\dataset\\\\Audio\\\\030.mp3', 'C:\\\\Users\\\\mahes\\\\Rvu-Python\\\\Song-mood\\\\code\\\\archive\\\\dataset\\\\Audio\\\\031.mp3', 'C:\\\\Users\\\\mahes\\\\Rvu-Python\\\\Song-mood\\\\code\\\\archive\\\\dataset\\\\Audio\\\\032.mp3', 'C:\\\\Users\\\\mahes\\\\Rvu-Python\\\\Song-mood\\\\code\\\\archive\\\\dataset\\\\Audio\\\\033.mp3', 'C:\\\\Users\\\\mahes\\\\Rvu-Python\\\\Song-mood\\\\code\\\\archive\\\\dataset\\\\Audio\\\\034.mp3', 'C:\\\\Users\\\\mahes\\\\Rvu-Python\\\\Song-mood\\\\code\\\\archive\\\\dataset\\\\Audio\\\\035.mp3', 'C:\\\\Users\\\\mahes\\\\Rvu-Python\\\\Song-mood\\\\code\\\\archive\\\\dataset\\\\Audio\\\\036.mp3', 'C:\\\\Users\\\\mahes\\\\Rvu-Python\\\\Song-mood\\\\code\\\\archive\\\\dataset\\\\Audio\\\\037.mp3', 'C:\\\\Users\\\\mahes\\\\Rvu-Python\\\\Song-mood\\\\code\\\\archive\\\\dataset\\\\Audio\\\\038.mp3', 'C:\\\\Users\\\\mahes\\\\Rvu-Python\\\\Song-mood\\\\code\\\\archive\\\\dataset\\\\Audio\\\\039.mp3', 'C:\\\\Users\\\\mahes\\\\Rvu-Python\\\\Song-mood\\\\code\\\\archive\\\\dataset\\\\Audio\\\\040.mp3', 'C:\\\\Users\\\\mahes\\\\Rvu-Python\\\\Song-mood\\\\code\\\\archive\\\\dataset\\\\Audio\\\\041.mp3', 'C:\\\\Users\\\\mahes\\\\Rvu-Python\\\\Song-mood\\\\code\\\\archive\\\\dataset\\\\Audio\\\\042.mp3', 'C:\\\\Users\\\\mahes\\\\Rvu-Python\\\\Song-mood\\\\code\\\\archive\\\\dataset\\\\Audio\\\\043.mp3', 'C:\\\\Users\\\\mahes\\\\Rvu-Python\\\\Song-mood\\\\code\\\\archive\\\\dataset\\\\Audio\\\\044.mp3', 'C:\\\\Users\\\\mahes\\\\Rvu-Python\\\\Song-mood\\\\code\\\\archive\\\\dataset\\\\Audio\\\\045.mp3', 'C:\\\\Users\\\\mahes\\\\Rvu-Python\\\\Song-mood\\\\code\\\\archive\\\\dataset\\\\Audio\\\\046.mp3', 'C:\\\\Users\\\\mahes\\\\Rvu-Python\\\\Song-mood\\\\code\\\\archive\\\\dataset\\\\Audio\\\\047.mp3', 'C:\\\\Users\\\\mahes\\\\Rvu-Python\\\\Song-mood\\\\code\\\\archive\\\\dataset\\\\Audio\\\\048.mp3', 'C:\\\\Users\\\\mahes\\\\Rvu-Python\\\\Song-mood\\\\code\\\\archive\\\\dataset\\\\Audio\\\\049.mp3', 'C:\\\\Users\\\\mahes\\\\Rvu-Python\\\\Song-mood\\\\code\\\\archive\\\\dataset\\\\Audio\\\\050.mp3', 'C:\\\\Users\\\\mahes\\\\Rvu-Python\\\\Song-mood\\\\code\\\\archive\\\\dataset\\\\Audio\\\\051.mp3', 'C:\\\\Users\\\\mahes\\\\Rvu-Python\\\\Song-mood\\\\code\\\\archive\\\\dataset\\\\Audio\\\\052.mp3', 'C:\\\\Users\\\\mahes\\\\Rvu-Python\\\\Song-mood\\\\code\\\\archive\\\\dataset\\\\Audio\\\\053.mp3', 'C:\\\\Users\\\\mahes\\\\Rvu-Python\\\\Song-mood\\\\code\\\\archive\\\\dataset\\\\Audio\\\\054.mp3', 'C:\\\\Users\\\\mahes\\\\Rvu-Python\\\\Song-mood\\\\code\\\\archive\\\\dataset\\\\Audio\\\\055.mp3', 'C:\\\\Users\\\\mahes\\\\Rvu-Python\\\\Song-mood\\\\code\\\\archive\\\\dataset\\\\Audio\\\\056.mp3', 'C:\\\\Users\\\\mahes\\\\Rvu-Python\\\\Song-mood\\\\code\\\\archive\\\\dataset\\\\Audio\\\\057.mp3', 'C:\\\\Users\\\\mahes\\\\Rvu-Python\\\\Song-mood\\\\code\\\\archive\\\\dataset\\\\Audio\\\\058.mp3', 'C:\\\\Users\\\\mahes\\\\Rvu-Python\\\\Song-mood\\\\code\\\\archive\\\\dataset\\\\Audio\\\\059.mp3', 'C:\\\\Users\\\\mahes\\\\Rvu-Python\\\\Song-mood\\\\code\\\\archive\\\\dataset\\\\Audio\\\\060.mp3', 'C:\\\\Users\\\\mahes\\\\Rvu-Python\\\\Song-mood\\\\code\\\\archive\\\\dataset\\\\Audio\\\\061.mp3', 'C:\\\\Users\\\\mahes\\\\Rvu-Python\\\\Song-mood\\\\code\\\\archive\\\\dataset\\\\Audio\\\\062.mp3', 'C:\\\\Users\\\\mahes\\\\Rvu-Python\\\\Song-mood\\\\code\\\\archive\\\\dataset\\\\Audio\\\\063.mp3', 'C:\\\\Users\\\\mahes\\\\Rvu-Python\\\\Song-mood\\\\code\\\\archive\\\\dataset\\\\Audio\\\\064.mp3', 'C:\\\\Users\\\\mahes\\\\Rvu-Python\\\\Song-mood\\\\code\\\\archive\\\\dataset\\\\Audio\\\\065.mp3', 'C:\\\\Users\\\\mahes\\\\Rvu-Python\\\\Song-mood\\\\code\\\\archive\\\\dataset\\\\Audio\\\\066.mp3', 'C:\\\\Users\\\\mahes\\\\Rvu-Python\\\\Song-mood\\\\code\\\\archive\\\\dataset\\\\Audio\\\\067.mp3', 'C:\\\\Users\\\\mahes\\\\Rvu-Python\\\\Song-mood\\\\code\\\\archive\\\\dataset\\\\Audio\\\\068.mp3', 'C:\\\\Users\\\\mahes\\\\Rvu-Python\\\\Song-mood\\\\code\\\\archive\\\\dataset\\\\Audio\\\\069.mp3', 'C:\\\\Users\\\\mahes\\\\Rvu-Python\\\\Song-mood\\\\code\\\\archive\\\\dataset\\\\Audio\\\\070.mp3', 'C:\\\\Users\\\\mahes\\\\Rvu-Python\\\\Song-mood\\\\code\\\\archive\\\\dataset\\\\Audio\\\\071.mp3', 'C:\\\\Users\\\\mahes\\\\Rvu-Python\\\\Song-mood\\\\code\\\\archive\\\\dataset\\\\Audio\\\\072.mp3', 'C:\\\\Users\\\\mahes\\\\Rvu-Python\\\\Song-mood\\\\code\\\\archive\\\\dataset\\\\Audio\\\\073.mp3', 'C:\\\\Users\\\\mahes\\\\Rvu-Python\\\\Song-mood\\\\code\\\\archive\\\\dataset\\\\Audio\\\\074.mp3', 'C:\\\\Users\\\\mahes\\\\Rvu-Python\\\\Song-mood\\\\code\\\\archive\\\\dataset\\\\Audio\\\\075.mp3', 'C:\\\\Users\\\\mahes\\\\Rvu-Python\\\\Song-mood\\\\code\\\\archive\\\\dataset\\\\Audio\\\\076.mp3', 'C:\\\\Users\\\\mahes\\\\Rvu-Python\\\\Song-mood\\\\code\\\\archive\\\\dataset\\\\Audio\\\\077.mp3', 'C:\\\\Users\\\\mahes\\\\Rvu-Python\\\\Song-mood\\\\code\\\\archive\\\\dataset\\\\Audio\\\\078.mp3', 'C:\\\\Users\\\\mahes\\\\Rvu-Python\\\\Song-mood\\\\code\\\\archive\\\\dataset\\\\Audio\\\\079.mp3', 'C:\\\\Users\\\\mahes\\\\Rvu-Python\\\\Song-mood\\\\code\\\\archive\\\\dataset\\\\Audio\\\\080.mp3', 'C:\\\\Users\\\\mahes\\\\Rvu-Python\\\\Song-mood\\\\code\\\\archive\\\\dataset\\\\Audio\\\\081.mp3', 'C:\\\\Users\\\\mahes\\\\Rvu-Python\\\\Song-mood\\\\code\\\\archive\\\\dataset\\\\Audio\\\\082.mp3', 'C:\\\\Users\\\\mahes\\\\Rvu-Python\\\\Song-mood\\\\code\\\\archive\\\\dataset\\\\Audio\\\\083.mp3', 'C:\\\\Users\\\\mahes\\\\Rvu-Python\\\\Song-mood\\\\code\\\\archive\\\\dataset\\\\Audio\\\\084.mp3', 'C:\\\\Users\\\\mahes\\\\Rvu-Python\\\\Song-mood\\\\code\\\\archive\\\\dataset\\\\Audio\\\\085.mp3', 'C:\\\\Users\\\\mahes\\\\Rvu-Python\\\\Song-mood\\\\code\\\\archive\\\\dataset\\\\Audio\\\\086.mp3', 'C:\\\\Users\\\\mahes\\\\Rvu-Python\\\\Song-mood\\\\code\\\\archive\\\\dataset\\\\Audio\\\\087.mp3', 'C:\\\\Users\\\\mahes\\\\Rvu-Python\\\\Song-mood\\\\code\\\\archive\\\\dataset\\\\Audio\\\\088.mp3', 'C:\\\\Users\\\\mahes\\\\Rvu-Python\\\\Song-mood\\\\code\\\\archive\\\\dataset\\\\Audio\\\\089.mp3', 'C:\\\\Users\\\\mahes\\\\Rvu-Python\\\\Song-mood\\\\code\\\\archive\\\\dataset\\\\Audio\\\\090.mp3', 'C:\\\\Users\\\\mahes\\\\Rvu-Python\\\\Song-mood\\\\code\\\\archive\\\\dataset\\\\Audio\\\\091.mp3', 'C:\\\\Users\\\\mahes\\\\Rvu-Python\\\\Song-mood\\\\code\\\\archive\\\\dataset\\\\Audio\\\\092.mp3', 'C:\\\\Users\\\\mahes\\\\Rvu-Python\\\\Song-mood\\\\code\\\\archive\\\\dataset\\\\Audio\\\\093.mp3', 'C:\\\\Users\\\\mahes\\\\Rvu-Python\\\\Song-mood\\\\code\\\\archive\\\\dataset\\\\Audio\\\\094.mp3', 'C:\\\\Users\\\\mahes\\\\Rvu-Python\\\\Song-mood\\\\code\\\\archive\\\\dataset\\\\Audio\\\\095.mp3', 'C:\\\\Users\\\\mahes\\\\Rvu-Python\\\\Song-mood\\\\code\\\\archive\\\\dataset\\\\Audio\\\\096.mp3', 'C:\\\\Users\\\\mahes\\\\Rvu-Python\\\\Song-mood\\\\code\\\\archive\\\\dataset\\\\Audio\\\\097.mp3', 'C:\\\\Users\\\\mahes\\\\Rvu-Python\\\\Song-mood\\\\code\\\\archive\\\\dataset\\\\Audio\\\\098.mp3', 'C:\\\\Users\\\\mahes\\\\Rvu-Python\\\\Song-mood\\\\code\\\\archive\\\\dataset\\\\Audio\\\\099.mp3', 'C:\\\\Users\\\\mahes\\\\Rvu-Python\\\\Song-mood\\\\code\\\\archive\\\\dataset\\\\Audio\\\\100.mp3', 'C:\\\\Users\\\\mahes\\\\Rvu-Python\\\\Song-mood\\\\code\\\\archive\\\\dataset\\\\Audio\\\\101.mp3', 'C:\\\\Users\\\\mahes\\\\Rvu-Python\\\\Song-mood\\\\code\\\\archive\\\\dataset\\\\Audio\\\\102.mp3', 'C:\\\\Users\\\\mahes\\\\Rvu-Python\\\\Song-mood\\\\code\\\\archive\\\\dataset\\\\Audio\\\\103.mp3', 'C:\\\\Users\\\\mahes\\\\Rvu-Python\\\\Song-mood\\\\code\\\\archive\\\\dataset\\\\Audio\\\\104.mp3', 'C:\\\\Users\\\\mahes\\\\Rvu-Python\\\\Song-mood\\\\code\\\\archive\\\\dataset\\\\Audio\\\\105.mp3', 'C:\\\\Users\\\\mahes\\\\Rvu-Python\\\\Song-mood\\\\code\\\\archive\\\\dataset\\\\Audio\\\\106.mp3', 'C:\\\\Users\\\\mahes\\\\Rvu-Python\\\\Song-mood\\\\code\\\\archive\\\\dataset\\\\Audio\\\\107.mp3', 'C:\\\\Users\\\\mahes\\\\Rvu-Python\\\\Song-mood\\\\code\\\\archive\\\\dataset\\\\Audio\\\\108.mp3', 'C:\\\\Users\\\\mahes\\\\Rvu-Python\\\\Song-mood\\\\code\\\\archive\\\\dataset\\\\Audio\\\\109.mp3', 'C:\\\\Users\\\\mahes\\\\Rvu-Python\\\\Song-mood\\\\code\\\\archive\\\\dataset\\\\Audio\\\\110.mp3', 'C:\\\\Users\\\\mahes\\\\Rvu-Python\\\\Song-mood\\\\code\\\\archive\\\\dataset\\\\Audio\\\\111.mp3', 'C:\\\\Users\\\\mahes\\\\Rvu-Python\\\\Song-mood\\\\code\\\\archive\\\\dataset\\\\Audio\\\\112.mp3', 'C:\\\\Users\\\\mahes\\\\Rvu-Python\\\\Song-mood\\\\code\\\\archive\\\\dataset\\\\Audio\\\\113.mp3', 'C:\\\\Users\\\\mahes\\\\Rvu-Python\\\\Song-mood\\\\code\\\\archive\\\\dataset\\\\Audio\\\\114.mp3', 'C:\\\\Users\\\\mahes\\\\Rvu-Python\\\\Song-mood\\\\code\\\\archive\\\\dataset\\\\Audio\\\\115.mp3', 'C:\\\\Users\\\\mahes\\\\Rvu-Python\\\\Song-mood\\\\code\\\\archive\\\\dataset\\\\Audio\\\\116.mp3', 'C:\\\\Users\\\\mahes\\\\Rvu-Python\\\\Song-mood\\\\code\\\\archive\\\\dataset\\\\Audio\\\\117.mp3', 'C:\\\\Users\\\\mahes\\\\Rvu-Python\\\\Song-mood\\\\code\\\\archive\\\\dataset\\\\Audio\\\\118.mp3', 'C:\\\\Users\\\\mahes\\\\Rvu-Python\\\\Song-mood\\\\code\\\\archive\\\\dataset\\\\Audio\\\\119.mp3', 'C:\\\\Users\\\\mahes\\\\Rvu-Python\\\\Song-mood\\\\code\\\\archive\\\\dataset\\\\Audio\\\\120.mp3', 'C:\\\\Users\\\\mahes\\\\Rvu-Python\\\\Song-mood\\\\code\\\\archive\\\\dataset\\\\Audio\\\\121.mp3', 'C:\\\\Users\\\\mahes\\\\Rvu-Python\\\\Song-mood\\\\code\\\\archive\\\\dataset\\\\Audio\\\\122.mp3', 'C:\\\\Users\\\\mahes\\\\Rvu-Python\\\\Song-mood\\\\code\\\\archive\\\\dataset\\\\Audio\\\\123.mp3', 'C:\\\\Users\\\\mahes\\\\Rvu-Python\\\\Song-mood\\\\code\\\\archive\\\\dataset\\\\Audio\\\\124.mp3', 'C:\\\\Users\\\\mahes\\\\Rvu-Python\\\\Song-mood\\\\code\\\\archive\\\\dataset\\\\Audio\\\\125.mp3', 'C:\\\\Users\\\\mahes\\\\Rvu-Python\\\\Song-mood\\\\code\\\\archive\\\\dataset\\\\Audio\\\\126.mp3', 'C:\\\\Users\\\\mahes\\\\Rvu-Python\\\\Song-mood\\\\code\\\\archive\\\\dataset\\\\Audio\\\\127.mp3', 'C:\\\\Users\\\\mahes\\\\Rvu-Python\\\\Song-mood\\\\code\\\\archive\\\\dataset\\\\Audio\\\\128.mp3', 'C:\\\\Users\\\\mahes\\\\Rvu-Python\\\\Song-mood\\\\code\\\\archive\\\\dataset\\\\Audio\\\\129.mp3', 'C:\\\\Users\\\\mahes\\\\Rvu-Python\\\\Song-mood\\\\code\\\\archive\\\\dataset\\\\Audio\\\\130.mp3', 'C:\\\\Users\\\\mahes\\\\Rvu-Python\\\\Song-mood\\\\code\\\\archive\\\\dataset\\\\Audio\\\\131.mp3', 'C:\\\\Users\\\\mahes\\\\Rvu-Python\\\\Song-mood\\\\code\\\\archive\\\\dataset\\\\Audio\\\\132.mp3', 'C:\\\\Users\\\\mahes\\\\Rvu-Python\\\\Song-mood\\\\code\\\\archive\\\\dataset\\\\Audio\\\\133.mp3', 'C:\\\\Users\\\\mahes\\\\Rvu-Python\\\\Song-mood\\\\code\\\\archive\\\\dataset\\\\Audio\\\\134.mp3', 'C:\\\\Users\\\\mahes\\\\Rvu-Python\\\\Song-mood\\\\code\\\\archive\\\\dataset\\\\Audio\\\\135.mp3', 'C:\\\\Users\\\\mahes\\\\Rvu-Python\\\\Song-mood\\\\code\\\\archive\\\\dataset\\\\Audio\\\\136.mp3', 'C:\\\\Users\\\\mahes\\\\Rvu-Python\\\\Song-mood\\\\code\\\\archive\\\\dataset\\\\Audio\\\\137.mp3', 'C:\\\\Users\\\\mahes\\\\Rvu-Python\\\\Song-mood\\\\code\\\\archive\\\\dataset\\\\Audio\\\\138.mp3', 'C:\\\\Users\\\\mahes\\\\Rvu-Python\\\\Song-mood\\\\code\\\\archive\\\\dataset\\\\Audio\\\\139.mp3', 'C:\\\\Users\\\\mahes\\\\Rvu-Python\\\\Song-mood\\\\code\\\\archive\\\\dataset\\\\Audio\\\\140.mp3', 'C:\\\\Users\\\\mahes\\\\Rvu-Python\\\\Song-mood\\\\code\\\\archive\\\\dataset\\\\Audio\\\\141.mp3', 'C:\\\\Users\\\\mahes\\\\Rvu-Python\\\\Song-mood\\\\code\\\\archive\\\\dataset\\\\Audio\\\\142.mp3', 'C:\\\\Users\\\\mahes\\\\Rvu-Python\\\\Song-mood\\\\code\\\\archive\\\\dataset\\\\Audio\\\\143.mp3', 'C:\\\\Users\\\\mahes\\\\Rvu-Python\\\\Song-mood\\\\code\\\\archive\\\\dataset\\\\Audio\\\\144.mp3', 'C:\\\\Users\\\\mahes\\\\Rvu-Python\\\\Song-mood\\\\code\\\\archive\\\\dataset\\\\Audio\\\\145.mp3', 'C:\\\\Users\\\\mahes\\\\Rvu-Python\\\\Song-mood\\\\code\\\\archive\\\\dataset\\\\Audio\\\\146.mp3', 'C:\\\\Users\\\\mahes\\\\Rvu-Python\\\\Song-mood\\\\code\\\\archive\\\\dataset\\\\Audio\\\\147.mp3', 'C:\\\\Users\\\\mahes\\\\Rvu-Python\\\\Song-mood\\\\code\\\\archive\\\\dataset\\\\Audio\\\\148.mp3', 'C:\\\\Users\\\\mahes\\\\Rvu-Python\\\\Song-mood\\\\code\\\\archive\\\\dataset\\\\Audio\\\\149.mp3', 'C:\\\\Users\\\\mahes\\\\Rvu-Python\\\\Song-mood\\\\code\\\\archive\\\\dataset\\\\Audio\\\\150.mp3', 'C:\\\\Users\\\\mahes\\\\Rvu-Python\\\\Song-mood\\\\code\\\\archive\\\\dataset\\\\Audio\\\\151.mp3', 'C:\\\\Users\\\\mahes\\\\Rvu-Python\\\\Song-mood\\\\code\\\\archive\\\\dataset\\\\Audio\\\\152.mp3', 'C:\\\\Users\\\\mahes\\\\Rvu-Python\\\\Song-mood\\\\code\\\\archive\\\\dataset\\\\Audio\\\\153.mp3', 'C:\\\\Users\\\\mahes\\\\Rvu-Python\\\\Song-mood\\\\code\\\\archive\\\\dataset\\\\Audio\\\\154.mp3', 'C:\\\\Users\\\\mahes\\\\Rvu-Python\\\\Song-mood\\\\code\\\\archive\\\\dataset\\\\Audio\\\\155.mp3', 'C:\\\\Users\\\\mahes\\\\Rvu-Python\\\\Song-mood\\\\code\\\\archive\\\\dataset\\\\Audio\\\\156.mp3', 'C:\\\\Users\\\\mahes\\\\Rvu-Python\\\\Song-mood\\\\code\\\\archive\\\\dataset\\\\Audio\\\\157.mp3', 'C:\\\\Users\\\\mahes\\\\Rvu-Python\\\\Song-mood\\\\code\\\\archive\\\\dataset\\\\Audio\\\\158.mp3', 'C:\\\\Users\\\\mahes\\\\Rvu-Python\\\\Song-mood\\\\code\\\\archive\\\\dataset\\\\Audio\\\\159.mp3', 'C:\\\\Users\\\\mahes\\\\Rvu-Python\\\\Song-mood\\\\code\\\\archive\\\\dataset\\\\Audio\\\\160.mp3', 'C:\\\\Users\\\\mahes\\\\Rvu-Python\\\\Song-mood\\\\code\\\\archive\\\\dataset\\\\Audio\\\\161.mp3', 'C:\\\\Users\\\\mahes\\\\Rvu-Python\\\\Song-mood\\\\code\\\\archive\\\\dataset\\\\Audio\\\\162.mp3', 'C:\\\\Users\\\\mahes\\\\Rvu-Python\\\\Song-mood\\\\code\\\\archive\\\\dataset\\\\Audio\\\\163.mp3', 'C:\\\\Users\\\\mahes\\\\Rvu-Python\\\\Song-mood\\\\code\\\\archive\\\\dataset\\\\Audio\\\\164.mp3', 'C:\\\\Users\\\\mahes\\\\Rvu-Python\\\\Song-mood\\\\code\\\\archive\\\\dataset\\\\Audio\\\\165.mp3', 'C:\\\\Users\\\\mahes\\\\Rvu-Python\\\\Song-mood\\\\code\\\\archive\\\\dataset\\\\Audio\\\\166.mp3', 'C:\\\\Users\\\\mahes\\\\Rvu-Python\\\\Song-mood\\\\code\\\\archive\\\\dataset\\\\Audio\\\\167.mp3', 'C:\\\\Users\\\\mahes\\\\Rvu-Python\\\\Song-mood\\\\code\\\\archive\\\\dataset\\\\Audio\\\\168.mp3', 'C:\\\\Users\\\\mahes\\\\Rvu-Python\\\\Song-mood\\\\code\\\\archive\\\\dataset\\\\Audio\\\\169.mp3', 'C:\\\\Users\\\\mahes\\\\Rvu-Python\\\\Song-mood\\\\code\\\\archive\\\\dataset\\\\Audio\\\\170.mp3', 'C:\\\\Users\\\\mahes\\\\Rvu-Python\\\\Song-mood\\\\code\\\\archive\\\\dataset\\\\Audio\\\\171.mp3', 'C:\\\\Users\\\\mahes\\\\Rvu-Python\\\\Song-mood\\\\code\\\\archive\\\\dataset\\\\Audio\\\\172.mp3', 'C:\\\\Users\\\\mahes\\\\Rvu-Python\\\\Song-mood\\\\code\\\\archive\\\\dataset\\\\Audio\\\\173.mp3', 'C:\\\\Users\\\\mahes\\\\Rvu-Python\\\\Song-mood\\\\code\\\\archive\\\\dataset\\\\Audio\\\\174.mp3', 'C:\\\\Users\\\\mahes\\\\Rvu-Python\\\\Song-mood\\\\code\\\\archive\\\\dataset\\\\Audio\\\\175.mp3', 'C:\\\\Users\\\\mahes\\\\Rvu-Python\\\\Song-mood\\\\code\\\\archive\\\\dataset\\\\Audio\\\\176.mp3', 'C:\\\\Users\\\\mahes\\\\Rvu-Python\\\\Song-mood\\\\code\\\\archive\\\\dataset\\\\Audio\\\\177.mp3', 'C:\\\\Users\\\\mahes\\\\Rvu-Python\\\\Song-mood\\\\code\\\\archive\\\\dataset\\\\Audio\\\\178.mp3', 'C:\\\\Users\\\\mahes\\\\Rvu-Python\\\\Song-mood\\\\code\\\\archive\\\\dataset\\\\Audio\\\\179.mp3', 'C:\\\\Users\\\\mahes\\\\Rvu-Python\\\\Song-mood\\\\code\\\\archive\\\\dataset\\\\Audio\\\\180.mp3', 'C:\\\\Users\\\\mahes\\\\Rvu-Python\\\\Song-mood\\\\code\\\\archive\\\\dataset\\\\Audio\\\\181.mp3', 'C:\\\\Users\\\\mahes\\\\Rvu-Python\\\\Song-mood\\\\code\\\\archive\\\\dataset\\\\Audio\\\\182.mp3', 'C:\\\\Users\\\\mahes\\\\Rvu-Python\\\\Song-mood\\\\code\\\\archive\\\\dataset\\\\Audio\\\\183.mp3', 'C:\\\\Users\\\\mahes\\\\Rvu-Python\\\\Song-mood\\\\code\\\\archive\\\\dataset\\\\Audio\\\\184.mp3', 'C:\\\\Users\\\\mahes\\\\Rvu-Python\\\\Song-mood\\\\code\\\\archive\\\\dataset\\\\Audio\\\\185.mp3', 'C:\\\\Users\\\\mahes\\\\Rvu-Python\\\\Song-mood\\\\code\\\\archive\\\\dataset\\\\Audio\\\\186.mp3', 'C:\\\\Users\\\\mahes\\\\Rvu-Python\\\\Song-mood\\\\code\\\\archive\\\\dataset\\\\Audio\\\\187.mp3', 'C:\\\\Users\\\\mahes\\\\Rvu-Python\\\\Song-mood\\\\code\\\\archive\\\\dataset\\\\Audio\\\\188.mp3', 'C:\\\\Users\\\\mahes\\\\Rvu-Python\\\\Song-mood\\\\code\\\\archive\\\\dataset\\\\Audio\\\\189.mp3', 'C:\\\\Users\\\\mahes\\\\Rvu-Python\\\\Song-mood\\\\code\\\\archive\\\\dataset\\\\Audio\\\\190.mp3', 'C:\\\\Users\\\\mahes\\\\Rvu-Python\\\\Song-mood\\\\code\\\\archive\\\\dataset\\\\Audio\\\\191.mp3', 'C:\\\\Users\\\\mahes\\\\Rvu-Python\\\\Song-mood\\\\code\\\\archive\\\\dataset\\\\Audio\\\\192.mp3', 'C:\\\\Users\\\\mahes\\\\Rvu-Python\\\\Song-mood\\\\code\\\\archive\\\\dataset\\\\Audio\\\\193.mp3', 'C:\\\\Users\\\\mahes\\\\Rvu-Python\\\\Song-mood\\\\code\\\\archive\\\\dataset\\\\Audio\\\\194.mp3', 'C:\\\\Users\\\\mahes\\\\Rvu-Python\\\\Song-mood\\\\code\\\\archive\\\\dataset\\\\Audio\\\\195.mp3', 'C:\\\\Users\\\\mahes\\\\Rvu-Python\\\\Song-mood\\\\code\\\\archive\\\\dataset\\\\Audio\\\\196.mp3', 'C:\\\\Users\\\\mahes\\\\Rvu-Python\\\\Song-mood\\\\code\\\\archive\\\\dataset\\\\Audio\\\\197.mp3', 'C:\\\\Users\\\\mahes\\\\Rvu-Python\\\\Song-mood\\\\code\\\\archive\\\\dataset\\\\Audio\\\\198.mp3', 'C:\\\\Users\\\\mahes\\\\Rvu-Python\\\\Song-mood\\\\code\\\\archive\\\\dataset\\\\Audio\\\\199.mp3', 'C:\\\\Users\\\\mahes\\\\Rvu-Python\\\\Song-mood\\\\code\\\\archive\\\\dataset\\\\Audio\\\\200.mp3', 'C:\\\\Users\\\\mahes\\\\Rvu-Python\\\\Song-mood\\\\code\\\\archive\\\\dataset\\\\Audio\\\\201.mp3', 'C:\\\\Users\\\\mahes\\\\Rvu-Python\\\\Song-mood\\\\code\\\\archive\\\\dataset\\\\Audio\\\\202.mp3', 'C:\\\\Users\\\\mahes\\\\Rvu-Python\\\\Song-mood\\\\code\\\\archive\\\\dataset\\\\Audio\\\\203.mp3', 'C:\\\\Users\\\\mahes\\\\Rvu-Python\\\\Song-mood\\\\code\\\\archive\\\\dataset\\\\Audio\\\\204.mp3', 'C:\\\\Users\\\\mahes\\\\Rvu-Python\\\\Song-mood\\\\code\\\\archive\\\\dataset\\\\Audio\\\\205.mp3', 'C:\\\\Users\\\\mahes\\\\Rvu-Python\\\\Song-mood\\\\code\\\\archive\\\\dataset\\\\Audio\\\\206.mp3', 'C:\\\\Users\\\\mahes\\\\Rvu-Python\\\\Song-mood\\\\code\\\\archive\\\\dataset\\\\Audio\\\\207.mp3', 'C:\\\\Users\\\\mahes\\\\Rvu-Python\\\\Song-mood\\\\code\\\\archive\\\\dataset\\\\Audio\\\\208.mp3', 'C:\\\\Users\\\\mahes\\\\Rvu-Python\\\\Song-mood\\\\code\\\\archive\\\\dataset\\\\Audio\\\\209.mp3', 'C:\\\\Users\\\\mahes\\\\Rvu-Python\\\\Song-mood\\\\code\\\\archive\\\\dataset\\\\Audio\\\\210.mp3', 'C:\\\\Users\\\\mahes\\\\Rvu-Python\\\\Song-mood\\\\code\\\\archive\\\\dataset\\\\Audio\\\\211.mp3', 'C:\\\\Users\\\\mahes\\\\Rvu-Python\\\\Song-mood\\\\code\\\\archive\\\\dataset\\\\Audio\\\\212.mp3', 'C:\\\\Users\\\\mahes\\\\Rvu-Python\\\\Song-mood\\\\code\\\\archive\\\\dataset\\\\Audio\\\\213.mp3', 'C:\\\\Users\\\\mahes\\\\Rvu-Python\\\\Song-mood\\\\code\\\\archive\\\\dataset\\\\Audio\\\\214.mp3', 'C:\\\\Users\\\\mahes\\\\Rvu-Python\\\\Song-mood\\\\code\\\\archive\\\\dataset\\\\Audio\\\\215.mp3', 'C:\\\\Users\\\\mahes\\\\Rvu-Python\\\\Song-mood\\\\code\\\\archive\\\\dataset\\\\Audio\\\\216.mp3', 'C:\\\\Users\\\\mahes\\\\Rvu-Python\\\\Song-mood\\\\code\\\\archive\\\\dataset\\\\Audio\\\\217.mp3', 'C:\\\\Users\\\\mahes\\\\Rvu-Python\\\\Song-mood\\\\code\\\\archive\\\\dataset\\\\Audio\\\\218.mp3', 'C:\\\\Users\\\\mahes\\\\Rvu-Python\\\\Song-mood\\\\code\\\\archive\\\\dataset\\\\Audio\\\\219.mp3', 'C:\\\\Users\\\\mahes\\\\Rvu-Python\\\\Song-mood\\\\code\\\\archive\\\\dataset\\\\Audio\\\\220.mp3', 'C:\\\\Users\\\\mahes\\\\Rvu-Python\\\\Song-mood\\\\code\\\\archive\\\\dataset\\\\Audio\\\\221.mp3', 'C:\\\\Users\\\\mahes\\\\Rvu-Python\\\\Song-mood\\\\code\\\\archive\\\\dataset\\\\Audio\\\\222.mp3', 'C:\\\\Users\\\\mahes\\\\Rvu-Python\\\\Song-mood\\\\code\\\\archive\\\\dataset\\\\Audio\\\\223.mp3', 'C:\\\\Users\\\\mahes\\\\Rvu-Python\\\\Song-mood\\\\code\\\\archive\\\\dataset\\\\Audio\\\\224.mp3', 'C:\\\\Users\\\\mahes\\\\Rvu-Python\\\\Song-mood\\\\code\\\\archive\\\\dataset\\\\Audio\\\\225.mp3', 'C:\\\\Users\\\\mahes\\\\Rvu-Python\\\\Song-mood\\\\code\\\\archive\\\\dataset\\\\Audio\\\\226.mp3', 'C:\\\\Users\\\\mahes\\\\Rvu-Python\\\\Song-mood\\\\code\\\\archive\\\\dataset\\\\Audio\\\\227.mp3', 'C:\\\\Users\\\\mahes\\\\Rvu-Python\\\\Song-mood\\\\code\\\\archive\\\\dataset\\\\Audio\\\\228.mp3', 'C:\\\\Users\\\\mahes\\\\Rvu-Python\\\\Song-mood\\\\code\\\\archive\\\\dataset\\\\Audio\\\\229.mp3', 'C:\\\\Users\\\\mahes\\\\Rvu-Python\\\\Song-mood\\\\code\\\\archive\\\\dataset\\\\Audio\\\\230.mp3', 'C:\\\\Users\\\\mahes\\\\Rvu-Python\\\\Song-mood\\\\code\\\\archive\\\\dataset\\\\Audio\\\\231.mp3', 'C:\\\\Users\\\\mahes\\\\Rvu-Python\\\\Song-mood\\\\code\\\\archive\\\\dataset\\\\Audio\\\\232.mp3', 'C:\\\\Users\\\\mahes\\\\Rvu-Python\\\\Song-mood\\\\code\\\\archive\\\\dataset\\\\Audio\\\\233.mp3', 'C:\\\\Users\\\\mahes\\\\Rvu-Python\\\\Song-mood\\\\code\\\\archive\\\\dataset\\\\Audio\\\\234.mp3', 'C:\\\\Users\\\\mahes\\\\Rvu-Python\\\\Song-mood\\\\code\\\\archive\\\\dataset\\\\Audio\\\\235.mp3', 'C:\\\\Users\\\\mahes\\\\Rvu-Python\\\\Song-mood\\\\code\\\\archive\\\\dataset\\\\Audio\\\\236.mp3', 'C:\\\\Users\\\\mahes\\\\Rvu-Python\\\\Song-mood\\\\code\\\\archive\\\\dataset\\\\Audio\\\\237.mp3', 'C:\\\\Users\\\\mahes\\\\Rvu-Python\\\\Song-mood\\\\code\\\\archive\\\\dataset\\\\Audio\\\\238.mp3', 'C:\\\\Users\\\\mahes\\\\Rvu-Python\\\\Song-mood\\\\code\\\\archive\\\\dataset\\\\Audio\\\\239.mp3', 'C:\\\\Users\\\\mahes\\\\Rvu-Python\\\\Song-mood\\\\code\\\\archive\\\\dataset\\\\Audio\\\\240.mp3', 'C:\\\\Users\\\\mahes\\\\Rvu-Python\\\\Song-mood\\\\code\\\\archive\\\\dataset\\\\Audio\\\\241.mp3', 'C:\\\\Users\\\\mahes\\\\Rvu-Python\\\\Song-mood\\\\code\\\\archive\\\\dataset\\\\Audio\\\\242.mp3', 'C:\\\\Users\\\\mahes\\\\Rvu-Python\\\\Song-mood\\\\code\\\\archive\\\\dataset\\\\Audio\\\\243.mp3', 'C:\\\\Users\\\\mahes\\\\Rvu-Python\\\\Song-mood\\\\code\\\\archive\\\\dataset\\\\Audio\\\\244.mp3', 'C:\\\\Users\\\\mahes\\\\Rvu-Python\\\\Song-mood\\\\code\\\\archive\\\\dataset\\\\Audio\\\\245.mp3', 'C:\\\\Users\\\\mahes\\\\Rvu-Python\\\\Song-mood\\\\code\\\\archive\\\\dataset\\\\Audio\\\\246.mp3', 'C:\\\\Users\\\\mahes\\\\Rvu-Python\\\\Song-mood\\\\code\\\\archive\\\\dataset\\\\Audio\\\\247.mp3', 'C:\\\\Users\\\\mahes\\\\Rvu-Python\\\\Song-mood\\\\code\\\\archive\\\\dataset\\\\Audio\\\\248.mp3', 'C:\\\\Users\\\\mahes\\\\Rvu-Python\\\\Song-mood\\\\code\\\\archive\\\\dataset\\\\Audio\\\\249.mp3', 'C:\\\\Users\\\\mahes\\\\Rvu-Python\\\\Song-mood\\\\code\\\\archive\\\\dataset\\\\Audio\\\\250.mp3', 'C:\\\\Users\\\\mahes\\\\Rvu-Python\\\\Song-mood\\\\code\\\\archive\\\\dataset\\\\Audio\\\\251.mp3', 'C:\\\\Users\\\\mahes\\\\Rvu-Python\\\\Song-mood\\\\code\\\\archive\\\\dataset\\\\Audio\\\\252.mp3', 'C:\\\\Users\\\\mahes\\\\Rvu-Python\\\\Song-mood\\\\code\\\\archive\\\\dataset\\\\Audio\\\\253.mp3', 'C:\\\\Users\\\\mahes\\\\Rvu-Python\\\\Song-mood\\\\code\\\\archive\\\\dataset\\\\Audio\\\\254.mp3', 'C:\\\\Users\\\\mahes\\\\Rvu-Python\\\\Song-mood\\\\code\\\\archive\\\\dataset\\\\Audio\\\\255.mp3', 'C:\\\\Users\\\\mahes\\\\Rvu-Python\\\\Song-mood\\\\code\\\\archive\\\\dataset\\\\Audio\\\\256.mp3', 'C:\\\\Users\\\\mahes\\\\Rvu-Python\\\\Song-mood\\\\code\\\\archive\\\\dataset\\\\Audio\\\\257.mp3', 'C:\\\\Users\\\\mahes\\\\Rvu-Python\\\\Song-mood\\\\code\\\\archive\\\\dataset\\\\Audio\\\\258.mp3', 'C:\\\\Users\\\\mahes\\\\Rvu-Python\\\\Song-mood\\\\code\\\\archive\\\\dataset\\\\Audio\\\\259.mp3', 'C:\\\\Users\\\\mahes\\\\Rvu-Python\\\\Song-mood\\\\code\\\\archive\\\\dataset\\\\Audio\\\\260.mp3', 'C:\\\\Users\\\\mahes\\\\Rvu-Python\\\\Song-mood\\\\code\\\\archive\\\\dataset\\\\Audio\\\\261.mp3', 'C:\\\\Users\\\\mahes\\\\Rvu-Python\\\\Song-mood\\\\code\\\\archive\\\\dataset\\\\Audio\\\\262.mp3', 'C:\\\\Users\\\\mahes\\\\Rvu-Python\\\\Song-mood\\\\code\\\\archive\\\\dataset\\\\Audio\\\\263.mp3', 'C:\\\\Users\\\\mahes\\\\Rvu-Python\\\\Song-mood\\\\code\\\\archive\\\\dataset\\\\Audio\\\\264.mp3', 'C:\\\\Users\\\\mahes\\\\Rvu-Python\\\\Song-mood\\\\code\\\\archive\\\\dataset\\\\Audio\\\\265.mp3', 'C:\\\\Users\\\\mahes\\\\Rvu-Python\\\\Song-mood\\\\code\\\\archive\\\\dataset\\\\Audio\\\\266.mp3', 'C:\\\\Users\\\\mahes\\\\Rvu-Python\\\\Song-mood\\\\code\\\\archive\\\\dataset\\\\Audio\\\\267.mp3', 'C:\\\\Users\\\\mahes\\\\Rvu-Python\\\\Song-mood\\\\code\\\\archive\\\\dataset\\\\Audio\\\\268.mp3', 'C:\\\\Users\\\\mahes\\\\Rvu-Python\\\\Song-mood\\\\code\\\\archive\\\\dataset\\\\Audio\\\\269.mp3', 'C:\\\\Users\\\\mahes\\\\Rvu-Python\\\\Song-mood\\\\code\\\\archive\\\\dataset\\\\Audio\\\\270.mp3', 'C:\\\\Users\\\\mahes\\\\Rvu-Python\\\\Song-mood\\\\code\\\\archive\\\\dataset\\\\Audio\\\\271.mp3', 'C:\\\\Users\\\\mahes\\\\Rvu-Python\\\\Song-mood\\\\code\\\\archive\\\\dataset\\\\Audio\\\\272.mp3', 'C:\\\\Users\\\\mahes\\\\Rvu-Python\\\\Song-mood\\\\code\\\\archive\\\\dataset\\\\Audio\\\\273.mp3', 'C:\\\\Users\\\\mahes\\\\Rvu-Python\\\\Song-mood\\\\code\\\\archive\\\\dataset\\\\Audio\\\\274.mp3', 'C:\\\\Users\\\\mahes\\\\Rvu-Python\\\\Song-mood\\\\code\\\\archive\\\\dataset\\\\Audio\\\\275.mp3', 'C:\\\\Users\\\\mahes\\\\Rvu-Python\\\\Song-mood\\\\code\\\\archive\\\\dataset\\\\Audio\\\\276.mp3', 'C:\\\\Users\\\\mahes\\\\Rvu-Python\\\\Song-mood\\\\code\\\\archive\\\\dataset\\\\Audio\\\\277.mp3', 'C:\\\\Users\\\\mahes\\\\Rvu-Python\\\\Song-mood\\\\code\\\\archive\\\\dataset\\\\Audio\\\\278.mp3', 'C:\\\\Users\\\\mahes\\\\Rvu-Python\\\\Song-mood\\\\code\\\\archive\\\\dataset\\\\Audio\\\\279.mp3', 'C:\\\\Users\\\\mahes\\\\Rvu-Python\\\\Song-mood\\\\code\\\\archive\\\\dataset\\\\Audio\\\\280.mp3', 'C:\\\\Users\\\\mahes\\\\Rvu-Python\\\\Song-mood\\\\code\\\\archive\\\\dataset\\\\Audio\\\\281.mp3', 'C:\\\\Users\\\\mahes\\\\Rvu-Python\\\\Song-mood\\\\code\\\\archive\\\\dataset\\\\Audio\\\\282.mp3', 'C:\\\\Users\\\\mahes\\\\Rvu-Python\\\\Song-mood\\\\code\\\\archive\\\\dataset\\\\Audio\\\\283.mp3', 'C:\\\\Users\\\\mahes\\\\Rvu-Python\\\\Song-mood\\\\code\\\\archive\\\\dataset\\\\Audio\\\\284.mp3', 'C:\\\\Users\\\\mahes\\\\Rvu-Python\\\\Song-mood\\\\code\\\\archive\\\\dataset\\\\Audio\\\\285.mp3', 'C:\\\\Users\\\\mahes\\\\Rvu-Python\\\\Song-mood\\\\code\\\\archive\\\\dataset\\\\Audio\\\\286.mp3', 'C:\\\\Users\\\\mahes\\\\Rvu-Python\\\\Song-mood\\\\code\\\\archive\\\\dataset\\\\Audio\\\\287.mp3', 'C:\\\\Users\\\\mahes\\\\Rvu-Python\\\\Song-mood\\\\code\\\\archive\\\\dataset\\\\Audio\\\\288.mp3', 'C:\\\\Users\\\\mahes\\\\Rvu-Python\\\\Song-mood\\\\code\\\\archive\\\\dataset\\\\Audio\\\\289.mp3', 'C:\\\\Users\\\\mahes\\\\Rvu-Python\\\\Song-mood\\\\code\\\\archive\\\\dataset\\\\Audio\\\\290.mp3', 'C:\\\\Users\\\\mahes\\\\Rvu-Python\\\\Song-mood\\\\code\\\\archive\\\\dataset\\\\Audio\\\\291.mp3', 'C:\\\\Users\\\\mahes\\\\Rvu-Python\\\\Song-mood\\\\code\\\\archive\\\\dataset\\\\Audio\\\\292.mp3', 'C:\\\\Users\\\\mahes\\\\Rvu-Python\\\\Song-mood\\\\code\\\\archive\\\\dataset\\\\Audio\\\\293.mp3', 'C:\\\\Users\\\\mahes\\\\Rvu-Python\\\\Song-mood\\\\code\\\\archive\\\\dataset\\\\Audio\\\\294.mp3', 'C:\\\\Users\\\\mahes\\\\Rvu-Python\\\\Song-mood\\\\code\\\\archive\\\\dataset\\\\Audio\\\\295.mp3', 'C:\\\\Users\\\\mahes\\\\Rvu-Python\\\\Song-mood\\\\code\\\\archive\\\\dataset\\\\Audio\\\\296.mp3', 'C:\\\\Users\\\\mahes\\\\Rvu-Python\\\\Song-mood\\\\code\\\\archive\\\\dataset\\\\Audio\\\\297.mp3', 'C:\\\\Users\\\\mahes\\\\Rvu-Python\\\\Song-mood\\\\code\\\\archive\\\\dataset\\\\Audio\\\\298.mp3', 'C:\\\\Users\\\\mahes\\\\Rvu-Python\\\\Song-mood\\\\code\\\\archive\\\\dataset\\\\Audio\\\\299.mp3', 'C:\\\\Users\\\\mahes\\\\Rvu-Python\\\\Song-mood\\\\code\\\\archive\\\\dataset\\\\Audio\\\\300.mp3', 'C:\\\\Users\\\\mahes\\\\Rvu-Python\\\\Song-mood\\\\code\\\\archive\\\\dataset\\\\Audio\\\\301.mp3', 'C:\\\\Users\\\\mahes\\\\Rvu-Python\\\\Song-mood\\\\code\\\\archive\\\\dataset\\\\Audio\\\\302.mp3', 'C:\\\\Users\\\\mahes\\\\Rvu-Python\\\\Song-mood\\\\code\\\\archive\\\\dataset\\\\Audio\\\\303.mp3', 'C:\\\\Users\\\\mahes\\\\Rvu-Python\\\\Song-mood\\\\code\\\\archive\\\\dataset\\\\Audio\\\\304.mp3', 'C:\\\\Users\\\\mahes\\\\Rvu-Python\\\\Song-mood\\\\code\\\\archive\\\\dataset\\\\Audio\\\\305.mp3', 'C:\\\\Users\\\\mahes\\\\Rvu-Python\\\\Song-mood\\\\code\\\\archive\\\\dataset\\\\Audio\\\\306.mp3', 'C:\\\\Users\\\\mahes\\\\Rvu-Python\\\\Song-mood\\\\code\\\\archive\\\\dataset\\\\Audio\\\\307.mp3', 'C:\\\\Users\\\\mahes\\\\Rvu-Python\\\\Song-mood\\\\code\\\\archive\\\\dataset\\\\Audio\\\\308.mp3', 'C:\\\\Users\\\\mahes\\\\Rvu-Python\\\\Song-mood\\\\code\\\\archive\\\\dataset\\\\Audio\\\\309.mp3', 'C:\\\\Users\\\\mahes\\\\Rvu-Python\\\\Song-mood\\\\code\\\\archive\\\\dataset\\\\Audio\\\\310.mp3', 'C:\\\\Users\\\\mahes\\\\Rvu-Python\\\\Song-mood\\\\code\\\\archive\\\\dataset\\\\Audio\\\\311.mp3', 'C:\\\\Users\\\\mahes\\\\Rvu-Python\\\\Song-mood\\\\code\\\\archive\\\\dataset\\\\Audio\\\\312.mp3', 'C:\\\\Users\\\\mahes\\\\Rvu-Python\\\\Song-mood\\\\code\\\\archive\\\\dataset\\\\Audio\\\\313.mp3', 'C:\\\\Users\\\\mahes\\\\Rvu-Python\\\\Song-mood\\\\code\\\\archive\\\\dataset\\\\Audio\\\\314.mp3', 'C:\\\\Users\\\\mahes\\\\Rvu-Python\\\\Song-mood\\\\code\\\\archive\\\\dataset\\\\Audio\\\\315.mp3', 'C:\\\\Users\\\\mahes\\\\Rvu-Python\\\\Song-mood\\\\code\\\\archive\\\\dataset\\\\Audio\\\\316.mp3', 'C:\\\\Users\\\\mahes\\\\Rvu-Python\\\\Song-mood\\\\code\\\\archive\\\\dataset\\\\Audio\\\\317.mp3', 'C:\\\\Users\\\\mahes\\\\Rvu-Python\\\\Song-mood\\\\code\\\\archive\\\\dataset\\\\Audio\\\\318.mp3', 'C:\\\\Users\\\\mahes\\\\Rvu-Python\\\\Song-mood\\\\code\\\\archive\\\\dataset\\\\Audio\\\\319.mp3', 'C:\\\\Users\\\\mahes\\\\Rvu-Python\\\\Song-mood\\\\code\\\\archive\\\\dataset\\\\Audio\\\\320.mp3', 'C:\\\\Users\\\\mahes\\\\Rvu-Python\\\\Song-mood\\\\code\\\\archive\\\\dataset\\\\Audio\\\\321.mp3', 'C:\\\\Users\\\\mahes\\\\Rvu-Python\\\\Song-mood\\\\code\\\\archive\\\\dataset\\\\Audio\\\\322.mp3', 'C:\\\\Users\\\\mahes\\\\Rvu-Python\\\\Song-mood\\\\code\\\\archive\\\\dataset\\\\Audio\\\\323.mp3', 'C:\\\\Users\\\\mahes\\\\Rvu-Python\\\\Song-mood\\\\code\\\\archive\\\\dataset\\\\Audio\\\\324.mp3', 'C:\\\\Users\\\\mahes\\\\Rvu-Python\\\\Song-mood\\\\code\\\\archive\\\\dataset\\\\Audio\\\\325.mp3', 'C:\\\\Users\\\\mahes\\\\Rvu-Python\\\\Song-mood\\\\code\\\\archive\\\\dataset\\\\Audio\\\\326.mp3', 'C:\\\\Users\\\\mahes\\\\Rvu-Python\\\\Song-mood\\\\code\\\\archive\\\\dataset\\\\Audio\\\\327.mp3', 'C:\\\\Users\\\\mahes\\\\Rvu-Python\\\\Song-mood\\\\code\\\\archive\\\\dataset\\\\Audio\\\\328.mp3', 'C:\\\\Users\\\\mahes\\\\Rvu-Python\\\\Song-mood\\\\code\\\\archive\\\\dataset\\\\Audio\\\\329.mp3', 'C:\\\\Users\\\\mahes\\\\Rvu-Python\\\\Song-mood\\\\code\\\\archive\\\\dataset\\\\Audio\\\\330.mp3', 'C:\\\\Users\\\\mahes\\\\Rvu-Python\\\\Song-mood\\\\code\\\\archive\\\\dataset\\\\Audio\\\\331.mp3', 'C:\\\\Users\\\\mahes\\\\Rvu-Python\\\\Song-mood\\\\code\\\\archive\\\\dataset\\\\Audio\\\\332.mp3', 'C:\\\\Users\\\\mahes\\\\Rvu-Python\\\\Song-mood\\\\code\\\\archive\\\\dataset\\\\Audio\\\\333.mp3', 'C:\\\\Users\\\\mahes\\\\Rvu-Python\\\\Song-mood\\\\code\\\\archive\\\\dataset\\\\Audio\\\\334.mp3', 'C:\\\\Users\\\\mahes\\\\Rvu-Python\\\\Song-mood\\\\code\\\\archive\\\\dataset\\\\Audio\\\\335.mp3', 'C:\\\\Users\\\\mahes\\\\Rvu-Python\\\\Song-mood\\\\code\\\\archive\\\\dataset\\\\Audio\\\\336.mp3', 'C:\\\\Users\\\\mahes\\\\Rvu-Python\\\\Song-mood\\\\code\\\\archive\\\\dataset\\\\Audio\\\\337.mp3', 'C:\\\\Users\\\\mahes\\\\Rvu-Python\\\\Song-mood\\\\code\\\\archive\\\\dataset\\\\Audio\\\\338.mp3', 'C:\\\\Users\\\\mahes\\\\Rvu-Python\\\\Song-mood\\\\code\\\\archive\\\\dataset\\\\Audio\\\\339.mp3', 'C:\\\\Users\\\\mahes\\\\Rvu-Python\\\\Song-mood\\\\code\\\\archive\\\\dataset\\\\Audio\\\\340.mp3', 'C:\\\\Users\\\\mahes\\\\Rvu-Python\\\\Song-mood\\\\code\\\\archive\\\\dataset\\\\Audio\\\\341.mp3', 'C:\\\\Users\\\\mahes\\\\Rvu-Python\\\\Song-mood\\\\code\\\\archive\\\\dataset\\\\Audio\\\\342.mp3', 'C:\\\\Users\\\\mahes\\\\Rvu-Python\\\\Song-mood\\\\code\\\\archive\\\\dataset\\\\Audio\\\\343.mp3', 'C:\\\\Users\\\\mahes\\\\Rvu-Python\\\\Song-mood\\\\code\\\\archive\\\\dataset\\\\Audio\\\\344.mp3', 'C:\\\\Users\\\\mahes\\\\Rvu-Python\\\\Song-mood\\\\code\\\\archive\\\\dataset\\\\Audio\\\\345.mp3', 'C:\\\\Users\\\\mahes\\\\Rvu-Python\\\\Song-mood\\\\code\\\\archive\\\\dataset\\\\Audio\\\\346.mp3', 'C:\\\\Users\\\\mahes\\\\Rvu-Python\\\\Song-mood\\\\code\\\\archive\\\\dataset\\\\Audio\\\\347.mp3', 'C:\\\\Users\\\\mahes\\\\Rvu-Python\\\\Song-mood\\\\code\\\\archive\\\\dataset\\\\Audio\\\\348.mp3', 'C:\\\\Users\\\\mahes\\\\Rvu-Python\\\\Song-mood\\\\code\\\\archive\\\\dataset\\\\Audio\\\\349.mp3', 'C:\\\\Users\\\\mahes\\\\Rvu-Python\\\\Song-mood\\\\code\\\\archive\\\\dataset\\\\Audio\\\\350.mp3', 'C:\\\\Users\\\\mahes\\\\Rvu-Python\\\\Song-mood\\\\code\\\\archive\\\\dataset\\\\Audio\\\\351.mp3', 'C:\\\\Users\\\\mahes\\\\Rvu-Python\\\\Song-mood\\\\code\\\\archive\\\\dataset\\\\Audio\\\\352.mp3', 'C:\\\\Users\\\\mahes\\\\Rvu-Python\\\\Song-mood\\\\code\\\\archive\\\\dataset\\\\Audio\\\\353.mp3', 'C:\\\\Users\\\\mahes\\\\Rvu-Python\\\\Song-mood\\\\code\\\\archive\\\\dataset\\\\Audio\\\\354.mp3', 'C:\\\\Users\\\\mahes\\\\Rvu-Python\\\\Song-mood\\\\code\\\\archive\\\\dataset\\\\Audio\\\\355.mp3', 'C:\\\\Users\\\\mahes\\\\Rvu-Python\\\\Song-mood\\\\code\\\\archive\\\\dataset\\\\Audio\\\\356.mp3', 'C:\\\\Users\\\\mahes\\\\Rvu-Python\\\\Song-mood\\\\code\\\\archive\\\\dataset\\\\Audio\\\\357.mp3', 'C:\\\\Users\\\\mahes\\\\Rvu-Python\\\\Song-mood\\\\code\\\\archive\\\\dataset\\\\Audio\\\\358.mp3', 'C:\\\\Users\\\\mahes\\\\Rvu-Python\\\\Song-mood\\\\code\\\\archive\\\\dataset\\\\Audio\\\\359.mp3', 'C:\\\\Users\\\\mahes\\\\Rvu-Python\\\\Song-mood\\\\code\\\\archive\\\\dataset\\\\Audio\\\\360.mp3', 'C:\\\\Users\\\\mahes\\\\Rvu-Python\\\\Song-mood\\\\code\\\\archive\\\\dataset\\\\Audio\\\\361.mp3', 'C:\\\\Users\\\\mahes\\\\Rvu-Python\\\\Song-mood\\\\code\\\\archive\\\\dataset\\\\Audio\\\\362.mp3', 'C:\\\\Users\\\\mahes\\\\Rvu-Python\\\\Song-mood\\\\code\\\\archive\\\\dataset\\\\Audio\\\\363.mp3', 'C:\\\\Users\\\\mahes\\\\Rvu-Python\\\\Song-mood\\\\code\\\\archive\\\\dataset\\\\Audio\\\\364.mp3', 'C:\\\\Users\\\\mahes\\\\Rvu-Python\\\\Song-mood\\\\code\\\\archive\\\\dataset\\\\Audio\\\\365.mp3', 'C:\\\\Users\\\\mahes\\\\Rvu-Python\\\\Song-mood\\\\code\\\\archive\\\\dataset\\\\Audio\\\\366.mp3', 'C:\\\\Users\\\\mahes\\\\Rvu-Python\\\\Song-mood\\\\code\\\\archive\\\\dataset\\\\Audio\\\\367.mp3', 'C:\\\\Users\\\\mahes\\\\Rvu-Python\\\\Song-mood\\\\code\\\\archive\\\\dataset\\\\Audio\\\\368.mp3', 'C:\\\\Users\\\\mahes\\\\Rvu-Python\\\\Song-mood\\\\code\\\\archive\\\\dataset\\\\Audio\\\\369.mp3', 'C:\\\\Users\\\\mahes\\\\Rvu-Python\\\\Song-mood\\\\code\\\\archive\\\\dataset\\\\Audio\\\\370.mp3', 'C:\\\\Users\\\\mahes\\\\Rvu-Python\\\\Song-mood\\\\code\\\\archive\\\\dataset\\\\Audio\\\\371.mp3', 'C:\\\\Users\\\\mahes\\\\Rvu-Python\\\\Song-mood\\\\code\\\\archive\\\\dataset\\\\Audio\\\\372.mp3', 'C:\\\\Users\\\\mahes\\\\Rvu-Python\\\\Song-mood\\\\code\\\\archive\\\\dataset\\\\Audio\\\\373.mp3', 'C:\\\\Users\\\\mahes\\\\Rvu-Python\\\\Song-mood\\\\code\\\\archive\\\\dataset\\\\Audio\\\\374.mp3', 'C:\\\\Users\\\\mahes\\\\Rvu-Python\\\\Song-mood\\\\code\\\\archive\\\\dataset\\\\Audio\\\\375.mp3', 'C:\\\\Users\\\\mahes\\\\Rvu-Python\\\\Song-mood\\\\code\\\\archive\\\\dataset\\\\Audio\\\\376.mp3', 'C:\\\\Users\\\\mahes\\\\Rvu-Python\\\\Song-mood\\\\code\\\\archive\\\\dataset\\\\Audio\\\\377.mp3', 'C:\\\\Users\\\\mahes\\\\Rvu-Python\\\\Song-mood\\\\code\\\\archive\\\\dataset\\\\Audio\\\\378.mp3', 'C:\\\\Users\\\\mahes\\\\Rvu-Python\\\\Song-mood\\\\code\\\\archive\\\\dataset\\\\Audio\\\\379.mp3', 'C:\\\\Users\\\\mahes\\\\Rvu-Python\\\\Song-mood\\\\code\\\\archive\\\\dataset\\\\Audio\\\\380.mp3', 'C:\\\\Users\\\\mahes\\\\Rvu-Python\\\\Song-mood\\\\code\\\\archive\\\\dataset\\\\Audio\\\\381.mp3', 'C:\\\\Users\\\\mahes\\\\Rvu-Python\\\\Song-mood\\\\code\\\\archive\\\\dataset\\\\Audio\\\\382.mp3', 'C:\\\\Users\\\\mahes\\\\Rvu-Python\\\\Song-mood\\\\code\\\\archive\\\\dataset\\\\Audio\\\\383.mp3', 'C:\\\\Users\\\\mahes\\\\Rvu-Python\\\\Song-mood\\\\code\\\\archive\\\\dataset\\\\Audio\\\\384.mp3', 'C:\\\\Users\\\\mahes\\\\Rvu-Python\\\\Song-mood\\\\code\\\\archive\\\\dataset\\\\Audio\\\\385.mp3', 'C:\\\\Users\\\\mahes\\\\Rvu-Python\\\\Song-mood\\\\code\\\\archive\\\\dataset\\\\Audio\\\\386.mp3', 'C:\\\\Users\\\\mahes\\\\Rvu-Python\\\\Song-mood\\\\code\\\\archive\\\\dataset\\\\Audio\\\\387.mp3', 'C:\\\\Users\\\\mahes\\\\Rvu-Python\\\\Song-mood\\\\code\\\\archive\\\\dataset\\\\Audio\\\\388.mp3', 'C:\\\\Users\\\\mahes\\\\Rvu-Python\\\\Song-mood\\\\code\\\\archive\\\\dataset\\\\Audio\\\\389.mp3', 'C:\\\\Users\\\\mahes\\\\Rvu-Python\\\\Song-mood\\\\code\\\\archive\\\\dataset\\\\Audio\\\\390.mp3', 'C:\\\\Users\\\\mahes\\\\Rvu-Python\\\\Song-mood\\\\code\\\\archive\\\\dataset\\\\Audio\\\\391.mp3', 'C:\\\\Users\\\\mahes\\\\Rvu-Python\\\\Song-mood\\\\code\\\\archive\\\\dataset\\\\Audio\\\\392.mp3', 'C:\\\\Users\\\\mahes\\\\Rvu-Python\\\\Song-mood\\\\code\\\\archive\\\\dataset\\\\Audio\\\\393.mp3', 'C:\\\\Users\\\\mahes\\\\Rvu-Python\\\\Song-mood\\\\code\\\\archive\\\\dataset\\\\Audio\\\\394.mp3', 'C:\\\\Users\\\\mahes\\\\Rvu-Python\\\\Song-mood\\\\code\\\\archive\\\\dataset\\\\Audio\\\\395.mp3', 'C:\\\\Users\\\\mahes\\\\Rvu-Python\\\\Song-mood\\\\code\\\\archive\\\\dataset\\\\Audio\\\\396.mp3', 'C:\\\\Users\\\\mahes\\\\Rvu-Python\\\\Song-mood\\\\code\\\\archive\\\\dataset\\\\Audio\\\\397.mp3', 'C:\\\\Users\\\\mahes\\\\Rvu-Python\\\\Song-mood\\\\code\\\\archive\\\\dataset\\\\Audio\\\\398.mp3', 'C:\\\\Users\\\\mahes\\\\Rvu-Python\\\\Song-mood\\\\code\\\\archive\\\\dataset\\\\Audio\\\\399.mp3', 'C:\\\\Users\\\\mahes\\\\Rvu-Python\\\\Song-mood\\\\code\\\\archive\\\\dataset\\\\Audio\\\\400.mp3', 'C:\\\\Users\\\\mahes\\\\Rvu-Python\\\\Song-mood\\\\code\\\\archive\\\\dataset\\\\Audio\\\\401.mp3', 'C:\\\\Users\\\\mahes\\\\Rvu-Python\\\\Song-mood\\\\code\\\\archive\\\\dataset\\\\Audio\\\\402.mp3', 'C:\\\\Users\\\\mahes\\\\Rvu-Python\\\\Song-mood\\\\code\\\\archive\\\\dataset\\\\Audio\\\\403.mp3', 'C:\\\\Users\\\\mahes\\\\Rvu-Python\\\\Song-mood\\\\code\\\\archive\\\\dataset\\\\Audio\\\\404.mp3', 'C:\\\\Users\\\\mahes\\\\Rvu-Python\\\\Song-mood\\\\code\\\\archive\\\\dataset\\\\Audio\\\\405.mp3', 'C:\\\\Users\\\\mahes\\\\Rvu-Python\\\\Song-mood\\\\code\\\\archive\\\\dataset\\\\Audio\\\\406.mp3', 'C:\\\\Users\\\\mahes\\\\Rvu-Python\\\\Song-mood\\\\code\\\\archive\\\\dataset\\\\Audio\\\\407.mp3', 'C:\\\\Users\\\\mahes\\\\Rvu-Python\\\\Song-mood\\\\code\\\\archive\\\\dataset\\\\Audio\\\\408.mp3', 'C:\\\\Users\\\\mahes\\\\Rvu-Python\\\\Song-mood\\\\code\\\\archive\\\\dataset\\\\Audio\\\\409.mp3', 'C:\\\\Users\\\\mahes\\\\Rvu-Python\\\\Song-mood\\\\code\\\\archive\\\\dataset\\\\Audio\\\\410.mp3', 'C:\\\\Users\\\\mahes\\\\Rvu-Python\\\\Song-mood\\\\code\\\\archive\\\\dataset\\\\Audio\\\\411.mp3', 'C:\\\\Users\\\\mahes\\\\Rvu-Python\\\\Song-mood\\\\code\\\\archive\\\\dataset\\\\Audio\\\\412.mp3', 'C:\\\\Users\\\\mahes\\\\Rvu-Python\\\\Song-mood\\\\code\\\\archive\\\\dataset\\\\Audio\\\\413.mp3', 'C:\\\\Users\\\\mahes\\\\Rvu-Python\\\\Song-mood\\\\code\\\\archive\\\\dataset\\\\Audio\\\\414.mp3', 'C:\\\\Users\\\\mahes\\\\Rvu-Python\\\\Song-mood\\\\code\\\\archive\\\\dataset\\\\Audio\\\\415.mp3', 'C:\\\\Users\\\\mahes\\\\Rvu-Python\\\\Song-mood\\\\code\\\\archive\\\\dataset\\\\Audio\\\\416.mp3', 'C:\\\\Users\\\\mahes\\\\Rvu-Python\\\\Song-mood\\\\code\\\\archive\\\\dataset\\\\Audio\\\\417.mp3', 'C:\\\\Users\\\\mahes\\\\Rvu-Python\\\\Song-mood\\\\code\\\\archive\\\\dataset\\\\Audio\\\\418.mp3', 'C:\\\\Users\\\\mahes\\\\Rvu-Python\\\\Song-mood\\\\code\\\\archive\\\\dataset\\\\Audio\\\\419.mp3', 'C:\\\\Users\\\\mahes\\\\Rvu-Python\\\\Song-mood\\\\code\\\\archive\\\\dataset\\\\Audio\\\\420.mp3', 'C:\\\\Users\\\\mahes\\\\Rvu-Python\\\\Song-mood\\\\code\\\\archive\\\\dataset\\\\Audio\\\\421.mp3', 'C:\\\\Users\\\\mahes\\\\Rvu-Python\\\\Song-mood\\\\code\\\\archive\\\\dataset\\\\Audio\\\\422.mp3', 'C:\\\\Users\\\\mahes\\\\Rvu-Python\\\\Song-mood\\\\code\\\\archive\\\\dataset\\\\Audio\\\\423.mp3', 'C:\\\\Users\\\\mahes\\\\Rvu-Python\\\\Song-mood\\\\code\\\\archive\\\\dataset\\\\Audio\\\\424.mp3', 'C:\\\\Users\\\\mahes\\\\Rvu-Python\\\\Song-mood\\\\code\\\\archive\\\\dataset\\\\Audio\\\\425.mp3', 'C:\\\\Users\\\\mahes\\\\Rvu-Python\\\\Song-mood\\\\code\\\\archive\\\\dataset\\\\Audio\\\\426.mp3', 'C:\\\\Users\\\\mahes\\\\Rvu-Python\\\\Song-mood\\\\code\\\\archive\\\\dataset\\\\Audio\\\\427.mp3', 'C:\\\\Users\\\\mahes\\\\Rvu-Python\\\\Song-mood\\\\code\\\\archive\\\\dataset\\\\Audio\\\\428.mp3', 'C:\\\\Users\\\\mahes\\\\Rvu-Python\\\\Song-mood\\\\code\\\\archive\\\\dataset\\\\Audio\\\\429.mp3', 'C:\\\\Users\\\\mahes\\\\Rvu-Python\\\\Song-mood\\\\code\\\\archive\\\\dataset\\\\Audio\\\\430.mp3', 'C:\\\\Users\\\\mahes\\\\Rvu-Python\\\\Song-mood\\\\code\\\\archive\\\\dataset\\\\Audio\\\\431.mp3', 'C:\\\\Users\\\\mahes\\\\Rvu-Python\\\\Song-mood\\\\code\\\\archive\\\\dataset\\\\Audio\\\\432.mp3', 'C:\\\\Users\\\\mahes\\\\Rvu-Python\\\\Song-mood\\\\code\\\\archive\\\\dataset\\\\Audio\\\\433.mp3', 'C:\\\\Users\\\\mahes\\\\Rvu-Python\\\\Song-mood\\\\code\\\\archive\\\\dataset\\\\Audio\\\\434.mp3', 'C:\\\\Users\\\\mahes\\\\Rvu-Python\\\\Song-mood\\\\code\\\\archive\\\\dataset\\\\Audio\\\\435.mp3', 'C:\\\\Users\\\\mahes\\\\Rvu-Python\\\\Song-mood\\\\code\\\\archive\\\\dataset\\\\Audio\\\\436.mp3', 'C:\\\\Users\\\\mahes\\\\Rvu-Python\\\\Song-mood\\\\code\\\\archive\\\\dataset\\\\Audio\\\\437.mp3', 'C:\\\\Users\\\\mahes\\\\Rvu-Python\\\\Song-mood\\\\code\\\\archive\\\\dataset\\\\Audio\\\\438.mp3', 'C:\\\\Users\\\\mahes\\\\Rvu-Python\\\\Song-mood\\\\code\\\\archive\\\\dataset\\\\Audio\\\\439.mp3', 'C:\\\\Users\\\\mahes\\\\Rvu-Python\\\\Song-mood\\\\code\\\\archive\\\\dataset\\\\Audio\\\\440.mp3', 'C:\\\\Users\\\\mahes\\\\Rvu-Python\\\\Song-mood\\\\code\\\\archive\\\\dataset\\\\Audio\\\\441.mp3', 'C:\\\\Users\\\\mahes\\\\Rvu-Python\\\\Song-mood\\\\code\\\\archive\\\\dataset\\\\Audio\\\\442.mp3', 'C:\\\\Users\\\\mahes\\\\Rvu-Python\\\\Song-mood\\\\code\\\\archive\\\\dataset\\\\Audio\\\\443.mp3', 'C:\\\\Users\\\\mahes\\\\Rvu-Python\\\\Song-mood\\\\code\\\\archive\\\\dataset\\\\Audio\\\\444.mp3', 'C:\\\\Users\\\\mahes\\\\Rvu-Python\\\\Song-mood\\\\code\\\\archive\\\\dataset\\\\Audio\\\\445.mp3', 'C:\\\\Users\\\\mahes\\\\Rvu-Python\\\\Song-mood\\\\code\\\\archive\\\\dataset\\\\Audio\\\\446.mp3', 'C:\\\\Users\\\\mahes\\\\Rvu-Python\\\\Song-mood\\\\code\\\\archive\\\\dataset\\\\Audio\\\\447.mp3', 'C:\\\\Users\\\\mahes\\\\Rvu-Python\\\\Song-mood\\\\code\\\\archive\\\\dataset\\\\Audio\\\\448.mp3', 'C:\\\\Users\\\\mahes\\\\Rvu-Python\\\\Song-mood\\\\code\\\\archive\\\\dataset\\\\Audio\\\\449.mp3', 'C:\\\\Users\\\\mahes\\\\Rvu-Python\\\\Song-mood\\\\code\\\\archive\\\\dataset\\\\Audio\\\\450.mp3', 'C:\\\\Users\\\\mahes\\\\Rvu-Python\\\\Song-mood\\\\code\\\\archive\\\\dataset\\\\Audio\\\\451.mp3', 'C:\\\\Users\\\\mahes\\\\Rvu-Python\\\\Song-mood\\\\code\\\\archive\\\\dataset\\\\Audio\\\\452.mp3', 'C:\\\\Users\\\\mahes\\\\Rvu-Python\\\\Song-mood\\\\code\\\\archive\\\\dataset\\\\Audio\\\\453.mp3', 'C:\\\\Users\\\\mahes\\\\Rvu-Python\\\\Song-mood\\\\code\\\\archive\\\\dataset\\\\Audio\\\\454.mp3', 'C:\\\\Users\\\\mahes\\\\Rvu-Python\\\\Song-mood\\\\code\\\\archive\\\\dataset\\\\Audio\\\\455.mp3', 'C:\\\\Users\\\\mahes\\\\Rvu-Python\\\\Song-mood\\\\code\\\\archive\\\\dataset\\\\Audio\\\\456.mp3', 'C:\\\\Users\\\\mahes\\\\Rvu-Python\\\\Song-mood\\\\code\\\\archive\\\\dataset\\\\Audio\\\\457.mp3', 'C:\\\\Users\\\\mahes\\\\Rvu-Python\\\\Song-mood\\\\code\\\\archive\\\\dataset\\\\Audio\\\\458.mp3', 'C:\\\\Users\\\\mahes\\\\Rvu-Python\\\\Song-mood\\\\code\\\\archive\\\\dataset\\\\Audio\\\\459.mp3', 'C:\\\\Users\\\\mahes\\\\Rvu-Python\\\\Song-mood\\\\code\\\\archive\\\\dataset\\\\Audio\\\\460.mp3', 'C:\\\\Users\\\\mahes\\\\Rvu-Python\\\\Song-mood\\\\code\\\\archive\\\\dataset\\\\Audio\\\\461.mp3', 'C:\\\\Users\\\\mahes\\\\Rvu-Python\\\\Song-mood\\\\code\\\\archive\\\\dataset\\\\Audio\\\\462.mp3', 'C:\\\\Users\\\\mahes\\\\Rvu-Python\\\\Song-mood\\\\code\\\\archive\\\\dataset\\\\Audio\\\\463.mp3', 'C:\\\\Users\\\\mahes\\\\Rvu-Python\\\\Song-mood\\\\code\\\\archive\\\\dataset\\\\Audio\\\\464.mp3', 'C:\\\\Users\\\\mahes\\\\Rvu-Python\\\\Song-mood\\\\code\\\\archive\\\\dataset\\\\Audio\\\\465.mp3', 'C:\\\\Users\\\\mahes\\\\Rvu-Python\\\\Song-mood\\\\code\\\\archive\\\\dataset\\\\Audio\\\\466.mp3', 'C:\\\\Users\\\\mahes\\\\Rvu-Python\\\\Song-mood\\\\code\\\\archive\\\\dataset\\\\Audio\\\\467.mp3', 'C:\\\\Users\\\\mahes\\\\Rvu-Python\\\\Song-mood\\\\code\\\\archive\\\\dataset\\\\Audio\\\\468.mp3', 'C:\\\\Users\\\\mahes\\\\Rvu-Python\\\\Song-mood\\\\code\\\\archive\\\\dataset\\\\Audio\\\\469.mp3', 'C:\\\\Users\\\\mahes\\\\Rvu-Python\\\\Song-mood\\\\code\\\\archive\\\\dataset\\\\Audio\\\\470.mp3', 'C:\\\\Users\\\\mahes\\\\Rvu-Python\\\\Song-mood\\\\code\\\\archive\\\\dataset\\\\Audio\\\\471.mp3', 'C:\\\\Users\\\\mahes\\\\Rvu-Python\\\\Song-mood\\\\code\\\\archive\\\\dataset\\\\Audio\\\\472.mp3', 'C:\\\\Users\\\\mahes\\\\Rvu-Python\\\\Song-mood\\\\code\\\\archive\\\\dataset\\\\Audio\\\\473.mp3', 'C:\\\\Users\\\\mahes\\\\Rvu-Python\\\\Song-mood\\\\code\\\\archive\\\\dataset\\\\Audio\\\\474.mp3', 'C:\\\\Users\\\\mahes\\\\Rvu-Python\\\\Song-mood\\\\code\\\\archive\\\\dataset\\\\Audio\\\\475.mp3', 'C:\\\\Users\\\\mahes\\\\Rvu-Python\\\\Song-mood\\\\code\\\\archive\\\\dataset\\\\Audio\\\\476.mp3', 'C:\\\\Users\\\\mahes\\\\Rvu-Python\\\\Song-mood\\\\code\\\\archive\\\\dataset\\\\Audio\\\\477.mp3', 'C:\\\\Users\\\\mahes\\\\Rvu-Python\\\\Song-mood\\\\code\\\\archive\\\\dataset\\\\Audio\\\\478.mp3', 'C:\\\\Users\\\\mahes\\\\Rvu-Python\\\\Song-mood\\\\code\\\\archive\\\\dataset\\\\Audio\\\\479.mp3', 'C:\\\\Users\\\\mahes\\\\Rvu-Python\\\\Song-mood\\\\code\\\\archive\\\\dataset\\\\Audio\\\\480.mp3', 'C:\\\\Users\\\\mahes\\\\Rvu-Python\\\\Song-mood\\\\code\\\\archive\\\\dataset\\\\Audio\\\\481.mp3', 'C:\\\\Users\\\\mahes\\\\Rvu-Python\\\\Song-mood\\\\code\\\\archive\\\\dataset\\\\Audio\\\\482.mp3', 'C:\\\\Users\\\\mahes\\\\Rvu-Python\\\\Song-mood\\\\code\\\\archive\\\\dataset\\\\Audio\\\\483.mp3', 'C:\\\\Users\\\\mahes\\\\Rvu-Python\\\\Song-mood\\\\code\\\\archive\\\\dataset\\\\Audio\\\\484.mp3', 'C:\\\\Users\\\\mahes\\\\Rvu-Python\\\\Song-mood\\\\code\\\\archive\\\\dataset\\\\Audio\\\\485.mp3', 'C:\\\\Users\\\\mahes\\\\Rvu-Python\\\\Song-mood\\\\code\\\\archive\\\\dataset\\\\Audio\\\\486.mp3', 'C:\\\\Users\\\\mahes\\\\Rvu-Python\\\\Song-mood\\\\code\\\\archive\\\\dataset\\\\Audio\\\\487.mp3', 'C:\\\\Users\\\\mahes\\\\Rvu-Python\\\\Song-mood\\\\code\\\\archive\\\\dataset\\\\Audio\\\\488.mp3', 'C:\\\\Users\\\\mahes\\\\Rvu-Python\\\\Song-mood\\\\code\\\\archive\\\\dataset\\\\Audio\\\\489.mp3', 'C:\\\\Users\\\\mahes\\\\Rvu-Python\\\\Song-mood\\\\code\\\\archive\\\\dataset\\\\Audio\\\\490.mp3', 'C:\\\\Users\\\\mahes\\\\Rvu-Python\\\\Song-mood\\\\code\\\\archive\\\\dataset\\\\Audio\\\\491.mp3', 'C:\\\\Users\\\\mahes\\\\Rvu-Python\\\\Song-mood\\\\code\\\\archive\\\\dataset\\\\Audio\\\\492.mp3', 'C:\\\\Users\\\\mahes\\\\Rvu-Python\\\\Song-mood\\\\code\\\\archive\\\\dataset\\\\Audio\\\\493.mp3', 'C:\\\\Users\\\\mahes\\\\Rvu-Python\\\\Song-mood\\\\code\\\\archive\\\\dataset\\\\Audio\\\\494.mp3', 'C:\\\\Users\\\\mahes\\\\Rvu-Python\\\\Song-mood\\\\code\\\\archive\\\\dataset\\\\Audio\\\\495.mp3', 'C:\\\\Users\\\\mahes\\\\Rvu-Python\\\\Song-mood\\\\code\\\\archive\\\\dataset\\\\Audio\\\\496.mp3', 'C:\\\\Users\\\\mahes\\\\Rvu-Python\\\\Song-mood\\\\code\\\\archive\\\\dataset\\\\Audio\\\\497.mp3', 'C:\\\\Users\\\\mahes\\\\Rvu-Python\\\\Song-mood\\\\code\\\\archive\\\\dataset\\\\Audio\\\\498.mp3', 'C:\\\\Users\\\\mahes\\\\Rvu-Python\\\\Song-mood\\\\code\\\\archive\\\\dataset\\\\Audio\\\\499.mp3', 'C:\\\\Users\\\\mahes\\\\Rvu-Python\\\\Song-mood\\\\code\\\\archive\\\\dataset\\\\Audio\\\\500.mp3', 'C:\\\\Users\\\\mahes\\\\Rvu-Python\\\\Song-mood\\\\code\\\\archive\\\\dataset\\\\Audio\\\\501.mp3', 'C:\\\\Users\\\\mahes\\\\Rvu-Python\\\\Song-mood\\\\code\\\\archive\\\\dataset\\\\Audio\\\\502.mp3', 'C:\\\\Users\\\\mahes\\\\Rvu-Python\\\\Song-mood\\\\code\\\\archive\\\\dataset\\\\Audio\\\\503.mp3', 'C:\\\\Users\\\\mahes\\\\Rvu-Python\\\\Song-mood\\\\code\\\\archive\\\\dataset\\\\Audio\\\\504.mp3', 'C:\\\\Users\\\\mahes\\\\Rvu-Python\\\\Song-mood\\\\code\\\\archive\\\\dataset\\\\Audio\\\\505.mp3', 'C:\\\\Users\\\\mahes\\\\Rvu-Python\\\\Song-mood\\\\code\\\\archive\\\\dataset\\\\Audio\\\\506.mp3', 'C:\\\\Users\\\\mahes\\\\Rvu-Python\\\\Song-mood\\\\code\\\\archive\\\\dataset\\\\Audio\\\\507.mp3', 'C:\\\\Users\\\\mahes\\\\Rvu-Python\\\\Song-mood\\\\code\\\\archive\\\\dataset\\\\Audio\\\\508.mp3', 'C:\\\\Users\\\\mahes\\\\Rvu-Python\\\\Song-mood\\\\code\\\\archive\\\\dataset\\\\Audio\\\\509.mp3', 'C:\\\\Users\\\\mahes\\\\Rvu-Python\\\\Song-mood\\\\code\\\\archive\\\\dataset\\\\Audio\\\\510.mp3', 'C:\\\\Users\\\\mahes\\\\Rvu-Python\\\\Song-mood\\\\code\\\\archive\\\\dataset\\\\Audio\\\\511.mp3', 'C:\\\\Users\\\\mahes\\\\Rvu-Python\\\\Song-mood\\\\code\\\\archive\\\\dataset\\\\Audio\\\\512.mp3', 'C:\\\\Users\\\\mahes\\\\Rvu-Python\\\\Song-mood\\\\code\\\\archive\\\\dataset\\\\Audio\\\\513.mp3', 'C:\\\\Users\\\\mahes\\\\Rvu-Python\\\\Song-mood\\\\code\\\\archive\\\\dataset\\\\Audio\\\\514.mp3', 'C:\\\\Users\\\\mahes\\\\Rvu-Python\\\\Song-mood\\\\code\\\\archive\\\\dataset\\\\Audio\\\\515.mp3', 'C:\\\\Users\\\\mahes\\\\Rvu-Python\\\\Song-mood\\\\code\\\\archive\\\\dataset\\\\Audio\\\\516.mp3', 'C:\\\\Users\\\\mahes\\\\Rvu-Python\\\\Song-mood\\\\code\\\\archive\\\\dataset\\\\Audio\\\\517.mp3', 'C:\\\\Users\\\\mahes\\\\Rvu-Python\\\\Song-mood\\\\code\\\\archive\\\\dataset\\\\Audio\\\\518.mp3', 'C:\\\\Users\\\\mahes\\\\Rvu-Python\\\\Song-mood\\\\code\\\\archive\\\\dataset\\\\Audio\\\\519.mp3', 'C:\\\\Users\\\\mahes\\\\Rvu-Python\\\\Song-mood\\\\code\\\\archive\\\\dataset\\\\Audio\\\\520.mp3', 'C:\\\\Users\\\\mahes\\\\Rvu-Python\\\\Song-mood\\\\code\\\\archive\\\\dataset\\\\Audio\\\\521.mp3', 'C:\\\\Users\\\\mahes\\\\Rvu-Python\\\\Song-mood\\\\code\\\\archive\\\\dataset\\\\Audio\\\\522.mp3', 'C:\\\\Users\\\\mahes\\\\Rvu-Python\\\\Song-mood\\\\code\\\\archive\\\\dataset\\\\Audio\\\\523.mp3', 'C:\\\\Users\\\\mahes\\\\Rvu-Python\\\\Song-mood\\\\code\\\\archive\\\\dataset\\\\Audio\\\\524.mp3', 'C:\\\\Users\\\\mahes\\\\Rvu-Python\\\\Song-mood\\\\code\\\\archive\\\\dataset\\\\Audio\\\\525.mp3', 'C:\\\\Users\\\\mahes\\\\Rvu-Python\\\\Song-mood\\\\code\\\\archive\\\\dataset\\\\Audio\\\\526.mp3', 'C:\\\\Users\\\\mahes\\\\Rvu-Python\\\\Song-mood\\\\code\\\\archive\\\\dataset\\\\Audio\\\\527.mp3', 'C:\\\\Users\\\\mahes\\\\Rvu-Python\\\\Song-mood\\\\code\\\\archive\\\\dataset\\\\Audio\\\\528.mp3', 'C:\\\\Users\\\\mahes\\\\Rvu-Python\\\\Song-mood\\\\code\\\\archive\\\\dataset\\\\Audio\\\\529.mp3', 'C:\\\\Users\\\\mahes\\\\Rvu-Python\\\\Song-mood\\\\code\\\\archive\\\\dataset\\\\Audio\\\\530.mp3', 'C:\\\\Users\\\\mahes\\\\Rvu-Python\\\\Song-mood\\\\code\\\\archive\\\\dataset\\\\Audio\\\\531.mp3', 'C:\\\\Users\\\\mahes\\\\Rvu-Python\\\\Song-mood\\\\code\\\\archive\\\\dataset\\\\Audio\\\\532.mp3', 'C:\\\\Users\\\\mahes\\\\Rvu-Python\\\\Song-mood\\\\code\\\\archive\\\\dataset\\\\Audio\\\\533.mp3', 'C:\\\\Users\\\\mahes\\\\Rvu-Python\\\\Song-mood\\\\code\\\\archive\\\\dataset\\\\Audio\\\\534.mp3', 'C:\\\\Users\\\\mahes\\\\Rvu-Python\\\\Song-mood\\\\code\\\\archive\\\\dataset\\\\Audio\\\\535.mp3', 'C:\\\\Users\\\\mahes\\\\Rvu-Python\\\\Song-mood\\\\code\\\\archive\\\\dataset\\\\Audio\\\\536.mp3', 'C:\\\\Users\\\\mahes\\\\Rvu-Python\\\\Song-mood\\\\code\\\\archive\\\\dataset\\\\Audio\\\\537.mp3', 'C:\\\\Users\\\\mahes\\\\Rvu-Python\\\\Song-mood\\\\code\\\\archive\\\\dataset\\\\Audio\\\\538.mp3', 'C:\\\\Users\\\\mahes\\\\Rvu-Python\\\\Song-mood\\\\code\\\\archive\\\\dataset\\\\Audio\\\\539.mp3', 'C:\\\\Users\\\\mahes\\\\Rvu-Python\\\\Song-mood\\\\code\\\\archive\\\\dataset\\\\Audio\\\\540.mp3', 'C:\\\\Users\\\\mahes\\\\Rvu-Python\\\\Song-mood\\\\code\\\\archive\\\\dataset\\\\Audio\\\\541.mp3', 'C:\\\\Users\\\\mahes\\\\Rvu-Python\\\\Song-mood\\\\code\\\\archive\\\\dataset\\\\Audio\\\\542.mp3', 'C:\\\\Users\\\\mahes\\\\Rvu-Python\\\\Song-mood\\\\code\\\\archive\\\\dataset\\\\Audio\\\\543.mp3', 'C:\\\\Users\\\\mahes\\\\Rvu-Python\\\\Song-mood\\\\code\\\\archive\\\\dataset\\\\Audio\\\\544.mp3', 'C:\\\\Users\\\\mahes\\\\Rvu-Python\\\\Song-mood\\\\code\\\\archive\\\\dataset\\\\Audio\\\\545.mp3', 'C:\\\\Users\\\\mahes\\\\Rvu-Python\\\\Song-mood\\\\code\\\\archive\\\\dataset\\\\Audio\\\\546.mp3', 'C:\\\\Users\\\\mahes\\\\Rvu-Python\\\\Song-mood\\\\code\\\\archive\\\\dataset\\\\Audio\\\\547.mp3', 'C:\\\\Users\\\\mahes\\\\Rvu-Python\\\\Song-mood\\\\code\\\\archive\\\\dataset\\\\Audio\\\\548.mp3', 'C:\\\\Users\\\\mahes\\\\Rvu-Python\\\\Song-mood\\\\code\\\\archive\\\\dataset\\\\Audio\\\\549.mp3', 'C:\\\\Users\\\\mahes\\\\Rvu-Python\\\\Song-mood\\\\code\\\\archive\\\\dataset\\\\Audio\\\\550.mp3', 'C:\\\\Users\\\\mahes\\\\Rvu-Python\\\\Song-mood\\\\code\\\\archive\\\\dataset\\\\Audio\\\\551.mp3', 'C:\\\\Users\\\\mahes\\\\Rvu-Python\\\\Song-mood\\\\code\\\\archive\\\\dataset\\\\Audio\\\\552.mp3', 'C:\\\\Users\\\\mahes\\\\Rvu-Python\\\\Song-mood\\\\code\\\\archive\\\\dataset\\\\Audio\\\\553.mp3', 'C:\\\\Users\\\\mahes\\\\Rvu-Python\\\\Song-mood\\\\code\\\\archive\\\\dataset\\\\Audio\\\\554.mp3', 'C:\\\\Users\\\\mahes\\\\Rvu-Python\\\\Song-mood\\\\code\\\\archive\\\\dataset\\\\Audio\\\\555.mp3', 'C:\\\\Users\\\\mahes\\\\Rvu-Python\\\\Song-mood\\\\code\\\\archive\\\\dataset\\\\Audio\\\\556.mp3', 'C:\\\\Users\\\\mahes\\\\Rvu-Python\\\\Song-mood\\\\code\\\\archive\\\\dataset\\\\Audio\\\\557.mp3', 'C:\\\\Users\\\\mahes\\\\Rvu-Python\\\\Song-mood\\\\code\\\\archive\\\\dataset\\\\Audio\\\\558.mp3', 'C:\\\\Users\\\\mahes\\\\Rvu-Python\\\\Song-mood\\\\code\\\\archive\\\\dataset\\\\Audio\\\\559.mp3', 'C:\\\\Users\\\\mahes\\\\Rvu-Python\\\\Song-mood\\\\code\\\\archive\\\\dataset\\\\Audio\\\\560.mp3', 'C:\\\\Users\\\\mahes\\\\Rvu-Python\\\\Song-mood\\\\code\\\\archive\\\\dataset\\\\Audio\\\\561.mp3', 'C:\\\\Users\\\\mahes\\\\Rvu-Python\\\\Song-mood\\\\code\\\\archive\\\\dataset\\\\Audio\\\\562.mp3', 'C:\\\\Users\\\\mahes\\\\Rvu-Python\\\\Song-mood\\\\code\\\\archive\\\\dataset\\\\Audio\\\\563.mp3', 'C:\\\\Users\\\\mahes\\\\Rvu-Python\\\\Song-mood\\\\code\\\\archive\\\\dataset\\\\Audio\\\\564.mp3', 'C:\\\\Users\\\\mahes\\\\Rvu-Python\\\\Song-mood\\\\code\\\\archive\\\\dataset\\\\Audio\\\\565.mp3', 'C:\\\\Users\\\\mahes\\\\Rvu-Python\\\\Song-mood\\\\code\\\\archive\\\\dataset\\\\Audio\\\\566.mp3', 'C:\\\\Users\\\\mahes\\\\Rvu-Python\\\\Song-mood\\\\code\\\\archive\\\\dataset\\\\Audio\\\\567.mp3', 'C:\\\\Users\\\\mahes\\\\Rvu-Python\\\\Song-mood\\\\code\\\\archive\\\\dataset\\\\Audio\\\\568.mp3', 'C:\\\\Users\\\\mahes\\\\Rvu-Python\\\\Song-mood\\\\code\\\\archive\\\\dataset\\\\Audio\\\\569.mp3', 'C:\\\\Users\\\\mahes\\\\Rvu-Python\\\\Song-mood\\\\code\\\\archive\\\\dataset\\\\Audio\\\\570.mp3', 'C:\\\\Users\\\\mahes\\\\Rvu-Python\\\\Song-mood\\\\code\\\\archive\\\\dataset\\\\Audio\\\\571.mp3', 'C:\\\\Users\\\\mahes\\\\Rvu-Python\\\\Song-mood\\\\code\\\\archive\\\\dataset\\\\Audio\\\\572.mp3', 'C:\\\\Users\\\\mahes\\\\Rvu-Python\\\\Song-mood\\\\code\\\\archive\\\\dataset\\\\Audio\\\\573.mp3', 'C:\\\\Users\\\\mahes\\\\Rvu-Python\\\\Song-mood\\\\code\\\\archive\\\\dataset\\\\Audio\\\\574.mp3', 'C:\\\\Users\\\\mahes\\\\Rvu-Python\\\\Song-mood\\\\code\\\\archive\\\\dataset\\\\Audio\\\\575.mp3', 'C:\\\\Users\\\\mahes\\\\Rvu-Python\\\\Song-mood\\\\code\\\\archive\\\\dataset\\\\Audio\\\\576.mp3', 'C:\\\\Users\\\\mahes\\\\Rvu-Python\\\\Song-mood\\\\code\\\\archive\\\\dataset\\\\Audio\\\\577.mp3', 'C:\\\\Users\\\\mahes\\\\Rvu-Python\\\\Song-mood\\\\code\\\\archive\\\\dataset\\\\Audio\\\\578.mp3', 'C:\\\\Users\\\\mahes\\\\Rvu-Python\\\\Song-mood\\\\code\\\\archive\\\\dataset\\\\Audio\\\\579.mp3', 'C:\\\\Users\\\\mahes\\\\Rvu-Python\\\\Song-mood\\\\code\\\\archive\\\\dataset\\\\Audio\\\\580.mp3', 'C:\\\\Users\\\\mahes\\\\Rvu-Python\\\\Song-mood\\\\code\\\\archive\\\\dataset\\\\Audio\\\\581.mp3', 'C:\\\\Users\\\\mahes\\\\Rvu-Python\\\\Song-mood\\\\code\\\\archive\\\\dataset\\\\Audio\\\\582.mp3', 'C:\\\\Users\\\\mahes\\\\Rvu-Python\\\\Song-mood\\\\code\\\\archive\\\\dataset\\\\Audio\\\\583.mp3', 'C:\\\\Users\\\\mahes\\\\Rvu-Python\\\\Song-mood\\\\code\\\\archive\\\\dataset\\\\Audio\\\\584.mp3', 'C:\\\\Users\\\\mahes\\\\Rvu-Python\\\\Song-mood\\\\code\\\\archive\\\\dataset\\\\Audio\\\\585.mp3', 'C:\\\\Users\\\\mahes\\\\Rvu-Python\\\\Song-mood\\\\code\\\\archive\\\\dataset\\\\Audio\\\\586.mp3', 'C:\\\\Users\\\\mahes\\\\Rvu-Python\\\\Song-mood\\\\code\\\\archive\\\\dataset\\\\Audio\\\\587.mp3', 'C:\\\\Users\\\\mahes\\\\Rvu-Python\\\\Song-mood\\\\code\\\\archive\\\\dataset\\\\Audio\\\\588.mp3', 'C:\\\\Users\\\\mahes\\\\Rvu-Python\\\\Song-mood\\\\code\\\\archive\\\\dataset\\\\Audio\\\\589.mp3', 'C:\\\\Users\\\\mahes\\\\Rvu-Python\\\\Song-mood\\\\code\\\\archive\\\\dataset\\\\Audio\\\\590.mp3', 'C:\\\\Users\\\\mahes\\\\Rvu-Python\\\\Song-mood\\\\code\\\\archive\\\\dataset\\\\Audio\\\\591.mp3', 'C:\\\\Users\\\\mahes\\\\Rvu-Python\\\\Song-mood\\\\code\\\\archive\\\\dataset\\\\Audio\\\\592.mp3', 'C:\\\\Users\\\\mahes\\\\Rvu-Python\\\\Song-mood\\\\code\\\\archive\\\\dataset\\\\Audio\\\\593.mp3', 'C:\\\\Users\\\\mahes\\\\Rvu-Python\\\\Song-mood\\\\code\\\\archive\\\\dataset\\\\Audio\\\\594.mp3', 'C:\\\\Users\\\\mahes\\\\Rvu-Python\\\\Song-mood\\\\code\\\\archive\\\\dataset\\\\Audio\\\\595.mp3', 'C:\\\\Users\\\\mahes\\\\Rvu-Python\\\\Song-mood\\\\code\\\\archive\\\\dataset\\\\Audio\\\\596.mp3', 'C:\\\\Users\\\\mahes\\\\Rvu-Python\\\\Song-mood\\\\code\\\\archive\\\\dataset\\\\Audio\\\\597.mp3', 'C:\\\\Users\\\\mahes\\\\Rvu-Python\\\\Song-mood\\\\code\\\\archive\\\\dataset\\\\Audio\\\\598.mp3', 'C:\\\\Users\\\\mahes\\\\Rvu-Python\\\\Song-mood\\\\code\\\\archive\\\\dataset\\\\Audio\\\\599.mp3', 'C:\\\\Users\\\\mahes\\\\Rvu-Python\\\\Song-mood\\\\code\\\\archive\\\\dataset\\\\Audio\\\\600.mp3', 'C:\\\\Users\\\\mahes\\\\Rvu-Python\\\\Song-mood\\\\code\\\\archive\\\\dataset\\\\Audio\\\\601.mp3', 'C:\\\\Users\\\\mahes\\\\Rvu-Python\\\\Song-mood\\\\code\\\\archive\\\\dataset\\\\Audio\\\\602.mp3', 'C:\\\\Users\\\\mahes\\\\Rvu-Python\\\\Song-mood\\\\code\\\\archive\\\\dataset\\\\Audio\\\\603.mp3', 'C:\\\\Users\\\\mahes\\\\Rvu-Python\\\\Song-mood\\\\code\\\\archive\\\\dataset\\\\Audio\\\\604.mp3', 'C:\\\\Users\\\\mahes\\\\Rvu-Python\\\\Song-mood\\\\code\\\\archive\\\\dataset\\\\Audio\\\\605.mp3', 'C:\\\\Users\\\\mahes\\\\Rvu-Python\\\\Song-mood\\\\code\\\\archive\\\\dataset\\\\Audio\\\\606.mp3', 'C:\\\\Users\\\\mahes\\\\Rvu-Python\\\\Song-mood\\\\code\\\\archive\\\\dataset\\\\Audio\\\\607.mp3', 'C:\\\\Users\\\\mahes\\\\Rvu-Python\\\\Song-mood\\\\code\\\\archive\\\\dataset\\\\Audio\\\\608.mp3', 'C:\\\\Users\\\\mahes\\\\Rvu-Python\\\\Song-mood\\\\code\\\\archive\\\\dataset\\\\Audio\\\\609.mp3', 'C:\\\\Users\\\\mahes\\\\Rvu-Python\\\\Song-mood\\\\code\\\\archive\\\\dataset\\\\Audio\\\\610.mp3', 'C:\\\\Users\\\\mahes\\\\Rvu-Python\\\\Song-mood\\\\code\\\\archive\\\\dataset\\\\Audio\\\\611.mp3', 'C:\\\\Users\\\\mahes\\\\Rvu-Python\\\\Song-mood\\\\code\\\\archive\\\\dataset\\\\Audio\\\\612.mp3', 'C:\\\\Users\\\\mahes\\\\Rvu-Python\\\\Song-mood\\\\code\\\\archive\\\\dataset\\\\Audio\\\\613.mp3', 'C:\\\\Users\\\\mahes\\\\Rvu-Python\\\\Song-mood\\\\code\\\\archive\\\\dataset\\\\Audio\\\\614.mp3', 'C:\\\\Users\\\\mahes\\\\Rvu-Python\\\\Song-mood\\\\code\\\\archive\\\\dataset\\\\Audio\\\\615.mp3', 'C:\\\\Users\\\\mahes\\\\Rvu-Python\\\\Song-mood\\\\code\\\\archive\\\\dataset\\\\Audio\\\\616.mp3', 'C:\\\\Users\\\\mahes\\\\Rvu-Python\\\\Song-mood\\\\code\\\\archive\\\\dataset\\\\Audio\\\\617.mp3', 'C:\\\\Users\\\\mahes\\\\Rvu-Python\\\\Song-mood\\\\code\\\\archive\\\\dataset\\\\Audio\\\\618.mp3', 'C:\\\\Users\\\\mahes\\\\Rvu-Python\\\\Song-mood\\\\code\\\\archive\\\\dataset\\\\Audio\\\\619.mp3', 'C:\\\\Users\\\\mahes\\\\Rvu-Python\\\\Song-mood\\\\code\\\\archive\\\\dataset\\\\Audio\\\\620.mp3', 'C:\\\\Users\\\\mahes\\\\Rvu-Python\\\\Song-mood\\\\code\\\\archive\\\\dataset\\\\Audio\\\\621.mp3', 'C:\\\\Users\\\\mahes\\\\Rvu-Python\\\\Song-mood\\\\code\\\\archive\\\\dataset\\\\Audio\\\\622.mp3', 'C:\\\\Users\\\\mahes\\\\Rvu-Python\\\\Song-mood\\\\code\\\\archive\\\\dataset\\\\Audio\\\\623.mp3', 'C:\\\\Users\\\\mahes\\\\Rvu-Python\\\\Song-mood\\\\code\\\\archive\\\\dataset\\\\Audio\\\\624.mp3', 'C:\\\\Users\\\\mahes\\\\Rvu-Python\\\\Song-mood\\\\code\\\\archive\\\\dataset\\\\Audio\\\\625.mp3', 'C:\\\\Users\\\\mahes\\\\Rvu-Python\\\\Song-mood\\\\code\\\\archive\\\\dataset\\\\Audio\\\\626.mp3', 'C:\\\\Users\\\\mahes\\\\Rvu-Python\\\\Song-mood\\\\code\\\\archive\\\\dataset\\\\Audio\\\\627.mp3', 'C:\\\\Users\\\\mahes\\\\Rvu-Python\\\\Song-mood\\\\code\\\\archive\\\\dataset\\\\Audio\\\\628.mp3', 'C:\\\\Users\\\\mahes\\\\Rvu-Python\\\\Song-mood\\\\code\\\\archive\\\\dataset\\\\Audio\\\\629.mp3', 'C:\\\\Users\\\\mahes\\\\Rvu-Python\\\\Song-mood\\\\code\\\\archive\\\\dataset\\\\Audio\\\\630.mp3', 'C:\\\\Users\\\\mahes\\\\Rvu-Python\\\\Song-mood\\\\code\\\\archive\\\\dataset\\\\Audio\\\\631.mp3', 'C:\\\\Users\\\\mahes\\\\Rvu-Python\\\\Song-mood\\\\code\\\\archive\\\\dataset\\\\Audio\\\\632.mp3', 'C:\\\\Users\\\\mahes\\\\Rvu-Python\\\\Song-mood\\\\code\\\\archive\\\\dataset\\\\Audio\\\\633.mp3', 'C:\\\\Users\\\\mahes\\\\Rvu-Python\\\\Song-mood\\\\code\\\\archive\\\\dataset\\\\Audio\\\\634.mp3', 'C:\\\\Users\\\\mahes\\\\Rvu-Python\\\\Song-mood\\\\code\\\\archive\\\\dataset\\\\Audio\\\\635.mp3', 'C:\\\\Users\\\\mahes\\\\Rvu-Python\\\\Song-mood\\\\code\\\\archive\\\\dataset\\\\Audio\\\\636.mp3', 'C:\\\\Users\\\\mahes\\\\Rvu-Python\\\\Song-mood\\\\code\\\\archive\\\\dataset\\\\Audio\\\\637.mp3', 'C:\\\\Users\\\\mahes\\\\Rvu-Python\\\\Song-mood\\\\code\\\\archive\\\\dataset\\\\Audio\\\\638.mp3', 'C:\\\\Users\\\\mahes\\\\Rvu-Python\\\\Song-mood\\\\code\\\\archive\\\\dataset\\\\Audio\\\\639.mp3', 'C:\\\\Users\\\\mahes\\\\Rvu-Python\\\\Song-mood\\\\code\\\\archive\\\\dataset\\\\Audio\\\\640.mp3', 'C:\\\\Users\\\\mahes\\\\Rvu-Python\\\\Song-mood\\\\code\\\\archive\\\\dataset\\\\Audio\\\\641.mp3', 'C:\\\\Users\\\\mahes\\\\Rvu-Python\\\\Song-mood\\\\code\\\\archive\\\\dataset\\\\Audio\\\\642.mp3', 'C:\\\\Users\\\\mahes\\\\Rvu-Python\\\\Song-mood\\\\code\\\\archive\\\\dataset\\\\Audio\\\\643.mp3', 'C:\\\\Users\\\\mahes\\\\Rvu-Python\\\\Song-mood\\\\code\\\\archive\\\\dataset\\\\Audio\\\\644.mp3', 'C:\\\\Users\\\\mahes\\\\Rvu-Python\\\\Song-mood\\\\code\\\\archive\\\\dataset\\\\Audio\\\\645.mp3', 'C:\\\\Users\\\\mahes\\\\Rvu-Python\\\\Song-mood\\\\code\\\\archive\\\\dataset\\\\Audio\\\\646.mp3', 'C:\\\\Users\\\\mahes\\\\Rvu-Python\\\\Song-mood\\\\code\\\\archive\\\\dataset\\\\Audio\\\\647.mp3', 'C:\\\\Users\\\\mahes\\\\Rvu-Python\\\\Song-mood\\\\code\\\\archive\\\\dataset\\\\Audio\\\\648.mp3', 'C:\\\\Users\\\\mahes\\\\Rvu-Python\\\\Song-mood\\\\code\\\\archive\\\\dataset\\\\Audio\\\\649.mp3', 'C:\\\\Users\\\\mahes\\\\Rvu-Python\\\\Song-mood\\\\code\\\\archive\\\\dataset\\\\Audio\\\\650.mp3', 'C:\\\\Users\\\\mahes\\\\Rvu-Python\\\\Song-mood\\\\code\\\\archive\\\\dataset\\\\Audio\\\\651.mp3', 'C:\\\\Users\\\\mahes\\\\Rvu-Python\\\\Song-mood\\\\code\\\\archive\\\\dataset\\\\Audio\\\\652.mp3', 'C:\\\\Users\\\\mahes\\\\Rvu-Python\\\\Song-mood\\\\code\\\\archive\\\\dataset\\\\Audio\\\\653.mp3', 'C:\\\\Users\\\\mahes\\\\Rvu-Python\\\\Song-mood\\\\code\\\\archive\\\\dataset\\\\Audio\\\\654.mp3', 'C:\\\\Users\\\\mahes\\\\Rvu-Python\\\\Song-mood\\\\code\\\\archive\\\\dataset\\\\Audio\\\\655.mp3', 'C:\\\\Users\\\\mahes\\\\Rvu-Python\\\\Song-mood\\\\code\\\\archive\\\\dataset\\\\Audio\\\\656.mp3', 'C:\\\\Users\\\\mahes\\\\Rvu-Python\\\\Song-mood\\\\code\\\\archive\\\\dataset\\\\Audio\\\\657.mp3', 'C:\\\\Users\\\\mahes\\\\Rvu-Python\\\\Song-mood\\\\code\\\\archive\\\\dataset\\\\Audio\\\\658.mp3', 'C:\\\\Users\\\\mahes\\\\Rvu-Python\\\\Song-mood\\\\code\\\\archive\\\\dataset\\\\Audio\\\\659.mp3', 'C:\\\\Users\\\\mahes\\\\Rvu-Python\\\\Song-mood\\\\code\\\\archive\\\\dataset\\\\Audio\\\\660.mp3', 'C:\\\\Users\\\\mahes\\\\Rvu-Python\\\\Song-mood\\\\code\\\\archive\\\\dataset\\\\Audio\\\\661.mp3', 'C:\\\\Users\\\\mahes\\\\Rvu-Python\\\\Song-mood\\\\code\\\\archive\\\\dataset\\\\Audio\\\\662.mp3', 'C:\\\\Users\\\\mahes\\\\Rvu-Python\\\\Song-mood\\\\code\\\\archive\\\\dataset\\\\Audio\\\\663.mp3', 'C:\\\\Users\\\\mahes\\\\Rvu-Python\\\\Song-mood\\\\code\\\\archive\\\\dataset\\\\Audio\\\\664.mp3', 'C:\\\\Users\\\\mahes\\\\Rvu-Python\\\\Song-mood\\\\code\\\\archive\\\\dataset\\\\Audio\\\\665.mp3', 'C:\\\\Users\\\\mahes\\\\Rvu-Python\\\\Song-mood\\\\code\\\\archive\\\\dataset\\\\Audio\\\\666.mp3', 'C:\\\\Users\\\\mahes\\\\Rvu-Python\\\\Song-mood\\\\code\\\\archive\\\\dataset\\\\Audio\\\\667.mp3', 'C:\\\\Users\\\\mahes\\\\Rvu-Python\\\\Song-mood\\\\code\\\\archive\\\\dataset\\\\Audio\\\\668.mp3', 'C:\\\\Users\\\\mahes\\\\Rvu-Python\\\\Song-mood\\\\code\\\\archive\\\\dataset\\\\Audio\\\\669.mp3', 'C:\\\\Users\\\\mahes\\\\Rvu-Python\\\\Song-mood\\\\code\\\\archive\\\\dataset\\\\Audio\\\\670.mp3', 'C:\\\\Users\\\\mahes\\\\Rvu-Python\\\\Song-mood\\\\code\\\\archive\\\\dataset\\\\Audio\\\\671.mp3', 'C:\\\\Users\\\\mahes\\\\Rvu-Python\\\\Song-mood\\\\code\\\\archive\\\\dataset\\\\Audio\\\\672.mp3', 'C:\\\\Users\\\\mahes\\\\Rvu-Python\\\\Song-mood\\\\code\\\\archive\\\\dataset\\\\Audio\\\\673.mp3', 'C:\\\\Users\\\\mahes\\\\Rvu-Python\\\\Song-mood\\\\code\\\\archive\\\\dataset\\\\Audio\\\\674.mp3', 'C:\\\\Users\\\\mahes\\\\Rvu-Python\\\\Song-mood\\\\code\\\\archive\\\\dataset\\\\Audio\\\\675.mp3', 'C:\\\\Users\\\\mahes\\\\Rvu-Python\\\\Song-mood\\\\code\\\\archive\\\\dataset\\\\Audio\\\\676.mp3', 'C:\\\\Users\\\\mahes\\\\Rvu-Python\\\\Song-mood\\\\code\\\\archive\\\\dataset\\\\Audio\\\\677.mp3', 'C:\\\\Users\\\\mahes\\\\Rvu-Python\\\\Song-mood\\\\code\\\\archive\\\\dataset\\\\Audio\\\\678.mp3', 'C:\\\\Users\\\\mahes\\\\Rvu-Python\\\\Song-mood\\\\code\\\\archive\\\\dataset\\\\Audio\\\\679.mp3', 'C:\\\\Users\\\\mahes\\\\Rvu-Python\\\\Song-mood\\\\code\\\\archive\\\\dataset\\\\Audio\\\\680.mp3', 'C:\\\\Users\\\\mahes\\\\Rvu-Python\\\\Song-mood\\\\code\\\\archive\\\\dataset\\\\Audio\\\\681.mp3', 'C:\\\\Users\\\\mahes\\\\Rvu-Python\\\\Song-mood\\\\code\\\\archive\\\\dataset\\\\Audio\\\\682.mp3', 'C:\\\\Users\\\\mahes\\\\Rvu-Python\\\\Song-mood\\\\code\\\\archive\\\\dataset\\\\Audio\\\\683.mp3', 'C:\\\\Users\\\\mahes\\\\Rvu-Python\\\\Song-mood\\\\code\\\\archive\\\\dataset\\\\Audio\\\\684.mp3', 'C:\\\\Users\\\\mahes\\\\Rvu-Python\\\\Song-mood\\\\code\\\\archive\\\\dataset\\\\Audio\\\\685.mp3', 'C:\\\\Users\\\\mahes\\\\Rvu-Python\\\\Song-mood\\\\code\\\\archive\\\\dataset\\\\Audio\\\\686.mp3', 'C:\\\\Users\\\\mahes\\\\Rvu-Python\\\\Song-mood\\\\code\\\\archive\\\\dataset\\\\Audio\\\\687.mp3', 'C:\\\\Users\\\\mahes\\\\Rvu-Python\\\\Song-mood\\\\code\\\\archive\\\\dataset\\\\Audio\\\\688.mp3', 'C:\\\\Users\\\\mahes\\\\Rvu-Python\\\\Song-mood\\\\code\\\\archive\\\\dataset\\\\Audio\\\\689.mp3', 'C:\\\\Users\\\\mahes\\\\Rvu-Python\\\\Song-mood\\\\code\\\\archive\\\\dataset\\\\Audio\\\\690.mp3', 'C:\\\\Users\\\\mahes\\\\Rvu-Python\\\\Song-mood\\\\code\\\\archive\\\\dataset\\\\Audio\\\\691.mp3', 'C:\\\\Users\\\\mahes\\\\Rvu-Python\\\\Song-mood\\\\code\\\\archive\\\\dataset\\\\Audio\\\\692.mp3', 'C:\\\\Users\\\\mahes\\\\Rvu-Python\\\\Song-mood\\\\code\\\\archive\\\\dataset\\\\Audio\\\\693.mp3', 'C:\\\\Users\\\\mahes\\\\Rvu-Python\\\\Song-mood\\\\code\\\\archive\\\\dataset\\\\Audio\\\\694.mp3', 'C:\\\\Users\\\\mahes\\\\Rvu-Python\\\\Song-mood\\\\code\\\\archive\\\\dataset\\\\Audio\\\\695.mp3', 'C:\\\\Users\\\\mahes\\\\Rvu-Python\\\\Song-mood\\\\code\\\\archive\\\\dataset\\\\Audio\\\\696.mp3', 'C:\\\\Users\\\\mahes\\\\Rvu-Python\\\\Song-mood\\\\code\\\\archive\\\\dataset\\\\Audio\\\\697.mp3', 'C:\\\\Users\\\\mahes\\\\Rvu-Python\\\\Song-mood\\\\code\\\\archive\\\\dataset\\\\Audio\\\\698.mp3', 'C:\\\\Users\\\\mahes\\\\Rvu-Python\\\\Song-mood\\\\code\\\\archive\\\\dataset\\\\Audio\\\\699.mp3', 'C:\\\\Users\\\\mahes\\\\Rvu-Python\\\\Song-mood\\\\code\\\\archive\\\\dataset\\\\Audio\\\\700.mp3', 'C:\\\\Users\\\\mahes\\\\Rvu-Python\\\\Song-mood\\\\code\\\\archive\\\\dataset\\\\Audio\\\\701.mp3', 'C:\\\\Users\\\\mahes\\\\Rvu-Python\\\\Song-mood\\\\code\\\\archive\\\\dataset\\\\Audio\\\\702.mp3', 'C:\\\\Users\\\\mahes\\\\Rvu-Python\\\\Song-mood\\\\code\\\\archive\\\\dataset\\\\Audio\\\\703.mp3', 'C:\\\\Users\\\\mahes\\\\Rvu-Python\\\\Song-mood\\\\code\\\\archive\\\\dataset\\\\Audio\\\\704.mp3', 'C:\\\\Users\\\\mahes\\\\Rvu-Python\\\\Song-mood\\\\code\\\\archive\\\\dataset\\\\Audio\\\\705.mp3', 'C:\\\\Users\\\\mahes\\\\Rvu-Python\\\\Song-mood\\\\code\\\\archive\\\\dataset\\\\Audio\\\\706.mp3', 'C:\\\\Users\\\\mahes\\\\Rvu-Python\\\\Song-mood\\\\code\\\\archive\\\\dataset\\\\Audio\\\\707.mp3', 'C:\\\\Users\\\\mahes\\\\Rvu-Python\\\\Song-mood\\\\code\\\\archive\\\\dataset\\\\Audio\\\\708.mp3', 'C:\\\\Users\\\\mahes\\\\Rvu-Python\\\\Song-mood\\\\code\\\\archive\\\\dataset\\\\Audio\\\\709.mp3', 'C:\\\\Users\\\\mahes\\\\Rvu-Python\\\\Song-mood\\\\code\\\\archive\\\\dataset\\\\Audio\\\\710.mp3', 'C:\\\\Users\\\\mahes\\\\Rvu-Python\\\\Song-mood\\\\code\\\\archive\\\\dataset\\\\Audio\\\\711.mp3', 'C:\\\\Users\\\\mahes\\\\Rvu-Python\\\\Song-mood\\\\code\\\\archive\\\\dataset\\\\Audio\\\\712.mp3', 'C:\\\\Users\\\\mahes\\\\Rvu-Python\\\\Song-mood\\\\code\\\\archive\\\\dataset\\\\Audio\\\\713.mp3', 'C:\\\\Users\\\\mahes\\\\Rvu-Python\\\\Song-mood\\\\code\\\\archive\\\\dataset\\\\Audio\\\\714.mp3', 'C:\\\\Users\\\\mahes\\\\Rvu-Python\\\\Song-mood\\\\code\\\\archive\\\\dataset\\\\Audio\\\\715.mp3', 'C:\\\\Users\\\\mahes\\\\Rvu-Python\\\\Song-mood\\\\code\\\\archive\\\\dataset\\\\Audio\\\\716.mp3', 'C:\\\\Users\\\\mahes\\\\Rvu-Python\\\\Song-mood\\\\code\\\\archive\\\\dataset\\\\Audio\\\\717.mp3', 'C:\\\\Users\\\\mahes\\\\Rvu-Python\\\\Song-mood\\\\code\\\\archive\\\\dataset\\\\Audio\\\\718.mp3', 'C:\\\\Users\\\\mahes\\\\Rvu-Python\\\\Song-mood\\\\code\\\\archive\\\\dataset\\\\Audio\\\\719.mp3', 'C:\\\\Users\\\\mahes\\\\Rvu-Python\\\\Song-mood\\\\code\\\\archive\\\\dataset\\\\Audio\\\\720.mp3', 'C:\\\\Users\\\\mahes\\\\Rvu-Python\\\\Song-mood\\\\code\\\\archive\\\\dataset\\\\Audio\\\\721.mp3', 'C:\\\\Users\\\\mahes\\\\Rvu-Python\\\\Song-mood\\\\code\\\\archive\\\\dataset\\\\Audio\\\\722.mp3', 'C:\\\\Users\\\\mahes\\\\Rvu-Python\\\\Song-mood\\\\code\\\\archive\\\\dataset\\\\Audio\\\\723.mp3', 'C:\\\\Users\\\\mahes\\\\Rvu-Python\\\\Song-mood\\\\code\\\\archive\\\\dataset\\\\Audio\\\\724.mp3', 'C:\\\\Users\\\\mahes\\\\Rvu-Python\\\\Song-mood\\\\code\\\\archive\\\\dataset\\\\Audio\\\\725.mp3', 'C:\\\\Users\\\\mahes\\\\Rvu-Python\\\\Song-mood\\\\code\\\\archive\\\\dataset\\\\Audio\\\\726.mp3', 'C:\\\\Users\\\\mahes\\\\Rvu-Python\\\\Song-mood\\\\code\\\\archive\\\\dataset\\\\Audio\\\\727.mp3', 'C:\\\\Users\\\\mahes\\\\Rvu-Python\\\\Song-mood\\\\code\\\\archive\\\\dataset\\\\Audio\\\\728.mp3', 'C:\\\\Users\\\\mahes\\\\Rvu-Python\\\\Song-mood\\\\code\\\\archive\\\\dataset\\\\Audio\\\\729.mp3', 'C:\\\\Users\\\\mahes\\\\Rvu-Python\\\\Song-mood\\\\code\\\\archive\\\\dataset\\\\Audio\\\\730.mp3', 'C:\\\\Users\\\\mahes\\\\Rvu-Python\\\\Song-mood\\\\code\\\\archive\\\\dataset\\\\Audio\\\\731.mp3', 'C:\\\\Users\\\\mahes\\\\Rvu-Python\\\\Song-mood\\\\code\\\\archive\\\\dataset\\\\Audio\\\\732.mp3', 'C:\\\\Users\\\\mahes\\\\Rvu-Python\\\\Song-mood\\\\code\\\\archive\\\\dataset\\\\Audio\\\\733.mp3', 'C:\\\\Users\\\\mahes\\\\Rvu-Python\\\\Song-mood\\\\code\\\\archive\\\\dataset\\\\Audio\\\\734.mp3', 'C:\\\\Users\\\\mahes\\\\Rvu-Python\\\\Song-mood\\\\code\\\\archive\\\\dataset\\\\Audio\\\\735.mp3', 'C:\\\\Users\\\\mahes\\\\Rvu-Python\\\\Song-mood\\\\code\\\\archive\\\\dataset\\\\Audio\\\\736.mp3', 'C:\\\\Users\\\\mahes\\\\Rvu-Python\\\\Song-mood\\\\code\\\\archive\\\\dataset\\\\Audio\\\\737.mp3', 'C:\\\\Users\\\\mahes\\\\Rvu-Python\\\\Song-mood\\\\code\\\\archive\\\\dataset\\\\Audio\\\\738.mp3', 'C:\\\\Users\\\\mahes\\\\Rvu-Python\\\\Song-mood\\\\code\\\\archive\\\\dataset\\\\Audio\\\\739.mp3', 'C:\\\\Users\\\\mahes\\\\Rvu-Python\\\\Song-mood\\\\code\\\\archive\\\\dataset\\\\Audio\\\\740.mp3', 'C:\\\\Users\\\\mahes\\\\Rvu-Python\\\\Song-mood\\\\code\\\\archive\\\\dataset\\\\Audio\\\\741.mp3', 'C:\\\\Users\\\\mahes\\\\Rvu-Python\\\\Song-mood\\\\code\\\\archive\\\\dataset\\\\Audio\\\\742.mp3', 'C:\\\\Users\\\\mahes\\\\Rvu-Python\\\\Song-mood\\\\code\\\\archive\\\\dataset\\\\Audio\\\\743.mp3', 'C:\\\\Users\\\\mahes\\\\Rvu-Python\\\\Song-mood\\\\code\\\\archive\\\\dataset\\\\Audio\\\\744.mp3', 'C:\\\\Users\\\\mahes\\\\Rvu-Python\\\\Song-mood\\\\code\\\\archive\\\\dataset\\\\Audio\\\\745.mp3', 'C:\\\\Users\\\\mahes\\\\Rvu-Python\\\\Song-mood\\\\code\\\\archive\\\\dataset\\\\Audio\\\\746.mp3', 'C:\\\\Users\\\\mahes\\\\Rvu-Python\\\\Song-mood\\\\code\\\\archive\\\\dataset\\\\Audio\\\\747.mp3', 'C:\\\\Users\\\\mahes\\\\Rvu-Python\\\\Song-mood\\\\code\\\\archive\\\\dataset\\\\Audio\\\\748.mp3', 'C:\\\\Users\\\\mahes\\\\Rvu-Python\\\\Song-mood\\\\code\\\\archive\\\\dataset\\\\Audio\\\\749.mp3', 'C:\\\\Users\\\\mahes\\\\Rvu-Python\\\\Song-mood\\\\code\\\\archive\\\\dataset\\\\Audio\\\\750.mp3', 'C:\\\\Users\\\\mahes\\\\Rvu-Python\\\\Song-mood\\\\code\\\\archive\\\\dataset\\\\Audio\\\\751.mp3', 'C:\\\\Users\\\\mahes\\\\Rvu-Python\\\\Song-mood\\\\code\\\\archive\\\\dataset\\\\Audio\\\\752.mp3', 'C:\\\\Users\\\\mahes\\\\Rvu-Python\\\\Song-mood\\\\code\\\\archive\\\\dataset\\\\Audio\\\\753.mp3', 'C:\\\\Users\\\\mahes\\\\Rvu-Python\\\\Song-mood\\\\code\\\\archive\\\\dataset\\\\Audio\\\\754.mp3', 'C:\\\\Users\\\\mahes\\\\Rvu-Python\\\\Song-mood\\\\code\\\\archive\\\\dataset\\\\Audio\\\\755.mp3', 'C:\\\\Users\\\\mahes\\\\Rvu-Python\\\\Song-mood\\\\code\\\\archive\\\\dataset\\\\Audio\\\\756.mp3', 'C:\\\\Users\\\\mahes\\\\Rvu-Python\\\\Song-mood\\\\code\\\\archive\\\\dataset\\\\Audio\\\\757.mp3', 'C:\\\\Users\\\\mahes\\\\Rvu-Python\\\\Song-mood\\\\code\\\\archive\\\\dataset\\\\Audio\\\\758.mp3', 'C:\\\\Users\\\\mahes\\\\Rvu-Python\\\\Song-mood\\\\code\\\\archive\\\\dataset\\\\Audio\\\\759.mp3', 'C:\\\\Users\\\\mahes\\\\Rvu-Python\\\\Song-mood\\\\code\\\\archive\\\\dataset\\\\Audio\\\\760.mp3', 'C:\\\\Users\\\\mahes\\\\Rvu-Python\\\\Song-mood\\\\code\\\\archive\\\\dataset\\\\Audio\\\\761.mp3', 'C:\\\\Users\\\\mahes\\\\Rvu-Python\\\\Song-mood\\\\code\\\\archive\\\\dataset\\\\Audio\\\\762.mp3', 'C:\\\\Users\\\\mahes\\\\Rvu-Python\\\\Song-mood\\\\code\\\\archive\\\\dataset\\\\Audio\\\\763.mp3', 'C:\\\\Users\\\\mahes\\\\Rvu-Python\\\\Song-mood\\\\code\\\\archive\\\\dataset\\\\Audio\\\\764.mp3', 'C:\\\\Users\\\\mahes\\\\Rvu-Python\\\\Song-mood\\\\code\\\\archive\\\\dataset\\\\Audio\\\\765.mp3', 'C:\\\\Users\\\\mahes\\\\Rvu-Python\\\\Song-mood\\\\code\\\\archive\\\\dataset\\\\Audio\\\\766.mp3', 'C:\\\\Users\\\\mahes\\\\Rvu-Python\\\\Song-mood\\\\code\\\\archive\\\\dataset\\\\Audio\\\\767.mp3', 'C:\\\\Users\\\\mahes\\\\Rvu-Python\\\\Song-mood\\\\code\\\\archive\\\\dataset\\\\Audio\\\\768.mp3', 'C:\\\\Users\\\\mahes\\\\Rvu-Python\\\\Song-mood\\\\code\\\\archive\\\\dataset\\\\Audio\\\\769.mp3', 'C:\\\\Users\\\\mahes\\\\Rvu-Python\\\\Song-mood\\\\code\\\\archive\\\\dataset\\\\Audio\\\\770.mp3', 'C:\\\\Users\\\\mahes\\\\Rvu-Python\\\\Song-mood\\\\code\\\\archive\\\\dataset\\\\Audio\\\\771.mp3', 'C:\\\\Users\\\\mahes\\\\Rvu-Python\\\\Song-mood\\\\code\\\\archive\\\\dataset\\\\Audio\\\\772.mp3', 'C:\\\\Users\\\\mahes\\\\Rvu-Python\\\\Song-mood\\\\code\\\\archive\\\\dataset\\\\Audio\\\\773.mp3', 'C:\\\\Users\\\\mahes\\\\Rvu-Python\\\\Song-mood\\\\code\\\\archive\\\\dataset\\\\Audio\\\\774.mp3', 'C:\\\\Users\\\\mahes\\\\Rvu-Python\\\\Song-mood\\\\code\\\\archive\\\\dataset\\\\Audio\\\\775.mp3', 'C:\\\\Users\\\\mahes\\\\Rvu-Python\\\\Song-mood\\\\code\\\\archive\\\\dataset\\\\Audio\\\\776.mp3', 'C:\\\\Users\\\\mahes\\\\Rvu-Python\\\\Song-mood\\\\code\\\\archive\\\\dataset\\\\Audio\\\\777.mp3', 'C:\\\\Users\\\\mahes\\\\Rvu-Python\\\\Song-mood\\\\code\\\\archive\\\\dataset\\\\Audio\\\\778.mp3', 'C:\\\\Users\\\\mahes\\\\Rvu-Python\\\\Song-mood\\\\code\\\\archive\\\\dataset\\\\Audio\\\\779.mp3', 'C:\\\\Users\\\\mahes\\\\Rvu-Python\\\\Song-mood\\\\code\\\\archive\\\\dataset\\\\Audio\\\\780.mp3', 'C:\\\\Users\\\\mahes\\\\Rvu-Python\\\\Song-mood\\\\code\\\\archive\\\\dataset\\\\Audio\\\\781.mp3', 'C:\\\\Users\\\\mahes\\\\Rvu-Python\\\\Song-mood\\\\code\\\\archive\\\\dataset\\\\Audio\\\\782.mp3', 'C:\\\\Users\\\\mahes\\\\Rvu-Python\\\\Song-mood\\\\code\\\\archive\\\\dataset\\\\Audio\\\\783.mp3', 'C:\\\\Users\\\\mahes\\\\Rvu-Python\\\\Song-mood\\\\code\\\\archive\\\\dataset\\\\Audio\\\\784.mp3', 'C:\\\\Users\\\\mahes\\\\Rvu-Python\\\\Song-mood\\\\code\\\\archive\\\\dataset\\\\Audio\\\\785.mp3', 'C:\\\\Users\\\\mahes\\\\Rvu-Python\\\\Song-mood\\\\code\\\\archive\\\\dataset\\\\Audio\\\\786.mp3', 'C:\\\\Users\\\\mahes\\\\Rvu-Python\\\\Song-mood\\\\code\\\\archive\\\\dataset\\\\Audio\\\\787.mp3', 'C:\\\\Users\\\\mahes\\\\Rvu-Python\\\\Song-mood\\\\code\\\\archive\\\\dataset\\\\Audio\\\\788.mp3', 'C:\\\\Users\\\\mahes\\\\Rvu-Python\\\\Song-mood\\\\code\\\\archive\\\\dataset\\\\Audio\\\\789.mp3', 'C:\\\\Users\\\\mahes\\\\Rvu-Python\\\\Song-mood\\\\code\\\\archive\\\\dataset\\\\Audio\\\\790.mp3', 'C:\\\\Users\\\\mahes\\\\Rvu-Python\\\\Song-mood\\\\code\\\\archive\\\\dataset\\\\Audio\\\\791.mp3', 'C:\\\\Users\\\\mahes\\\\Rvu-Python\\\\Song-mood\\\\code\\\\archive\\\\dataset\\\\Audio\\\\792.mp3', 'C:\\\\Users\\\\mahes\\\\Rvu-Python\\\\Song-mood\\\\code\\\\archive\\\\dataset\\\\Audio\\\\793.mp3', 'C:\\\\Users\\\\mahes\\\\Rvu-Python\\\\Song-mood\\\\code\\\\archive\\\\dataset\\\\Audio\\\\794.mp3', 'C:\\\\Users\\\\mahes\\\\Rvu-Python\\\\Song-mood\\\\code\\\\archive\\\\dataset\\\\Audio\\\\795.mp3', 'C:\\\\Users\\\\mahes\\\\Rvu-Python\\\\Song-mood\\\\code\\\\archive\\\\dataset\\\\Audio\\\\796.mp3', 'C:\\\\Users\\\\mahes\\\\Rvu-Python\\\\Song-mood\\\\code\\\\archive\\\\dataset\\\\Audio\\\\797.mp3', 'C:\\\\Users\\\\mahes\\\\Rvu-Python\\\\Song-mood\\\\code\\\\archive\\\\dataset\\\\Audio\\\\798.mp3', 'C:\\\\Users\\\\mahes\\\\Rvu-Python\\\\Song-mood\\\\code\\\\archive\\\\dataset\\\\Audio\\\\799.mp3', 'C:\\\\Users\\\\mahes\\\\Rvu-Python\\\\Song-mood\\\\code\\\\archive\\\\dataset\\\\Audio\\\\800.mp3', 'C:\\\\Users\\\\mahes\\\\Rvu-Python\\\\Song-mood\\\\code\\\\archive\\\\dataset\\\\Audio\\\\801.mp3', 'C:\\\\Users\\\\mahes\\\\Rvu-Python\\\\Song-mood\\\\code\\\\archive\\\\dataset\\\\Audio\\\\802.mp3', 'C:\\\\Users\\\\mahes\\\\Rvu-Python\\\\Song-mood\\\\code\\\\archive\\\\dataset\\\\Audio\\\\803.mp3', 'C:\\\\Users\\\\mahes\\\\Rvu-Python\\\\Song-mood\\\\code\\\\archive\\\\dataset\\\\Audio\\\\804.mp3', 'C:\\\\Users\\\\mahes\\\\Rvu-Python\\\\Song-mood\\\\code\\\\archive\\\\dataset\\\\Audio\\\\805.mp3', 'C:\\\\Users\\\\mahes\\\\Rvu-Python\\\\Song-mood\\\\code\\\\archive\\\\dataset\\\\Audio\\\\806.mp3', 'C:\\\\Users\\\\mahes\\\\Rvu-Python\\\\Song-mood\\\\code\\\\archive\\\\dataset\\\\Audio\\\\807.mp3', 'C:\\\\Users\\\\mahes\\\\Rvu-Python\\\\Song-mood\\\\code\\\\archive\\\\dataset\\\\Audio\\\\808.mp3', 'C:\\\\Users\\\\mahes\\\\Rvu-Python\\\\Song-mood\\\\code\\\\archive\\\\dataset\\\\Audio\\\\809.mp3', 'C:\\\\Users\\\\mahes\\\\Rvu-Python\\\\Song-mood\\\\code\\\\archive\\\\dataset\\\\Audio\\\\810.mp3', 'C:\\\\Users\\\\mahes\\\\Rvu-Python\\\\Song-mood\\\\code\\\\archive\\\\dataset\\\\Audio\\\\811.mp3', 'C:\\\\Users\\\\mahes\\\\Rvu-Python\\\\Song-mood\\\\code\\\\archive\\\\dataset\\\\Audio\\\\812.mp3', 'C:\\\\Users\\\\mahes\\\\Rvu-Python\\\\Song-mood\\\\code\\\\archive\\\\dataset\\\\Audio\\\\813.mp3', 'C:\\\\Users\\\\mahes\\\\Rvu-Python\\\\Song-mood\\\\code\\\\archive\\\\dataset\\\\Audio\\\\814.mp3', 'C:\\\\Users\\\\mahes\\\\Rvu-Python\\\\Song-mood\\\\code\\\\archive\\\\dataset\\\\Audio\\\\815.mp3', 'C:\\\\Users\\\\mahes\\\\Rvu-Python\\\\Song-mood\\\\code\\\\archive\\\\dataset\\\\Audio\\\\816.mp3', 'C:\\\\Users\\\\mahes\\\\Rvu-Python\\\\Song-mood\\\\code\\\\archive\\\\dataset\\\\Audio\\\\817.mp3', 'C:\\\\Users\\\\mahes\\\\Rvu-Python\\\\Song-mood\\\\code\\\\archive\\\\dataset\\\\Audio\\\\818.mp3', 'C:\\\\Users\\\\mahes\\\\Rvu-Python\\\\Song-mood\\\\code\\\\archive\\\\dataset\\\\Audio\\\\819.mp3', 'C:\\\\Users\\\\mahes\\\\Rvu-Python\\\\Song-mood\\\\code\\\\archive\\\\dataset\\\\Audio\\\\820.mp3', 'C:\\\\Users\\\\mahes\\\\Rvu-Python\\\\Song-mood\\\\code\\\\archive\\\\dataset\\\\Audio\\\\821.mp3', 'C:\\\\Users\\\\mahes\\\\Rvu-Python\\\\Song-mood\\\\code\\\\archive\\\\dataset\\\\Audio\\\\822.mp3', 'C:\\\\Users\\\\mahes\\\\Rvu-Python\\\\Song-mood\\\\code\\\\archive\\\\dataset\\\\Audio\\\\823.mp3', 'C:\\\\Users\\\\mahes\\\\Rvu-Python\\\\Song-mood\\\\code\\\\archive\\\\dataset\\\\Audio\\\\824.mp3', 'C:\\\\Users\\\\mahes\\\\Rvu-Python\\\\Song-mood\\\\code\\\\archive\\\\dataset\\\\Audio\\\\825.mp3', 'C:\\\\Users\\\\mahes\\\\Rvu-Python\\\\Song-mood\\\\code\\\\archive\\\\dataset\\\\Audio\\\\826.mp3', 'C:\\\\Users\\\\mahes\\\\Rvu-Python\\\\Song-mood\\\\code\\\\archive\\\\dataset\\\\Audio\\\\827.mp3', 'C:\\\\Users\\\\mahes\\\\Rvu-Python\\\\Song-mood\\\\code\\\\archive\\\\dataset\\\\Audio\\\\828.mp3', 'C:\\\\Users\\\\mahes\\\\Rvu-Python\\\\Song-mood\\\\code\\\\archive\\\\dataset\\\\Audio\\\\829.mp3', 'C:\\\\Users\\\\mahes\\\\Rvu-Python\\\\Song-mood\\\\code\\\\archive\\\\dataset\\\\Audio\\\\830.mp3', 'C:\\\\Users\\\\mahes\\\\Rvu-Python\\\\Song-mood\\\\code\\\\archive\\\\dataset\\\\Audio\\\\831.mp3', 'C:\\\\Users\\\\mahes\\\\Rvu-Python\\\\Song-mood\\\\code\\\\archive\\\\dataset\\\\Audio\\\\832.mp3', 'C:\\\\Users\\\\mahes\\\\Rvu-Python\\\\Song-mood\\\\code\\\\archive\\\\dataset\\\\Audio\\\\833.mp3', 'C:\\\\Users\\\\mahes\\\\Rvu-Python\\\\Song-mood\\\\code\\\\archive\\\\dataset\\\\Audio\\\\834.mp3', 'C:\\\\Users\\\\mahes\\\\Rvu-Python\\\\Song-mood\\\\code\\\\archive\\\\dataset\\\\Audio\\\\835.mp3', 'C:\\\\Users\\\\mahes\\\\Rvu-Python\\\\Song-mood\\\\code\\\\archive\\\\dataset\\\\Audio\\\\836.mp3', 'C:\\\\Users\\\\mahes\\\\Rvu-Python\\\\Song-mood\\\\code\\\\archive\\\\dataset\\\\Audio\\\\837.mp3', 'C:\\\\Users\\\\mahes\\\\Rvu-Python\\\\Song-mood\\\\code\\\\archive\\\\dataset\\\\Audio\\\\838.mp3', 'C:\\\\Users\\\\mahes\\\\Rvu-Python\\\\Song-mood\\\\code\\\\archive\\\\dataset\\\\Audio\\\\839.mp3', 'C:\\\\Users\\\\mahes\\\\Rvu-Python\\\\Song-mood\\\\code\\\\archive\\\\dataset\\\\Audio\\\\840.mp3', 'C:\\\\Users\\\\mahes\\\\Rvu-Python\\\\Song-mood\\\\code\\\\archive\\\\dataset\\\\Audio\\\\841.mp3', 'C:\\\\Users\\\\mahes\\\\Rvu-Python\\\\Song-mood\\\\code\\\\archive\\\\dataset\\\\Audio\\\\842.mp3', 'C:\\\\Users\\\\mahes\\\\Rvu-Python\\\\Song-mood\\\\code\\\\archive\\\\dataset\\\\Audio\\\\843.mp3', 'C:\\\\Users\\\\mahes\\\\Rvu-Python\\\\Song-mood\\\\code\\\\archive\\\\dataset\\\\Audio\\\\844.mp3', 'C:\\\\Users\\\\mahes\\\\Rvu-Python\\\\Song-mood\\\\code\\\\archive\\\\dataset\\\\Audio\\\\845.mp3', 'C:\\\\Users\\\\mahes\\\\Rvu-Python\\\\Song-mood\\\\code\\\\archive\\\\dataset\\\\Audio\\\\846.mp3', 'C:\\\\Users\\\\mahes\\\\Rvu-Python\\\\Song-mood\\\\code\\\\archive\\\\dataset\\\\Audio\\\\847.mp3', 'C:\\\\Users\\\\mahes\\\\Rvu-Python\\\\Song-mood\\\\code\\\\archive\\\\dataset\\\\Audio\\\\848.mp3', 'C:\\\\Users\\\\mahes\\\\Rvu-Python\\\\Song-mood\\\\code\\\\archive\\\\dataset\\\\Audio\\\\849.mp3', 'C:\\\\Users\\\\mahes\\\\Rvu-Python\\\\Song-mood\\\\code\\\\archive\\\\dataset\\\\Audio\\\\850.mp3', 'C:\\\\Users\\\\mahes\\\\Rvu-Python\\\\Song-mood\\\\code\\\\archive\\\\dataset\\\\Audio\\\\851.mp3', 'C:\\\\Users\\\\mahes\\\\Rvu-Python\\\\Song-mood\\\\code\\\\archive\\\\dataset\\\\Audio\\\\852.mp3', 'C:\\\\Users\\\\mahes\\\\Rvu-Python\\\\Song-mood\\\\code\\\\archive\\\\dataset\\\\Audio\\\\853.mp3', 'C:\\\\Users\\\\mahes\\\\Rvu-Python\\\\Song-mood\\\\code\\\\archive\\\\dataset\\\\Audio\\\\854.mp3', 'C:\\\\Users\\\\mahes\\\\Rvu-Python\\\\Song-mood\\\\code\\\\archive\\\\dataset\\\\Audio\\\\855.mp3', 'C:\\\\Users\\\\mahes\\\\Rvu-Python\\\\Song-mood\\\\code\\\\archive\\\\dataset\\\\Audio\\\\856.mp3', 'C:\\\\Users\\\\mahes\\\\Rvu-Python\\\\Song-mood\\\\code\\\\archive\\\\dataset\\\\Audio\\\\857.mp3', 'C:\\\\Users\\\\mahes\\\\Rvu-Python\\\\Song-mood\\\\code\\\\archive\\\\dataset\\\\Audio\\\\858.mp3', 'C:\\\\Users\\\\mahes\\\\Rvu-Python\\\\Song-mood\\\\code\\\\archive\\\\dataset\\\\Audio\\\\859.mp3', 'C:\\\\Users\\\\mahes\\\\Rvu-Python\\\\Song-mood\\\\code\\\\archive\\\\dataset\\\\Audio\\\\860.mp3', 'C:\\\\Users\\\\mahes\\\\Rvu-Python\\\\Song-mood\\\\code\\\\archive\\\\dataset\\\\Audio\\\\861.mp3', 'C:\\\\Users\\\\mahes\\\\Rvu-Python\\\\Song-mood\\\\code\\\\archive\\\\dataset\\\\Audio\\\\862.mp3', 'C:\\\\Users\\\\mahes\\\\Rvu-Python\\\\Song-mood\\\\code\\\\archive\\\\dataset\\\\Audio\\\\863.mp3', 'C:\\\\Users\\\\mahes\\\\Rvu-Python\\\\Song-mood\\\\code\\\\archive\\\\dataset\\\\Audio\\\\864.mp3', 'C:\\\\Users\\\\mahes\\\\Rvu-Python\\\\Song-mood\\\\code\\\\archive\\\\dataset\\\\Audio\\\\865.mp3', 'C:\\\\Users\\\\mahes\\\\Rvu-Python\\\\Song-mood\\\\code\\\\archive\\\\dataset\\\\Audio\\\\866.mp3', 'C:\\\\Users\\\\mahes\\\\Rvu-Python\\\\Song-mood\\\\code\\\\archive\\\\dataset\\\\Audio\\\\867.mp3', 'C:\\\\Users\\\\mahes\\\\Rvu-Python\\\\Song-mood\\\\code\\\\archive\\\\dataset\\\\Audio\\\\868.mp3', 'C:\\\\Users\\\\mahes\\\\Rvu-Python\\\\Song-mood\\\\code\\\\archive\\\\dataset\\\\Audio\\\\869.mp3', 'C:\\\\Users\\\\mahes\\\\Rvu-Python\\\\Song-mood\\\\code\\\\archive\\\\dataset\\\\Audio\\\\870.mp3', 'C:\\\\Users\\\\mahes\\\\Rvu-Python\\\\Song-mood\\\\code\\\\archive\\\\dataset\\\\Audio\\\\871.mp3', 'C:\\\\Users\\\\mahes\\\\Rvu-Python\\\\Song-mood\\\\code\\\\archive\\\\dataset\\\\Audio\\\\872.mp3', 'C:\\\\Users\\\\mahes\\\\Rvu-Python\\\\Song-mood\\\\code\\\\archive\\\\dataset\\\\Audio\\\\873.mp3', 'C:\\\\Users\\\\mahes\\\\Rvu-Python\\\\Song-mood\\\\code\\\\archive\\\\dataset\\\\Audio\\\\874.mp3', 'C:\\\\Users\\\\mahes\\\\Rvu-Python\\\\Song-mood\\\\code\\\\archive\\\\dataset\\\\Audio\\\\875.mp3', 'C:\\\\Users\\\\mahes\\\\Rvu-Python\\\\Song-mood\\\\code\\\\archive\\\\dataset\\\\Audio\\\\876.mp3', 'C:\\\\Users\\\\mahes\\\\Rvu-Python\\\\Song-mood\\\\code\\\\archive\\\\dataset\\\\Audio\\\\877.mp3', 'C:\\\\Users\\\\mahes\\\\Rvu-Python\\\\Song-mood\\\\code\\\\archive\\\\dataset\\\\Audio\\\\878.mp3', 'C:\\\\Users\\\\mahes\\\\Rvu-Python\\\\Song-mood\\\\code\\\\archive\\\\dataset\\\\Audio\\\\879.mp3', 'C:\\\\Users\\\\mahes\\\\Rvu-Python\\\\Song-mood\\\\code\\\\archive\\\\dataset\\\\Audio\\\\880.mp3', 'C:\\\\Users\\\\mahes\\\\Rvu-Python\\\\Song-mood\\\\code\\\\archive\\\\dataset\\\\Audio\\\\881.mp3', 'C:\\\\Users\\\\mahes\\\\Rvu-Python\\\\Song-mood\\\\code\\\\archive\\\\dataset\\\\Audio\\\\882.mp3', 'C:\\\\Users\\\\mahes\\\\Rvu-Python\\\\Song-mood\\\\code\\\\archive\\\\dataset\\\\Audio\\\\883.mp3', 'C:\\\\Users\\\\mahes\\\\Rvu-Python\\\\Song-mood\\\\code\\\\archive\\\\dataset\\\\Audio\\\\884.mp3', 'C:\\\\Users\\\\mahes\\\\Rvu-Python\\\\Song-mood\\\\code\\\\archive\\\\dataset\\\\Audio\\\\885.mp3', 'C:\\\\Users\\\\mahes\\\\Rvu-Python\\\\Song-mood\\\\code\\\\archive\\\\dataset\\\\Audio\\\\886.mp3', 'C:\\\\Users\\\\mahes\\\\Rvu-Python\\\\Song-mood\\\\code\\\\archive\\\\dataset\\\\Audio\\\\887.mp3', 'C:\\\\Users\\\\mahes\\\\Rvu-Python\\\\Song-mood\\\\code\\\\archive\\\\dataset\\\\Audio\\\\888.mp3', 'C:\\\\Users\\\\mahes\\\\Rvu-Python\\\\Song-mood\\\\code\\\\archive\\\\dataset\\\\Audio\\\\889.mp3', 'C:\\\\Users\\\\mahes\\\\Rvu-Python\\\\Song-mood\\\\code\\\\archive\\\\dataset\\\\Audio\\\\890.mp3', 'C:\\\\Users\\\\mahes\\\\Rvu-Python\\\\Song-mood\\\\code\\\\archive\\\\dataset\\\\Audio\\\\891.mp3', 'C:\\\\Users\\\\mahes\\\\Rvu-Python\\\\Song-mood\\\\code\\\\archive\\\\dataset\\\\Audio\\\\892.mp3', 'C:\\\\Users\\\\mahes\\\\Rvu-Python\\\\Song-mood\\\\code\\\\archive\\\\dataset\\\\Audio\\\\893.mp3', 'C:\\\\Users\\\\mahes\\\\Rvu-Python\\\\Song-mood\\\\code\\\\archive\\\\dataset\\\\Audio\\\\894.mp3', 'C:\\\\Users\\\\mahes\\\\Rvu-Python\\\\Song-mood\\\\code\\\\archive\\\\dataset\\\\Audio\\\\895.mp3', 'C:\\\\Users\\\\mahes\\\\Rvu-Python\\\\Song-mood\\\\code\\\\archive\\\\dataset\\\\Audio\\\\896.mp3', 'C:\\\\Users\\\\mahes\\\\Rvu-Python\\\\Song-mood\\\\code\\\\archive\\\\dataset\\\\Audio\\\\897.mp3', 'C:\\\\Users\\\\mahes\\\\Rvu-Python\\\\Song-mood\\\\code\\\\archive\\\\dataset\\\\Audio\\\\898.mp3', 'C:\\\\Users\\\\mahes\\\\Rvu-Python\\\\Song-mood\\\\code\\\\archive\\\\dataset\\\\Audio\\\\899.mp3', 'C:\\\\Users\\\\mahes\\\\Rvu-Python\\\\Song-mood\\\\code\\\\archive\\\\dataset\\\\Audio\\\\900.mp3', 'C:\\\\Users\\\\mahes\\\\Rvu-Python\\\\Song-mood\\\\code\\\\archive\\\\dataset\\\\Audio\\\\901.mp3', 'C:\\\\Users\\\\mahes\\\\Rvu-Python\\\\Song-mood\\\\code\\\\archive\\\\dataset\\\\Audio\\\\902.mp3', 'C:\\\\Users\\\\mahes\\\\Rvu-Python\\\\Song-mood\\\\code\\\\archive\\\\dataset\\\\Audio\\\\903.mp3']\n"
     ]
    }
   ],
   "source": [
    "file_paths = []\n",
    "for file_name in music_directory:\n",
    "    # Create the full file path using os.path.join()\n",
    "    file_path = os.path.join(audio, file_name)\n",
    "    \n",
    "    # Add the file path to the list\n",
    "    file_paths.append(file_path)\n",
    "    \n",
    "# Sort the file paths based on the numeric values in the file names\n",
    "file_paths = sorted(file_paths)\n",
    "# Print the list of file paths\n",
    "print(file_paths)"
   ]
  },
  {
   "cell_type": "code",
   "execution_count": 61,
   "id": "6f687ee4-1712-4929-b349-96379fd7ca48",
   "metadata": {},
   "outputs": [
    {
     "name": "stdout",
     "output_type": "stream",
     "text": [
      "2\n"
     ]
    }
   ],
   "source": [
    "txt_file_path = r'C:\\Users\\mahes\\Rvu-Python\\Song-mood\\code\\archive\\dataset\\clusters.txt'\n",
    "\n",
    "# Create a list to store cluster numbers\n",
    "cluster_numbers = []\n",
    "\n",
    "# Read the txt file and extract cluster numbers\n",
    "with open(txt_file_path, 'r') as file:\n",
    "    for line in file:\n",
    "        # Assuming each line contains \"Cluster\" followed by a space and the cluster number\n",
    "        if line.startswith('Cluster'):\n",
    "            _, cluster_number = line.strip().split()\n",
    "            cluster_numbers.append(int(cluster_number))\n",
    "\n",
    "# Print the list of cluster numbers\n",
    "print(cluster_numbers[170])"
   ]
  },
  {
   "cell_type": "code",
   "execution_count": 63,
   "id": "e7735304-dc39-4c63-ae2b-3daee01dc7cb",
   "metadata": {},
   "outputs": [],
   "source": [
    "file_paths_df = pd.DataFrame(file_paths, columns=['Path'])\n",
    "cluster_numbers_df = pd.DataFrame(cluster_numbers, columns=['Cluster'])\n",
    "data_path = pd.concat([cluster_numbers_df, file_paths_df], axis=1)"
   ]
  },
  {
   "cell_type": "code",
   "execution_count": 65,
   "id": "5bc92a7b-85c6-4656-835b-f1659ce28199",
   "metadata": {},
   "outputs": [
    {
     "name": "stdout",
     "output_type": "stream",
     "text": [
      "Cluster\n",
      "3    215\n",
      "4    191\n",
      "1    170\n",
      "2    164\n",
      "5    163\n",
      "Name: count, dtype: int64\n"
     ]
    }
   ],
   "source": [
    "print(data_path.Cluster.value_counts())"
   ]
  },
  {
   "cell_type": "code",
   "execution_count": 67,
   "id": "36a9c68e-e21d-4501-aed2-d59e7554d47c",
   "metadata": {},
   "outputs": [
    {
     "name": "stdout",
     "output_type": "stream",
     "text": [
      "   Cluster                                               Path\n",
      "0        1  C:\\Users\\mahes\\Rvu-Python\\Song-mood\\code\\archi...\n",
      "1        1  C:\\Users\\mahes\\Rvu-Python\\Song-mood\\code\\archi...\n",
      "2        1  C:\\Users\\mahes\\Rvu-Python\\Song-mood\\code\\archi...\n",
      "3        1  C:\\Users\\mahes\\Rvu-Python\\Song-mood\\code\\archi...\n",
      "4        1  C:\\Users\\mahes\\Rvu-Python\\Song-mood\\code\\archi...\n",
      "______________________________________________\n",
      "     Cluster                                               Path\n",
      "898        5  C:\\Users\\mahes\\Rvu-Python\\Song-mood\\code\\archi...\n",
      "899        5  C:\\Users\\mahes\\Rvu-Python\\Song-mood\\code\\archi...\n",
      "900        5  C:\\Users\\mahes\\Rvu-Python\\Song-mood\\code\\archi...\n",
      "901        5  C:\\Users\\mahes\\Rvu-Python\\Song-mood\\code\\archi...\n",
      "902        5  C:\\Users\\mahes\\Rvu-Python\\Song-mood\\code\\archi...\n",
      "_______________________________________________\n"
     ]
    }
   ],
   "source": [
    "print(data_path.head())\n",
    "print(\"______________________________________________\")\n",
    "print(data_path.tail())\n",
    "print(\"_______________________________________________\")\n",
    "#print(path_df.Emotions.value_counts())"
   ]
  },
  {
   "cell_type": "code",
   "execution_count": 69,
   "id": "678afaa7-03a1-4b45-88a8-3b3d22f1c831",
   "metadata": {},
   "outputs": [
    {
     "data": {
      "image/png": "[encoded data removed]",
      "text/plain": [
       "<Figure size 640x480 with 1 Axes>"
      ]
     },
     "metadata": {},
     "output_type": "display_data"
    }
   ],
   "source": [
    "import matplotlib.pyplot as plt\n",
    "import seaborn as sns\n",
    "\n",
    "plt.title('Count of Emotions', size=16)\n",
    "sns.countplot(data=data_path, x='Cluster')  # Use x='Cluster' to specify the column name\n",
    "plt.ylabel('Count', size=12)\n",
    "plt.xlabel('Cluster', size=12)\n",
    "sns.despine(top=True, right=True, left=False, bottom=False)\n",
    "plt.show()"
   ]
  },
  {
   "cell_type": "code",
   "execution_count": 71,
   "id": "acfae01a-9807-40ce-b265-4a9fafd4d3c3",
   "metadata": {},
   "outputs": [],
   "source": [
    "# NOISE\n",
    "def noise(data):\n",
    "    noise_amp = 0.035*np.random.uniform()*np.amax(data)\n",
    "    data = data + noise_amp*np.random.normal(size=data.shape[0])\n",
    "    return data\n",
    "\n",
    "# STRETCH\n",
    "def stretch(data, rate=0.8):\n",
    "    return librosa.effects.time_stretch(y=data, rate=rate)\n",
    "\n",
    "# SHIFT\n",
    "def shift(data):\n",
    "    shift_range = int(np.random.uniform(low=-5, high = 5)*1000)\n",
    "    return np.roll(data, shift_range)\n",
    "\n",
    "# PITCH\n",
    "def pitch(data, sampling_rate, pitch_factor=0.7):\n",
    "    return librosa.effects.pitch_shift(y=data, sr=sampling_rate, n_steps=pitch_factor)"
   ]
  },
  {
   "cell_type": "code",
   "execution_count": 73,
   "id": "56db6f72-e3c1-440f-9206-b0f05e3a5e82",
   "metadata": {},
   "outputs": [],
   "source": [
    "# Zero crossing rate\n",
    "def zcr(data,frame_length,hop_length):\n",
    "    zcr=librosa.feature.zero_crossing_rate(data,frame_length=frame_length,hop_length=hop_length)\n",
    "    return np.squeeze(zcr)\n",
    "\n",
    "# Root mean square\n",
    "def rmse(data,frame_length=2048,hop_length=512):\n",
    "    rmse=librosa.feature.rms(y=data,frame_length=frame_length,hop_length=hop_length)\n",
    "    return np.squeeze(rmse)\n",
    "\n",
    "# Mel-Frequency Cepstral coefficient\n",
    "def mfcc(data,sr,frame_length=2048,hop_length=512,flatten:bool=True):\n",
    "    mfcc=librosa.feature.mfcc(y=data,sr=sr)\n",
    "    return np.squeeze(mfcc.T)if not flatten else np.ravel(mfcc.T)\n",
    "\n",
    "# Combine all feature functions\n",
    "def extract_features(data,sr=22050,frame_length=2048,hop_length=512):\n",
    "    result=np.array([])\n",
    "    \n",
    "    result=np.hstack((result,\n",
    "                      zcr(data,frame_length,hop_length),\n",
    "                      rmse(data,frame_length,hop_length),\n",
    "                      mfcc(data,sr,frame_length,hop_length)\n",
    "                     ))\n",
    "    return result\n",
    "\n",
    "# Apply data augmentation and extract its features\n",
    "def get_features(path,duration=28, offset=0.6):\n",
    "    data,sr=librosa.load(path,duration=duration,offset=offset,mono=True)\n",
    "    aud=extract_features(data)\n",
    "    audio=np.array(aud)\n",
    "    \n",
    "    noised_audio=noise(data)\n",
    "    aud2=extract_features(noised_audio)\n",
    "    audio=np.vstack((audio,aud2))\n",
    "    \n",
    "    pitched_audio=pitch(data,sr)\n",
    "    aud3=extract_features(pitched_audio)\n",
    "    audio=np.vstack((audio,aud3))\n",
    "    \n",
    "    pitched_audio1=pitch(data,sr)\n",
    "    pitched_noised_audio=noise(pitched_audio1)\n",
    "    aud4=extract_features(pitched_noised_audio)\n",
    "    audio=np.vstack((audio,aud4))\n",
    "    \n",
    "    return audio"
   ]
  },
  {
   "cell_type": "code",
   "execution_count": 75,
   "id": "8ba2c23b-86f6-45c4-8ef0-892badd1ce9a",
   "metadata": {},
   "outputs": [
    {
     "name": "stdout",
     "output_type": "stream",
     "text": [
      "Number of processors:  16\n"
     ]
    }
   ],
   "source": [
    "import multiprocessing as mp\n",
    "print(\"Number of processors: \", mp.cpu_count())"
   ]
  },
  {
   "cell_type": "code",
   "execution_count": 77,
   "id": "70abc4be-09ef-4c62-966b-3e8e68ac05d2",
   "metadata": {},
   "outputs": [
    {
     "data": {
      "text/plain": [
       "903"
      ]
     },
     "execution_count": 77,
     "metadata": {},
     "output_type": "execute_result"
    }
   ],
   "source": [
    "data_path.Path.shape[0]"
   ]
  },
  {
   "cell_type": "code",
   "execution_count": 79,
   "id": "ace5e92e-73e6-495f-91aa-62078c455f0b",
   "metadata": {},
   "outputs": [
    {
     "name": "stderr",
     "output_type": "stream",
     "text": [
      "1it [00:01,  1.32s/it]"
     ]
    },
    {
     "name": "stdout",
     "output_type": "stream",
     "text": [
      "0 audio has been processed\n"
     ]
    },
    {
     "name": "stderr",
     "output_type": "stream",
     "text": [
      "501it [04:27,  1.92it/s]"
     ]
    },
    {
     "name": "stdout",
     "output_type": "stream",
     "text": [
      "500 audio has been processed\n"
     ]
    },
    {
     "name": "stderr",
     "output_type": "stream",
     "text": [
      "903it [08:01,  1.88it/s]"
     ]
    },
    {
     "name": "stdout",
     "output_type": "stream",
     "text": [
      "Done\n",
      "Time:  481.4303593000004\n"
     ]
    },
    {
     "name": "stderr",
     "output_type": "stream",
     "text": [
      "\n"
     ]
    }
   ],
   "source": [
    "import timeit\n",
    "from tqdm import tqdm\n",
    "\n",
    "# Extract the features.\n",
    "start = timeit.default_timer()\n",
    "X,Y=[],[]\n",
    "for path,emotion,index in tqdm (zip(data_path.Path,data_path.Cluster,range(data_path.Path.shape[0]))):\n",
    "    features=get_features(path)\n",
    "    if index%500==0:\n",
    "        print(f'{index} audio has been processed')\n",
    "    for i in features:\n",
    "        X.append(i)\n",
    "        Y.append(emotion)\n",
    "print('Done')\n",
    "stop = timeit.default_timer()\n",
    "\n",
    "print('Time: ', stop - start)     "
   ]
  },
  {
   "cell_type": "code",
   "execution_count": 81,
   "id": "5c3a2d22-ad52-49b1-868c-71cd389b838c",
   "metadata": {},
   "outputs": [
    {
     "data": {
      "text/plain": [
       "(3612, 3612, (903,))"
      ]
     },
     "execution_count": 81,
     "metadata": {},
     "output_type": "execute_result"
    }
   ],
   "source": [
    "len(X), len(Y), data_path.Path.shape"
   ]
  },
  {
   "cell_type": "code",
   "execution_count": 83,
   "id": "d7b728c0-a386-45c9-b012-55bca6abbd45",
   "metadata": {},
   "outputs": [
    {
     "data": {
      "text/html": [
       "<div>\n",
       "<style scoped>\n",
       "    .dataframe tbody tr th:only-of-type {\n",
       "        vertical-align: middle;\n",
       "    }\n",
       "\n",
       "    .dataframe tbody tr th {\n",
       "        vertical-align: top;\n",
       "    }\n",
       "\n",
       "    .dataframe thead th {\n",
       "        text-align: right;\n",
       "    }\n",
       "</style>\n",
       "<table border=\"1\" class=\"dataframe\">\n",
       "  <thead>\n",
       "    <tr style=\"text-align: right;\">\n",
       "      <th></th>\n",
       "      <th>0</th>\n",
       "      <th>1</th>\n",
       "      <th>2</th>\n",
       "      <th>3</th>\n",
       "      <th>4</th>\n",
       "      <th>5</th>\n",
       "      <th>6</th>\n",
       "      <th>7</th>\n",
       "      <th>8</th>\n",
       "      <th>9</th>\n",
       "      <th>...</th>\n",
       "      <th>26523</th>\n",
       "      <th>26524</th>\n",
       "      <th>26525</th>\n",
       "      <th>26526</th>\n",
       "      <th>26527</th>\n",
       "      <th>26528</th>\n",
       "      <th>26529</th>\n",
       "      <th>26530</th>\n",
       "      <th>26531</th>\n",
       "      <th>Emotions</th>\n",
       "    </tr>\n",
       "  </thead>\n",
       "  <tbody>\n",
       "    <tr>\n",
       "      <th>0</th>\n",
       "      <td>0.068848</td>\n",
       "      <td>0.152344</td>\n",
       "      <td>0.193359</td>\n",
       "      <td>0.201172</td>\n",
       "      <td>0.201172</td>\n",
       "      <td>0.148438</td>\n",
       "      <td>0.138672</td>\n",
       "      <td>0.117188</td>\n",
       "      <td>0.105957</td>\n",
       "      <td>0.098145</td>\n",
       "      <td>...</td>\n",
       "      <td>4.576486</td>\n",
       "      <td>-6.084824</td>\n",
       "      <td>0.972752</td>\n",
       "      <td>0.282738</td>\n",
       "      <td>-7.802341</td>\n",
       "      <td>-2.931611</td>\n",
       "      <td>-14.446407</td>\n",
       "      <td>-15.551273</td>\n",
       "      <td>-2.425961</td>\n",
       "      <td>1</td>\n",
       "    </tr>\n",
       "    <tr>\n",
       "      <th>1</th>\n",
       "      <td>0.090332</td>\n",
       "      <td>0.177734</td>\n",
       "      <td>0.224609</td>\n",
       "      <td>0.222168</td>\n",
       "      <td>0.218750</td>\n",
       "      <td>0.166992</td>\n",
       "      <td>0.157227</td>\n",
       "      <td>0.135254</td>\n",
       "      <td>0.125488</td>\n",
       "      <td>0.114746</td>\n",
       "      <td>...</td>\n",
       "      <td>5.281944</td>\n",
       "      <td>-1.115308</td>\n",
       "      <td>2.201428</td>\n",
       "      <td>-1.344719</td>\n",
       "      <td>-8.766788</td>\n",
       "      <td>-5.328629</td>\n",
       "      <td>-9.067704</td>\n",
       "      <td>-9.602626</td>\n",
       "      <td>-0.964996</td>\n",
       "      <td>1</td>\n",
       "    </tr>\n",
       "    <tr>\n",
       "      <th>2</th>\n",
       "      <td>0.077637</td>\n",
       "      <td>0.133789</td>\n",
       "      <td>0.183594</td>\n",
       "      <td>0.190918</td>\n",
       "      <td>0.191895</td>\n",
       "      <td>0.169434</td>\n",
       "      <td>0.144043</td>\n",
       "      <td>0.121094</td>\n",
       "      <td>0.097656</td>\n",
       "      <td>0.088867</td>\n",
       "      <td>...</td>\n",
       "      <td>4.207891</td>\n",
       "      <td>1.406096</td>\n",
       "      <td>14.699018</td>\n",
       "      <td>3.443357</td>\n",
       "      <td>-6.624914</td>\n",
       "      <td>-10.017124</td>\n",
       "      <td>-19.712032</td>\n",
       "      <td>-11.780302</td>\n",
       "      <td>1.844881</td>\n",
       "      <td>1</td>\n",
       "    </tr>\n",
       "    <tr>\n",
       "      <th>3</th>\n",
       "      <td>0.142090</td>\n",
       "      <td>0.209961</td>\n",
       "      <td>0.265625</td>\n",
       "      <td>0.233887</td>\n",
       "      <td>0.240723</td>\n",
       "      <td>0.222656</td>\n",
       "      <td>0.204590</td>\n",
       "      <td>0.193359</td>\n",
       "      <td>0.168457</td>\n",
       "      <td>0.166992</td>\n",
       "      <td>...</td>\n",
       "      <td>5.461617</td>\n",
       "      <td>11.566697</td>\n",
       "      <td>7.019311</td>\n",
       "      <td>0.363445</td>\n",
       "      <td>-1.898189</td>\n",
       "      <td>-4.825278</td>\n",
       "      <td>-8.484745</td>\n",
       "      <td>-7.578499</td>\n",
       "      <td>-0.116524</td>\n",
       "      <td>1</td>\n",
       "    </tr>\n",
       "    <tr>\n",
       "      <th>4</th>\n",
       "      <td>0.003906</td>\n",
       "      <td>0.005859</td>\n",
       "      <td>0.007812</td>\n",
       "      <td>0.010254</td>\n",
       "      <td>0.029297</td>\n",
       "      <td>0.031738</td>\n",
       "      <td>0.033203</td>\n",
       "      <td>0.031250</td>\n",
       "      <td>0.012695</td>\n",
       "      <td>0.010742</td>\n",
       "      <td>...</td>\n",
       "      <td>5.458148</td>\n",
       "      <td>1.508277</td>\n",
       "      <td>2.371638</td>\n",
       "      <td>4.184717</td>\n",
       "      <td>-0.171590</td>\n",
       "      <td>-7.751956</td>\n",
       "      <td>5.440473</td>\n",
       "      <td>-3.591162</td>\n",
       "      <td>4.499330</td>\n",
       "      <td>1</td>\n",
       "    </tr>\n",
       "  </tbody>\n",
       "</table>\n",
       "<p>5 rows × 26533 columns</p>\n",
       "</div>"
      ],
      "text/plain": [
       "          0         1         2         3         4         5         6  \\\n",
       "0  0.068848  0.152344  0.193359  0.201172  0.201172  0.148438  0.138672   \n",
       "1  0.090332  0.177734  0.224609  0.222168  0.218750  0.166992  0.157227   \n",
       "2  0.077637  0.133789  0.183594  0.190918  0.191895  0.169434  0.144043   \n",
       "3  0.142090  0.209961  0.265625  0.233887  0.240723  0.222656  0.204590   \n",
       "4  0.003906  0.005859  0.007812  0.010254  0.029297  0.031738  0.033203   \n",
       "\n",
       "          7         8         9  ...     26523      26524      26525  \\\n",
       "0  0.117188  0.105957  0.098145  ...  4.576486  -6.084824   0.972752   \n",
       "1  0.135254  0.125488  0.114746  ...  5.281944  -1.115308   2.201428   \n",
       "2  0.121094  0.097656  0.088867  ...  4.207891   1.406096  14.699018   \n",
       "3  0.193359  0.168457  0.166992  ...  5.461617  11.566697   7.019311   \n",
       "4  0.031250  0.012695  0.010742  ...  5.458148   1.508277   2.371638   \n",
       "\n",
       "      26526     26527      26528      26529      26530     26531  Emotions  \n",
       "0  0.282738 -7.802341  -2.931611 -14.446407 -15.551273 -2.425961         1  \n",
       "1 -1.344719 -8.766788  -5.328629  -9.067704  -9.602626 -0.964996         1  \n",
       "2  3.443357 -6.624914 -10.017124 -19.712032 -11.780302  1.844881         1  \n",
       "3  0.363445 -1.898189  -4.825278  -8.484745  -7.578499 -0.116524         1  \n",
       "4  4.184717 -0.171590  -7.751956   5.440473  -3.591162  4.499330         1  \n",
       "\n",
       "[5 rows x 26533 columns]"
      ]
     },
     "execution_count": 83,
     "metadata": {},
     "output_type": "execute_result"
    }
   ],
   "source": [
    "# Save the features in a CSV file\n",
    "Emotions = pd.DataFrame(X)\n",
    "Emotions['Emotions'] = Y\n",
    "Emotions.to_csv('emotion.csv', index=False)\n",
    "Emotions.head()"
   ]
  },
  {
   "cell_type": "code",
   "execution_count": 84,
   "id": "6b0e642a-6e23-413d-bbd7-b1657b720f79",
   "metadata": {},
   "outputs": [
    {
     "data": {
      "text/plain": [
       "(3612, 26533)"
      ]
     },
     "execution_count": 84,
     "metadata": {},
     "output_type": "execute_result"
    }
   ],
   "source": [
    "Emotions.shape"
   ]
  },
  {
   "cell_type": "code",
   "execution_count": 87,
   "id": "006d53b6-87d5-4013-a666-fe30a262209a",
   "metadata": {},
   "outputs": [
    {
     "name": "stdout",
     "output_type": "stream",
     "text": [
      "0           False\n",
      "1           False\n",
      "2           False\n",
      "3           False\n",
      "4           False\n",
      "            ...  \n",
      "26528        True\n",
      "26529        True\n",
      "26530        True\n",
      "26531        True\n",
      "Emotions    False\n",
      "Length: 26533, dtype: bool\n"
     ]
    }
   ],
   "source": [
    "print(Emotions.isna().any())"
   ]
  },
  {
   "cell_type": "code",
   "execution_count": 89,
   "id": "b343dccf-09c5-49ec-818b-dea996864103",
   "metadata": {},
   "outputs": [
    {
     "name": "stdout",
     "output_type": "stream",
     "text": [
      "0           False\n",
      "1           False\n",
      "2           False\n",
      "3           False\n",
      "4           False\n",
      "            ...  \n",
      "26528       False\n",
      "26529       False\n",
      "26530       False\n",
      "26531       False\n",
      "Emotions    False\n",
      "Length: 26533, dtype: bool\n"
     ]
    },
    {
     "data": {
      "text/plain": [
       "(3612, 26533)"
      ]
     },
     "execution_count": 89,
     "metadata": {},
     "output_type": "execute_result"
    }
   ],
   "source": [
    "Emotions=Emotions.fillna(0)\n",
    "print(Emotions.isna().any())\n",
    "Emotions.shape"
   ]
  },
  {
   "cell_type": "code",
   "execution_count": 91,
   "id": "8f8915e6-6b6b-4074-be03-1125abde5dc7",
   "metadata": {},
   "outputs": [
    {
     "data": {
      "text/plain": [
       "0           0\n",
       "1           0\n",
       "2           0\n",
       "3           0\n",
       "4           0\n",
       "           ..\n",
       "26528       0\n",
       "26529       0\n",
       "26530       0\n",
       "26531       0\n",
       "Emotions    0\n",
       "Length: 26533, dtype: int64"
      ]
     },
     "execution_count": 91,
     "metadata": {},
     "output_type": "execute_result"
    }
   ],
   "source": [
    "np.sum(Emotions.isna())"
   ]
  },
  {
   "cell_type": "code",
   "execution_count": 93,
   "id": "80913ac9-e1c1-4f8d-9a74-5591b82264ba",
   "metadata": {},
   "outputs": [],
   "source": [
    "#taking all rows and all cols without last col for X which include features\n",
    "#taking last col for Y, which include the emotions\n",
    "\n",
    "X = Emotions.iloc[: ,:-1].values\n",
    "Y = Emotions['Emotions'].values"
   ]
  },
  {
   "cell_type": "code",
   "execution_count": 95,
   "id": "25cd7298-fc3c-4150-b251-cbdc294c5c04",
   "metadata": {},
   "outputs": [
    {
     "data": {
      "text/plain": [
       "array([1, 1, 1, ..., 5, 5, 5], dtype=int64)"
      ]
     },
     "execution_count": 95,
     "metadata": {},
     "output_type": "execute_result"
    }
   ],
   "source": [
    "Y"
   ]
  },
  {
   "cell_type": "code",
   "execution_count": 97,
   "id": "bf28e9cd-c537-4250-8958-d119d10bf364",
   "metadata": {},
   "outputs": [],
   "source": [
    "from sklearn.preprocessing import StandardScaler, OneHotEncoder\n",
    "encoder = OneHotEncoder()\n",
    "Y = encoder.fit_transform(np.array(Y).reshape(-1,1)).toarray()"
   ]
  },
  {
   "cell_type": "code",
   "execution_count": 99,
   "id": "1f27391b-1d7c-4d9c-877b-e582132d1cdf",
   "metadata": {},
   "outputs": [
    {
     "name": "stdout",
     "output_type": "stream",
     "text": [
      "(3612, 5)\n"
     ]
    },
    {
     "data": {
      "text/plain": [
       "(3612, 26532)"
      ]
     },
     "execution_count": 99,
     "metadata": {},
     "output_type": "execute_result"
    }
   ],
   "source": [
    "print(Y.shape)\n",
    "\n",
    "X.shape"
   ]
  },
  {
   "cell_type": "code",
   "execution_count": 101,
   "id": "c70bfeec-c809-407d-8686-ceb708227236",
   "metadata": {},
   "outputs": [
    {
     "data": {
      "text/plain": [
       "((2889, 26532), (2889, 5), (723, 26532), (723, 5))"
      ]
     },
     "execution_count": 101,
     "metadata": {},
     "output_type": "execute_result"
    }
   ],
   "source": [
    "from sklearn.model_selection import train_test_split\n",
    "\n",
    "x_train, x_test, y_train, y_test = train_test_split(X, Y, random_state=0,test_size=0.2, shuffle=True)\n",
    "x_train.shape, y_train.shape, x_test.shape, y_test.shape"
   ]
  },
  {
   "cell_type": "code",
   "execution_count": 103,
   "id": "6dfa1e9c-07b7-40e4-9083-788c02289d8b",
   "metadata": {},
   "outputs": [],
   "source": [
    "#reshape for lstm\n",
    "X_train = x_train.reshape(x_train.shape[0] , x_train.shape[1] , 1)\n",
    "X_test = x_test.reshape(x_test.shape[0] , x_test.shape[1] , 1)"
   ]
  },
  {
   "cell_type": "code",
   "execution_count": 105,
   "id": "54f5f07b-449d-4b4d-bc37-a9170054012d",
   "metadata": {},
   "outputs": [
    {
     "data": {
      "text/plain": [
       "((2889, 26532), (2889, 5), (723, 26532), (723, 5))"
      ]
     },
     "execution_count": 105,
     "metadata": {},
     "output_type": "execute_result"
    }
   ],
   "source": [
    "# scaling our data with sklearn's Standard scaler\n",
    "scaler = StandardScaler()\n",
    "x_train = scaler.fit_transform(x_train)\n",
    "x_test = scaler.transform(x_test)\n",
    "x_train.shape, y_train.shape, x_test.shape, y_test.shape"
   ]
  },
  {
   "cell_type": "code",
   "execution_count": 109,
   "id": "9ca54670-6fc3-4bb3-a072-bc50650c10d9",
   "metadata": {},
   "outputs": [],
   "source": [
    "import keras\n",
    "from keras.preprocessing import sequence\n",
    "from keras.models import Sequential\n",
    "from keras.layers import Dense, Embedding\n",
    "from keras.layers import LSTM,BatchNormalization , GRU\n",
    "from keras.preprocessing.sequence import pad_sequences\n",
    "from tensorflow.keras.utils import to_categorical\n",
    "from keras.layers import Input, Flatten, Dropout, Activation\n",
    "from keras.layers import Conv1D, MaxPooling1D, AveragePooling1D\n",
    "from keras.models import Model\n",
    "from keras.callbacks import ModelCheckpoint\n",
    "from tensorflow.keras.optimizers import SGD"
   ]
  },
  {
   "cell_type": "code",
   "execution_count": 111,
   "id": "b295779a-b050-4431-8765-20cf0daba7e3",
   "metadata": {},
   "outputs": [],
   "source": [
    "from keras.callbacks import ModelCheckpoint, EarlyStopping,ReduceLROnPlateau\n",
    "model_checkpoint = ModelCheckpoint('best_model1_weights.h5', monitor='val_accuracy', save_best_only=True)"
   ]
  },
  {
   "cell_type": "code",
   "execution_count": 123,
   "id": "78fe75bb-83d2-4721-ad58-ffa830b29af6",
   "metadata": {},
   "outputs": [],
   "source": [
    "early_stop=EarlyStopping(monitor='val_accuracy',mode='auto',patience=5,restore_best_weights=True)\n",
    "lr_reduction=ReduceLROnPlateau(monitor='val_acc',patience=3,verbose=1,factor=0.5,min_lr=0.00001)"
   ]
  },
  {
   "cell_type": "code",
   "execution_count": 125,
   "id": "3d7cd8de-8a0c-4fb2-b860-1b3d33174ed8",
   "metadata": {},
   "outputs": [
    {
     "data": {
      "text/plain": [
       "((2889, 26532, 1), (2889, 5), (723, 26532, 1), (723, 5))"
      ]
     },
     "execution_count": 125,
     "metadata": {},
     "output_type": "execute_result"
    }
   ],
   "source": [
    "x_traincnn =np.expand_dims(x_train, axis=2)\n",
    "x_testcnn= np.expand_dims(x_test, axis=2)\n",
    "x_traincnn.shape, y_train.shape, x_testcnn.shape, y_test.shape\n",
    "#x_testcnn[0]"
   ]
  },
  {
   "cell_type": "code",
   "execution_count": 127,
   "id": "cd8091a0-6642-47fd-b953-ce692c0272e3",
   "metadata": {},
   "outputs": [
    {
     "data": {
      "text/html": [
       "<pre style=\"white-space:pre;overflow-x:auto;line-height:normal;font-family:Menlo,'DejaVu Sans Mono',consolas,'Courier New',monospace\"><span style=\"font-weight: bold\">Model: \"sequential_2\"</span>\n",
       "</pre>\n"
      ],
      "text/plain": [
       "\u001b[1mModel: \"sequential_2\"\u001b[0m\n"
      ]
     },
     "metadata": {},
     "output_type": "display_data"
    },
    {
     "data": {
      "text/html": [
       "<pre style=\"white-space:pre;overflow-x:auto;line-height:normal;font-family:Menlo,'DejaVu Sans Mono',consolas,'Courier New',monospace\">┏━━━━━━━━━━━━━━━━━━━━━━━━━━━━━━━━━┳━━━━━━━━━━━━━━━━━━━━━━━━┳━━━━━━━━━━━━━━━┓\n",
       "┃<span style=\"font-weight: bold\"> Layer (type)                    </span>┃<span style=\"font-weight: bold\"> Output Shape           </span>┃<span style=\"font-weight: bold\">       Param # </span>┃\n",
       "┡━━━━━━━━━━━━━━━━━━━━━━━━━━━━━━━━━╇━━━━━━━━━━━━━━━━━━━━━━━━╇━━━━━━━━━━━━━━━┩\n",
       "│ conv1d_4 (<span style=\"color: #0087ff; text-decoration-color: #0087ff\">Conv1D</span>)               │ (<span style=\"color: #00d7ff; text-decoration-color: #00d7ff\">None</span>, <span style=\"color: #00af00; text-decoration-color: #00af00\">26532</span>, <span style=\"color: #00af00; text-decoration-color: #00af00\">16</span>)      │            <span style=\"color: #00af00; text-decoration-color: #00af00\">96</span> │\n",
       "├─────────────────────────────────┼────────────────────────┼───────────────┤\n",
       "│ batch_normalization_6           │ (<span style=\"color: #00d7ff; text-decoration-color: #00d7ff\">None</span>, <span style=\"color: #00af00; text-decoration-color: #00af00\">26532</span>, <span style=\"color: #00af00; text-decoration-color: #00af00\">16</span>)      │            <span style=\"color: #00af00; text-decoration-color: #00af00\">64</span> │\n",
       "│ (<span style=\"color: #0087ff; text-decoration-color: #0087ff\">BatchNormalization</span>)            │                        │               │\n",
       "├─────────────────────────────────┼────────────────────────┼───────────────┤\n",
       "│ max_pooling1d_4 (<span style=\"color: #0087ff; text-decoration-color: #0087ff\">MaxPooling1D</span>)  │ (<span style=\"color: #00d7ff; text-decoration-color: #00d7ff\">None</span>, <span style=\"color: #00af00; text-decoration-color: #00af00\">13266</span>, <span style=\"color: #00af00; text-decoration-color: #00af00\">16</span>)      │             <span style=\"color: #00af00; text-decoration-color: #00af00\">0</span> │\n",
       "├─────────────────────────────────┼────────────────────────┼───────────────┤\n",
       "│ conv1d_5 (<span style=\"color: #0087ff; text-decoration-color: #0087ff\">Conv1D</span>)               │ (<span style=\"color: #00d7ff; text-decoration-color: #00d7ff\">None</span>, <span style=\"color: #00af00; text-decoration-color: #00af00\">13266</span>, <span style=\"color: #00af00; text-decoration-color: #00af00\">8</span>)       │           <span style=\"color: #00af00; text-decoration-color: #00af00\">392</span> │\n",
       "├─────────────────────────────────┼────────────────────────┼───────────────┤\n",
       "│ batch_normalization_7           │ (<span style=\"color: #00d7ff; text-decoration-color: #00d7ff\">None</span>, <span style=\"color: #00af00; text-decoration-color: #00af00\">13266</span>, <span style=\"color: #00af00; text-decoration-color: #00af00\">8</span>)       │            <span style=\"color: #00af00; text-decoration-color: #00af00\">32</span> │\n",
       "│ (<span style=\"color: #0087ff; text-decoration-color: #0087ff\">BatchNormalization</span>)            │                        │               │\n",
       "├─────────────────────────────────┼────────────────────────┼───────────────┤\n",
       "│ max_pooling1d_5 (<span style=\"color: #0087ff; text-decoration-color: #0087ff\">MaxPooling1D</span>)  │ (<span style=\"color: #00d7ff; text-decoration-color: #00d7ff\">None</span>, <span style=\"color: #00af00; text-decoration-color: #00af00\">6633</span>, <span style=\"color: #00af00; text-decoration-color: #00af00\">8</span>)        │             <span style=\"color: #00af00; text-decoration-color: #00af00\">0</span> │\n",
       "├─────────────────────────────────┼────────────────────────┼───────────────┤\n",
       "│ dropout_2 (<span style=\"color: #0087ff; text-decoration-color: #0087ff\">Dropout</span>)             │ (<span style=\"color: #00d7ff; text-decoration-color: #00d7ff\">None</span>, <span style=\"color: #00af00; text-decoration-color: #00af00\">6633</span>, <span style=\"color: #00af00; text-decoration-color: #00af00\">8</span>)        │             <span style=\"color: #00af00; text-decoration-color: #00af00\">0</span> │\n",
       "├─────────────────────────────────┼────────────────────────┼───────────────┤\n",
       "│ flatten_2 (<span style=\"color: #0087ff; text-decoration-color: #0087ff\">Flatten</span>)             │ (<span style=\"color: #00d7ff; text-decoration-color: #00d7ff\">None</span>, <span style=\"color: #00af00; text-decoration-color: #00af00\">53064</span>)          │             <span style=\"color: #00af00; text-decoration-color: #00af00\">0</span> │\n",
       "├─────────────────────────────────┼────────────────────────┼───────────────┤\n",
       "│ dense_4 (<span style=\"color: #0087ff; text-decoration-color: #0087ff\">Dense</span>)                 │ (<span style=\"color: #00d7ff; text-decoration-color: #00d7ff\">None</span>, <span style=\"color: #00af00; text-decoration-color: #00af00\">8</span>)              │       <span style=\"color: #00af00; text-decoration-color: #00af00\">424,520</span> │\n",
       "├─────────────────────────────────┼────────────────────────┼───────────────┤\n",
       "│ batch_normalization_8           │ (<span style=\"color: #00d7ff; text-decoration-color: #00d7ff\">None</span>, <span style=\"color: #00af00; text-decoration-color: #00af00\">8</span>)              │            <span style=\"color: #00af00; text-decoration-color: #00af00\">32</span> │\n",
       "│ (<span style=\"color: #0087ff; text-decoration-color: #0087ff\">BatchNormalization</span>)            │                        │               │\n",
       "├─────────────────────────────────┼────────────────────────┼───────────────┤\n",
       "│ dense_5 (<span style=\"color: #0087ff; text-decoration-color: #0087ff\">Dense</span>)                 │ (<span style=\"color: #00d7ff; text-decoration-color: #00d7ff\">None</span>, <span style=\"color: #00af00; text-decoration-color: #00af00\">5</span>)              │            <span style=\"color: #00af00; text-decoration-color: #00af00\">45</span> │\n",
       "└─────────────────────────────────┴────────────────────────┴───────────────┘\n",
       "</pre>\n"
      ],
      "text/plain": [
       "┏━━━━━━━━━━━━━━━━━━━━━━━━━━━━━━━━━┳━━━━━━━━━━━━━━━━━━━━━━━━┳━━━━━━━━━━━━━━━┓\n",
       "┃\u001b[1m \u001b[0m\u001b[1mLayer (type)                   \u001b[0m\u001b[1m \u001b[0m┃\u001b[1m \u001b[0m\u001b[1mOutput Shape          \u001b[0m\u001b[1m \u001b[0m┃\u001b[1m \u001b[0m\u001b[1m      Param #\u001b[0m\u001b[1m \u001b[0m┃\n",
       "┡━━━━━━━━━━━━━━━━━━━━━━━━━━━━━━━━━╇━━━━━━━━━━━━━━━━━━━━━━━━╇━━━━━━━━━━━━━━━┩\n",
       "│ conv1d_4 (\u001b[38;5;33mConv1D\u001b[0m)               │ (\u001b[38;5;45mNone\u001b[0m, \u001b[38;5;34m26532\u001b[0m, \u001b[38;5;34m16\u001b[0m)      │            \u001b[38;5;34m96\u001b[0m │\n",
       "├─────────────────────────────────┼────────────────────────┼───────────────┤\n",
       "│ batch_normalization_6           │ (\u001b[38;5;45mNone\u001b[0m, \u001b[38;5;34m26532\u001b[0m, \u001b[38;5;34m16\u001b[0m)      │            \u001b[38;5;34m64\u001b[0m │\n",
       "│ (\u001b[38;5;33mBatchNormalization\u001b[0m)            │                        │               │\n",
       "├─────────────────────────────────┼────────────────────────┼───────────────┤\n",
       "│ max_pooling1d_4 (\u001b[38;5;33mMaxPooling1D\u001b[0m)  │ (\u001b[38;5;45mNone\u001b[0m, \u001b[38;5;34m13266\u001b[0m, \u001b[38;5;34m16\u001b[0m)      │             \u001b[38;5;34m0\u001b[0m │\n",
       "├─────────────────────────────────┼────────────────────────┼───────────────┤\n",
       "│ conv1d_5 (\u001b[38;5;33mConv1D\u001b[0m)               │ (\u001b[38;5;45mNone\u001b[0m, \u001b[38;5;34m13266\u001b[0m, \u001b[38;5;34m8\u001b[0m)       │           \u001b[38;5;34m392\u001b[0m │\n",
       "├─────────────────────────────────┼────────────────────────┼───────────────┤\n",
       "│ batch_normalization_7           │ (\u001b[38;5;45mNone\u001b[0m, \u001b[38;5;34m13266\u001b[0m, \u001b[38;5;34m8\u001b[0m)       │            \u001b[38;5;34m32\u001b[0m │\n",
       "│ (\u001b[38;5;33mBatchNormalization\u001b[0m)            │                        │               │\n",
       "├─────────────────────────────────┼────────────────────────┼───────────────┤\n",
       "│ max_pooling1d_5 (\u001b[38;5;33mMaxPooling1D\u001b[0m)  │ (\u001b[38;5;45mNone\u001b[0m, \u001b[38;5;34m6633\u001b[0m, \u001b[38;5;34m8\u001b[0m)        │             \u001b[38;5;34m0\u001b[0m │\n",
       "├─────────────────────────────────┼────────────────────────┼───────────────┤\n",
       "│ dropout_2 (\u001b[38;5;33mDropout\u001b[0m)             │ (\u001b[38;5;45mNone\u001b[0m, \u001b[38;5;34m6633\u001b[0m, \u001b[38;5;34m8\u001b[0m)        │             \u001b[38;5;34m0\u001b[0m │\n",
       "├─────────────────────────────────┼────────────────────────┼───────────────┤\n",
       "│ flatten_2 (\u001b[38;5;33mFlatten\u001b[0m)             │ (\u001b[38;5;45mNone\u001b[0m, \u001b[38;5;34m53064\u001b[0m)          │             \u001b[38;5;34m0\u001b[0m │\n",
       "├─────────────────────────────────┼────────────────────────┼───────────────┤\n",
       "│ dense_4 (\u001b[38;5;33mDense\u001b[0m)                 │ (\u001b[38;5;45mNone\u001b[0m, \u001b[38;5;34m8\u001b[0m)              │       \u001b[38;5;34m424,520\u001b[0m │\n",
       "├─────────────────────────────────┼────────────────────────┼───────────────┤\n",
       "│ batch_normalization_8           │ (\u001b[38;5;45mNone\u001b[0m, \u001b[38;5;34m8\u001b[0m)              │            \u001b[38;5;34m32\u001b[0m │\n",
       "│ (\u001b[38;5;33mBatchNormalization\u001b[0m)            │                        │               │\n",
       "├─────────────────────────────────┼────────────────────────┼───────────────┤\n",
       "│ dense_5 (\u001b[38;5;33mDense\u001b[0m)                 │ (\u001b[38;5;45mNone\u001b[0m, \u001b[38;5;34m5\u001b[0m)              │            \u001b[38;5;34m45\u001b[0m │\n",
       "└─────────────────────────────────┴────────────────────────┴───────────────┘\n"
      ]
     },
     "metadata": {},
     "output_type": "display_data"
    },
    {
     "data": {
      "text/html": [
       "<pre style=\"white-space:pre;overflow-x:auto;line-height:normal;font-family:Menlo,'DejaVu Sans Mono',consolas,'Courier New',monospace\"><span style=\"font-weight: bold\"> Total params: </span><span style=\"color: #00af00; text-decoration-color: #00af00\">425,181</span> (1.62 MB)\n",
       "</pre>\n"
      ],
      "text/plain": [
       "\u001b[1m Total params: \u001b[0m\u001b[38;5;34m425,181\u001b[0m (1.62 MB)\n"
      ]
     },
     "metadata": {},
     "output_type": "display_data"
    },
    {
     "data": {
      "text/html": [
       "<pre style=\"white-space:pre;overflow-x:auto;line-height:normal;font-family:Menlo,'DejaVu Sans Mono',consolas,'Courier New',monospace\"><span style=\"font-weight: bold\"> Trainable params: </span><span style=\"color: #00af00; text-decoration-color: #00af00\">425,117</span> (1.62 MB)\n",
       "</pre>\n"
      ],
      "text/plain": [
       "\u001b[1m Trainable params: \u001b[0m\u001b[38;5;34m425,117\u001b[0m (1.62 MB)\n"
      ]
     },
     "metadata": {},
     "output_type": "display_data"
    },
    {
     "data": {
      "text/html": [
       "<pre style=\"white-space:pre;overflow-x:auto;line-height:normal;font-family:Menlo,'DejaVu Sans Mono',consolas,'Courier New',monospace\"><span style=\"font-weight: bold\"> Non-trainable params: </span><span style=\"color: #00af00; text-decoration-color: #00af00\">64</span> (256.00 B)\n",
       "</pre>\n"
      ],
      "text/plain": [
       "\u001b[1m Non-trainable params: \u001b[0m\u001b[38;5;34m64\u001b[0m (256.00 B)\n"
      ]
     },
     "metadata": {},
     "output_type": "display_data"
    }
   ],
   "source": [
    "from tensorflow.keras.models import Sequential\n",
    "from tensorflow.keras.layers import Conv1D, BatchNormalization, MaxPool1D, Dropout, Flatten, Dense\n",
    "\n",
    "\n",
    "model = Sequential([\n",
    "    Conv1D(16, kernel_size=5, strides=1, padding='same', activation='relu', input_shape=(X_train.shape[1], 1)),\n",
    "    BatchNormalization(),\n",
    "    MaxPool1D(pool_size=5, strides=2, padding='same'),\n",
    "    \n",
    "    Conv1D(8,kernel_size=3,strides=1,padding='same',activation='relu'),\n",
    "    BatchNormalization(),\n",
    "    MaxPool1D(pool_size=3,strides=2,padding='same'),\n",
    "    Dropout(0.3),  # Add dropout layer after the fifth max pooling layer\n",
    "    \n",
    "    Flatten(),\n",
    "    Dense(8,activation='relu'),\n",
    "    BatchNormalization(),\n",
    "    Dense(5,activation='softmax')\n",
    "])\n",
    "model.compile(optimizer='adam',loss='categorical_crossentropy',metrics=['accuracy'])\n",
    "model.summary()"
   ]
  },
  {
   "cell_type": "code",
   "execution_count": 129,
   "id": "2fd91029-45ef-4653-b608-d330679e2b39",
   "metadata": {},
   "outputs": [
    {
     "name": "stdout",
     "output_type": "stream",
     "text": [
      "Epoch 1/30\n",
      "\u001b[1m180/181\u001b[0m \u001b[32m━━━━━━━━━━━━━━━━━━━\u001b[0m\u001b[37m━\u001b[0m \u001b[1m0s\u001b[0m 81ms/step - accuracy: 0.3014 - loss: 1.6409"
     ]
    },
    {
     "name": "stderr",
     "output_type": "stream",
     "text": [
      "WARNING:absl:You are saving your model as an HDF5 file via `model.save()` or `keras.saving.save_model(model)`. This file format is considered legacy. We recommend using instead the native Keras format, e.g. `model.save('my_model.keras')` or `keras.saving.save_model(model, 'my_model.keras')`. \n"
     ]
    },
    {
     "name": "stdout",
     "output_type": "stream",
     "text": [
      "\u001b[1m181/181\u001b[0m \u001b[32m━━━━━━━━━━━━━━━━━━━━\u001b[0m\u001b[37m\u001b[0m \u001b[1m17s\u001b[0m 86ms/step - accuracy: 0.3023 - loss: 1.6393 - val_accuracy: 0.3555 - val_loss: 1.5200 - learning_rate: 0.0010\n",
      "Epoch 2/30\n",
      "\u001b[1m180/181\u001b[0m \u001b[32m━━━━━━━━━━━━━━━━━━━\u001b[0m\u001b[37m━\u001b[0m \u001b[1m0s\u001b[0m 79ms/step - accuracy: 0.7798 - loss: 0.8471"
     ]
    },
    {
     "name": "stderr",
     "output_type": "stream",
     "text": [
      "WARNING:absl:You are saving your model as an HDF5 file via `model.save()` or `keras.saving.save_model(model)`. This file format is considered legacy. We recommend using instead the native Keras format, e.g. `model.save('my_model.keras')` or `keras.saving.save_model(model, 'my_model.keras')`. \n"
     ]
    },
    {
     "name": "stdout",
     "output_type": "stream",
     "text": [
      "\u001b[1m181/181\u001b[0m \u001b[32m━━━━━━━━━━━━━━━━━━━━\u001b[0m\u001b[37m\u001b[0m \u001b[1m15s\u001b[0m 82ms/step - accuracy: 0.7803 - loss: 0.8459 - val_accuracy: 0.8368 - val_loss: 0.9016 - learning_rate: 0.0010\n",
      "Epoch 3/30\n",
      "\u001b[1m180/181\u001b[0m \u001b[32m━━━━━━━━━━━━━━━━━━━\u001b[0m\u001b[37m━\u001b[0m \u001b[1m0s\u001b[0m 77ms/step - accuracy: 0.9658 - loss: 0.3501"
     ]
    },
    {
     "name": "stderr",
     "output_type": "stream",
     "text": [
      "WARNING:absl:You are saving your model as an HDF5 file via `model.save()` or `keras.saving.save_model(model)`. This file format is considered legacy. We recommend using instead the native Keras format, e.g. `model.save('my_model.keras')` or `keras.saving.save_model(model, 'my_model.keras')`. \n"
     ]
    },
    {
     "name": "stdout",
     "output_type": "stream",
     "text": [
      "\u001b[1m181/181\u001b[0m \u001b[32m━━━━━━━━━━━━━━━━━━━━\u001b[0m\u001b[37m\u001b[0m \u001b[1m15s\u001b[0m 80ms/step - accuracy: 0.9659 - loss: 0.3496 - val_accuracy: 0.9599 - val_loss: 0.3604 - learning_rate: 0.0010\n",
      "Epoch 4/30\n",
      "\u001b[1m180/181\u001b[0m \u001b[32m━━━━━━━━━━━━━━━━━━━\u001b[0m\u001b[37m━\u001b[0m \u001b[1m0s\u001b[0m 76ms/step - accuracy: 0.9923 - loss: 0.1574"
     ]
    },
    {
     "name": "stderr",
     "output_type": "stream",
     "text": [
      "WARNING:absl:You are saving your model as an HDF5 file via `model.save()` or `keras.saving.save_model(model)`. This file format is considered legacy. We recommend using instead the native Keras format, e.g. `model.save('my_model.keras')` or `keras.saving.save_model(model, 'my_model.keras')`. \n"
     ]
    },
    {
     "name": "stdout",
     "output_type": "stream",
     "text": [
      "\u001b[1m181/181\u001b[0m \u001b[32m━━━━━━━━━━━━━━━━━━━━\u001b[0m\u001b[37m\u001b[0m \u001b[1m14s\u001b[0m 79ms/step - accuracy: 0.9923 - loss: 0.1573 - val_accuracy: 0.9710 - val_loss: 0.1915 - learning_rate: 0.0010\n",
      "Epoch 5/30\n",
      "\u001b[1m180/181\u001b[0m \u001b[32m━━━━━━━━━━━━━━━━━━━\u001b[0m\u001b[37m━\u001b[0m \u001b[1m0s\u001b[0m 78ms/step - accuracy: 0.9941 - loss: 0.1003"
     ]
    },
    {
     "name": "stderr",
     "output_type": "stream",
     "text": [
      "WARNING:absl:You are saving your model as an HDF5 file via `model.save()` or `keras.saving.save_model(model)`. This file format is considered legacy. We recommend using instead the native Keras format, e.g. `model.save('my_model.keras')` or `keras.saving.save_model(model, 'my_model.keras')`. \n"
     ]
    },
    {
     "name": "stdout",
     "output_type": "stream",
     "text": [
      "\u001b[1m181/181\u001b[0m \u001b[32m━━━━━━━━━━━━━━━━━━━━\u001b[0m\u001b[37m\u001b[0m \u001b[1m15s\u001b[0m 81ms/step - accuracy: 0.9941 - loss: 0.1002 - val_accuracy: 0.9834 - val_loss: 0.1425 - learning_rate: 0.0010\n",
      "Epoch 6/30\n",
      "\u001b[1m181/181\u001b[0m \u001b[32m━━━━━━━━━━━━━━━━━━━━\u001b[0m\u001b[37m\u001b[0m \u001b[1m14s\u001b[0m 79ms/step - accuracy: 1.0000 - loss: 0.0565 - val_accuracy: 0.9765 - val_loss: 0.1035 - learning_rate: 0.0010\n",
      "Epoch 7/30\n",
      "\u001b[1m181/181\u001b[0m \u001b[32m━━━━━━━━━━━━━━━━━━━━\u001b[0m\u001b[37m\u001b[0m \u001b[1m15s\u001b[0m 81ms/step - accuracy: 0.9988 - loss: 0.0372 - val_accuracy: 0.9557 - val_loss: 0.1506 - learning_rate: 0.0010\n",
      "Epoch 8/30\n",
      "\u001b[1m181/181\u001b[0m \u001b[32m━━━━━━━━━━━━━━━━━━━━\u001b[0m\u001b[37m\u001b[0m \u001b[1m15s\u001b[0m 83ms/step - accuracy: 0.9959 - loss: 0.0452 - val_accuracy: 0.9806 - val_loss: 0.1096 - learning_rate: 0.0010\n",
      "Epoch 9/30\n",
      "\u001b[1m181/181\u001b[0m \u001b[32m━━━━━━━━━━━━━━━━━━━━\u001b[0m\u001b[37m\u001b[0m \u001b[1m16s\u001b[0m 87ms/step - accuracy: 0.9963 - loss: 0.0395 - val_accuracy: 0.9557 - val_loss: 0.1971 - learning_rate: 0.0010\n",
      "Epoch 10/30\n",
      "\u001b[1m181/181\u001b[0m \u001b[32m━━━━━━━━━━━━━━━━━━━━\u001b[0m\u001b[37m\u001b[0m \u001b[1m16s\u001b[0m 87ms/step - accuracy: 0.9942 - loss: 0.0404 - val_accuracy: 0.9765 - val_loss: 0.0966 - learning_rate: 0.0010\n"
     ]
    }
   ],
   "source": [
    "history=model.fit(x_traincnn, y_train,\n",
    "                  epochs=30,\n",
    "                  validation_data=(x_testcnn, y_test),\n",
    "                  batch_size=16,\n",
    "                  callbacks=[early_stop,lr_reduction,model_checkpoint])"
   ]
  },
  {
   "cell_type": "code",
   "execution_count": 131,
   "id": "ff9d9b6f-5b02-49b8-9cdf-a0fd3a69b6d9",
   "metadata": {},
   "outputs": [
    {
     "name": "stdout",
     "output_type": "stream",
     "text": [
      "\u001b[1m23/23\u001b[0m \u001b[32m━━━━━━━━━━━━━━━━━━━━\u001b[0m\u001b[37m\u001b[0m \u001b[1m1s\u001b[0m 34ms/step - accuracy: 0.9824 - loss: 0.1366\n",
      "Accuracy of our model on test data :  98.34024906158447 %\n"
     ]
    }
   ],
   "source": [
    "print(\"Accuracy of our model on test data : \" , model.evaluate(x_testcnn,y_test)[1]*100 , \"%\")"
   ]
  },
  {
   "cell_type": "code",
   "execution_count": 133,
   "id": "f657fa00-97c7-42b1-8dcb-b94923067e22",
   "metadata": {},
   "outputs": [
    {
     "name": "stdout",
     "output_type": "stream",
     "text": [
      "\u001b[1m23/23\u001b[0m \u001b[32m━━━━━━━━━━━━━━━━━━━━\u001b[0m\u001b[37m\u001b[0m \u001b[1m1s\u001b[0m 40ms/step\n"
     ]
    },
    {
     "data": {
      "text/html": [
       "<div>\n",
       "<style scoped>\n",
       "    .dataframe tbody tr th:only-of-type {\n",
       "        vertical-align: middle;\n",
       "    }\n",
       "\n",
       "    .dataframe tbody tr th {\n",
       "        vertical-align: top;\n",
       "    }\n",
       "\n",
       "    .dataframe thead th {\n",
       "        text-align: right;\n",
       "    }\n",
       "</style>\n",
       "<table border=\"1\" class=\"dataframe\">\n",
       "  <thead>\n",
       "    <tr style=\"text-align: right;\">\n",
       "      <th></th>\n",
       "      <th>Predicted Labels</th>\n",
       "      <th>Actual Labels</th>\n",
       "    </tr>\n",
       "  </thead>\n",
       "  <tbody>\n",
       "    <tr>\n",
       "      <th>0</th>\n",
       "      <td>3</td>\n",
       "      <td>3</td>\n",
       "    </tr>\n",
       "    <tr>\n",
       "      <th>1</th>\n",
       "      <td>4</td>\n",
       "      <td>4</td>\n",
       "    </tr>\n",
       "    <tr>\n",
       "      <th>2</th>\n",
       "      <td>2</td>\n",
       "      <td>2</td>\n",
       "    </tr>\n",
       "    <tr>\n",
       "      <th>3</th>\n",
       "      <td>1</td>\n",
       "      <td>1</td>\n",
       "    </tr>\n",
       "    <tr>\n",
       "      <th>4</th>\n",
       "      <td>3</td>\n",
       "      <td>3</td>\n",
       "    </tr>\n",
       "    <tr>\n",
       "      <th>5</th>\n",
       "      <td>3</td>\n",
       "      <td>3</td>\n",
       "    </tr>\n",
       "    <tr>\n",
       "      <th>6</th>\n",
       "      <td>2</td>\n",
       "      <td>2</td>\n",
       "    </tr>\n",
       "    <tr>\n",
       "      <th>7</th>\n",
       "      <td>3</td>\n",
       "      <td>3</td>\n",
       "    </tr>\n",
       "    <tr>\n",
       "      <th>8</th>\n",
       "      <td>2</td>\n",
       "      <td>2</td>\n",
       "    </tr>\n",
       "    <tr>\n",
       "      <th>9</th>\n",
       "      <td>2</td>\n",
       "      <td>2</td>\n",
       "    </tr>\n",
       "  </tbody>\n",
       "</table>\n",
       "</div>"
      ],
      "text/plain": [
       "   Predicted Labels  Actual Labels\n",
       "0                 3              3\n",
       "1                 4              4\n",
       "2                 2              2\n",
       "3                 1              1\n",
       "4                 3              3\n",
       "5                 3              3\n",
       "6                 2              2\n",
       "7                 3              3\n",
       "8                 2              2\n",
       "9                 2              2"
      ]
     },
     "execution_count": 133,
     "metadata": {},
     "output_type": "execute_result"
    }
   ],
   "source": [
    "# predicting on test data.\n",
    "pred_test0 = model.predict(x_testcnn)\n",
    "y_pred0 = encoder.inverse_transform(pred_test0)\n",
    "y_test0 = encoder.inverse_transform(y_test)\n",
    "\n",
    "# Check for random predictions\n",
    "df0 = pd.DataFrame(columns=['Predicted Labels', 'Actual Labels'])\n",
    "df0['Predicted Labels'] = y_pred0.flatten()\n",
    "df0['Actual Labels'] = y_test0.flatten()\n",
    "\n",
    "df0.head(10)"
   ]
  },
  {
   "cell_type": "code",
   "execution_count": 139,
   "id": "8eee1e32-0fe5-4675-b724-6a4fb3e65d44",
   "metadata": {},
   "outputs": [
    {
     "name": "stdout",
     "output_type": "stream",
     "text": [
      "[[150   3   2   0   1]\n",
      " [  0 121   0   0   0]\n",
      " [  1   1 162   1   0]\n",
      " [  0   0   0 140   0]\n",
      " [  3   0   0   0 138]]\n",
      "              precision    recall  f1-score   support\n",
      "\n",
      "           1       0.97      0.96      0.97       156\n",
      "           2       0.97      1.00      0.98       121\n",
      "           3       0.99      0.98      0.98       165\n",
      "           4       0.99      1.00      1.00       140\n",
      "           5       0.99      0.98      0.99       141\n",
      "\n",
      "    accuracy                           0.98       723\n",
      "   macro avg       0.98      0.98      0.98       723\n",
      "weighted avg       0.98      0.98      0.98       723\n",
      "\n"
     ]
    }
   ],
   "source": [
    "from sklearn.metrics import confusion_matrix,classification_report\n",
    "cm = confusion_matrix(y_test0, y_pred0)\n",
    "print(cm)\n",
    "print(classification_report(y_test0, y_pred0))"
   ]
  },
  {
   "cell_type": "code",
   "execution_count": 141,
   "id": "d6445b99-1b0e-48df-be37-3c8dc42bda7a",
   "metadata": {},
   "outputs": [
    {
     "name": "stderr",
     "output_type": "stream",
     "text": [
      "WARNING:absl:You are saving your model as an HDF5 file via `model.save()` or `keras.saving.save_model(model)`. This file format is considered legacy. We recommend using instead the native Keras format, e.g. `model.save('my_model.keras')` or `keras.saving.save_model(model, 'my_model.keras')`. \n"
     ]
    }
   ],
   "source": [
    "# Save in the recommended .keras format\n",
    "model.save(\"my_model.keras\")\n",
    "\n",
    "# Save in the legacy .h5 format\n",
    "model.save(\"my_model.h5\")"
   ]
  },
  {
   "cell_type": "markdown",
   "id": "fb9e70c3-16f9-44c4-a7e0-2aef6b8d79a7",
   "metadata": {},
   "source": [
    "Here are the broad emotion names for each cluster based on the extracted data:\n",
    "\n",
    "Cluster 1: Energetic & Bold (Boisterous, Confident, Passionate, Rousing, Rowdy)\n",
    "\n",
    "Cluster 2: Happy & Playful (Amiable, Cheerful, Fun, Rollicking, Sweet)\n",
    "\n",
    "Cluster 3: Melancholic & Reflective (Autumnal, Bittersweet, Brooding, Literate, Poignant, Wistful)\n",
    "\n",
    "Cluster 4: Humorous & Quirky (Campy, Humorous, Silly, Witty, Wry, Whimsical)\n",
    "\n",
    "Cluster 5: Intense & Dramatic (Aggressive, Fiery, Intense, Tense/Anxious, Visceral, Volatile)"
   ]
  },
  {
   "cell_type": "code",
   "execution_count": null,
   "id": "36ffe0d0-79d9-44e6-9cd4-0771675388d4",
   "metadata": {},
   "outputs": [],
   "source": []
  }
 ],
 "metadata": {
  "kernelspec": {
   "display_name": "Python 3 (ipykernel)",
   "language": "python",
   "name": "python3"
  },
  "language_info": {
   "codemirror_mode": {
    "name": "ipython",
    "version": 3
   },
   "file_extension": ".py",
   "mimetype": "text/x-python",
   "name": "python",
   "nbconvert_exporter": "python",
   "pygments_lexer": "ipython3",
   "version": "3.12.7"
  }
 },
 "nbformat": 4,
 "nbformat_minor": 5
}
